{
 "cells": [
  {
   "cell_type": "markdown",
   "id": "8ff6ab49",
   "metadata": {
    "id": "88080462",
    "papermill": {
     "duration": 0.012486,
     "end_time": "2023-02-03T08:39:30.260344",
     "exception": false,
     "start_time": "2023-02-03T08:39:30.247858",
     "status": "completed"
    },
    "tags": []
   },
   "source": [
    "# Kaggle Challenge - Learning Equality"
   ]
  },
  {
   "cell_type": "markdown",
   "id": "b2489318",
   "metadata": {
    "id": "e44162a6",
    "papermill": {
     "duration": 0.012204,
     "end_time": "2023-02-03T08:39:30.283749",
     "exception": false,
     "start_time": "2023-02-03T08:39:30.271545",
     "status": "completed"
    },
    "tags": []
   },
   "source": [
    "https://www.kaggle.com/competitions/learning-equality-curriculum-recommendations/overview\n",
    "\n",
    "## Goal of the Competition\n",
    "\n",
    "The goal of this competition is to streamline the process of matching educational content to specific topics in a curriculum. You will develop an accurate and efficient model trained on a library of K-12 educational materials that have been organized into a variety of topic taxonomies. These materials are in diverse languages, and cover a wide range of topics, particularly in STEM (Science, Technology, Engineering, and Mathematics).\n",
    "\n",
    "Your work will enable students and educators to more readily access relevant educational content to support and supplement learning."
   ]
  },
  {
   "cell_type": "markdown",
   "id": "36a30ced",
   "metadata": {
    "id": "d827eb0b",
    "papermill": {
     "duration": 0.01058,
     "end_time": "2023-02-03T08:39:30.305285",
     "exception": false,
     "start_time": "2023-02-03T08:39:30.294705",
     "status": "completed"
    },
    "tags": []
   },
   "source": [
    "## Submission File\n",
    "\n",
    "For each **topic_id** in the test set, you must predict a space-delimited list of recommended **content_ids** for that topic. The file should contain a header and have the following format:\n",
    "\n",
    "~~~\n",
    "topic_id,content_ids\n",
    "t_00004da3a1b2,c_1108dd0c7a5d c_376c5a8eb028 c_5bc0e1e2cba0 c_76231f9d0b5e\n",
    "t_00068291e9a4,c_639ea2ef9c95 c_89ce9367be10 c_ac1672cdcd2c c_ebb7fdf10a7e\n",
    "t_00069b63a70a,c_11a1dc0bfb99\n",
    "...\n",
    "~~~"
   ]
  },
  {
   "cell_type": "markdown",
   "id": "56feeb8a",
   "metadata": {
    "id": "de5f7ef4",
    "papermill": {
     "duration": 0.010806,
     "end_time": "2023-02-03T08:39:30.326714",
     "exception": false,
     "start_time": "2023-02-03T08:39:30.315908",
     "status": "completed"
    },
    "tags": []
   },
   "source": [
    "## Scoring\n",
    "Mean F2 score"
   ]
  },
  {
   "cell_type": "markdown",
   "id": "db54c40a",
   "metadata": {
    "id": "b86e3e62",
    "papermill": {
     "duration": 0.010801,
     "end_time": "2023-02-03T08:39:30.348134",
     "exception": false,
     "start_time": "2023-02-03T08:39:30.337333",
     "status": "completed"
    },
    "tags": []
   },
   "source": [
    "## Evaluation Metric - Efficiency Scoring\n",
    "We compute a submission's efficiency score by:\n",
    "\n",
    "\\begin{equation} \\text{Efficiency} = \\frac{1}{ \\text{Benchmark} - \\max\\text{F2} }\\text{F2} + \\frac{1}{32400}\\text{RuntimeSeconds} \\end{equation}\n",
    "\n",
    "\n",
    "where **F2** is the submission's score on the main competition metric, **Benchmark** is the score of the benchmark sample_submission.csv, **maxF2** is the maximum  of all submissions on the Private Leaderboard, and **RuntimeSeconds** is the number of seconds it takes for the submission to be evaluated. The objective is to minimize the efficiency score.\n",
    "\n",
    "During the training period of the competition, you may see a leaderboard for the public test data in the following notebook, updated daily: Efficiency Leaderboard. After the competition ends, we will update this leaderboard with efficiency scores on the private data. During the training period, this leaderboard will show only the rank of each team, but not the complete score."
   ]
  },
  {
   "cell_type": "markdown",
   "id": "ae472406",
   "metadata": {
    "papermill": {
     "duration": 0.010816,
     "end_time": "2023-02-03T08:39:30.369679",
     "exception": false,
     "start_time": "2023-02-03T08:39:30.358863",
     "status": "completed"
    },
    "tags": []
   },
   "source": [
    "# How To Solve This Challenge"
   ]
  },
  {
   "cell_type": "markdown",
   "id": "29290e82",
   "metadata": {
    "papermill": {
     "duration": 0.010732,
     "end_time": "2023-02-03T08:39:30.391144",
     "exception": false,
     "start_time": "2023-02-03T08:39:30.380412",
     "status": "completed"
    },
    "tags": []
   },
   "source": [
    "## Model Train\n",
    "\n",
    "* Calculate embeddings: for topics (title, description) and contents (title, description and text), use SentenceTransformer. Split sentences by language.\n",
    "* Use KNN model: train model with content embeddings and use topic embeddings to predict content matches, use k=10, 20, 30, 50\n",
    "* Calculate F2 to choose best k.\n",
    "* Submit predictions\n",
    "* Set X_train, X_test, y_train, y_test: split by category (use 'aligned' for validation), set has_content = True for validation. Check dimensions\n",
    "* Use all features for X, including topic_id and content_id, topic_title and content_title. Use the KNN predictions to \"mount\" X and y. Check dimensions.\n",
    "* Use correlations to get y: if KNN topic-content match with correlations, y is 1, else is 0\n",
    "* Use SVM RBF , KNN or another classifier for binary classification\n",
    "* Use RandomizedSearch to get best hyperparameters. Use model score \"recall\". Split the dataset in languages for training: train model for each language individually\n",
    "* Calculate F2 and see if we've got improvements from KNN.\n",
    "* Submit predictions\n",
    "\n",
    "## Submissions\n",
    "\n",
    "* Use submission sample and get topics and contents\n",
    "* Apply KNN model to get topic-content matches. Get contents per topic\n",
    "* Filter \"good matches\" with second classification model\n",
    "* Compare predicts with submission sample and calculate F2\n",
    "\n",
    "## Efficiency\n",
    "\n",
    "* Use KNN and 2nd model without GPU and check if it takes a long time to calculate sample submissions"
   ]
  },
  {
   "cell_type": "markdown",
   "id": "34c1e638",
   "metadata": {
    "id": "e2cc9cb4",
    "papermill": {
     "duration": 0.010639,
     "end_time": "2023-02-03T08:39:30.412530",
     "exception": false,
     "start_time": "2023-02-03T08:39:30.401891",
     "status": "completed"
    },
    "tags": []
   },
   "source": [
    "# Data"
   ]
  },
  {
   "cell_type": "markdown",
   "id": "a3080270",
   "metadata": {
    "id": "eb712db6",
    "papermill": {
     "duration": 0.010695,
     "end_time": "2023-02-03T08:39:30.434178",
     "exception": false,
     "start_time": "2023-02-03T08:39:30.423483",
     "status": "completed"
    },
    "tags": []
   },
   "source": [
    "## Imports"
   ]
  },
  {
   "cell_type": "code",
   "execution_count": 1,
   "id": "547adc9a",
   "metadata": {
    "execution": {
     "iopub.execute_input": "2023-02-03T08:39:30.458662Z",
     "iopub.status.busy": "2023-02-03T08:39:30.458129Z",
     "iopub.status.idle": "2023-02-03T08:39:34.389333Z",
     "shell.execute_reply": "2023-02-03T08:39:34.388372Z"
    },
    "id": "2eBKbVKiQm-Z",
    "papermill": {
     "duration": 3.946835,
     "end_time": "2023-02-03T08:39:34.391890",
     "exception": false,
     "start_time": "2023-02-03T08:39:30.445055",
     "status": "completed"
    },
    "tags": []
   },
   "outputs": [],
   "source": [
    "import sys, os\n",
    "sys.path.append(\"../input/sentence-transformer-package/sentence-transformers-2.2.2/sentence-transformers-2.2.2\") \n",
    "import sentence_transformers"
   ]
  },
  {
   "cell_type": "code",
   "execution_count": 2,
   "id": "15172e36",
   "metadata": {
    "execution": {
     "iopub.execute_input": "2023-02-03T08:39:34.415371Z",
     "iopub.status.busy": "2023-02-03T08:39:34.414924Z",
     "iopub.status.idle": "2023-02-03T08:40:04.820307Z",
     "shell.execute_reply": "2023-02-03T08:40:04.819121Z"
    },
    "papermill": {
     "duration": 30.419753,
     "end_time": "2023-02-03T08:40:04.822896",
     "exception": false,
     "start_time": "2023-02-03T08:39:34.403143",
     "status": "completed"
    },
    "tags": []
   },
   "outputs": [
    {
     "name": "stdout",
     "output_type": "stream",
     "text": [
      "\u001b[33mWARNING: Running pip as the 'root' user can result in broken permissions and conflicting behaviour with the system package manager. It is recommended to use a virtual environment instead: https://pip.pypa.io/warnings/venv\u001b[0m\u001b[33m\r\n",
      "\u001b[0m\u001b[33mWARNING: There was an error checking the latest version of pip.\u001b[0m\u001b[33m\r\n",
      "\u001b[0m"
     ]
    }
   ],
   "source": [
    "!pip install -q /kaggle/input/loguru-lib-ds/loguru-0.5.3-py3-none-any.whl"
   ]
  },
  {
   "cell_type": "code",
   "execution_count": 3,
   "id": "90debdbb",
   "metadata": {
    "execution": {
     "iopub.execute_input": "2023-02-03T08:40:04.847220Z",
     "iopub.status.busy": "2023-02-03T08:40:04.846320Z",
     "iopub.status.idle": "2023-02-03T08:40:04.852254Z",
     "shell.execute_reply": "2023-02-03T08:40:04.851232Z"
    },
    "id": "b5f3a3b6",
    "papermill": {
     "duration": 0.020334,
     "end_time": "2023-02-03T08:40:04.854447",
     "exception": false,
     "start_time": "2023-02-03T08:40:04.834113",
     "status": "completed"
    },
    "tags": []
   },
   "outputs": [],
   "source": [
    "import pandas as pd\n",
    "import numpy as np\n",
    "import string\n",
    "import datetime\n",
    "import torch\n",
    "from pathlib import Path\n",
    "from sentence_transformers import SentenceTransformer, util\n",
    "from sklearn.metrics import precision_score, recall_score, fbeta_score\n",
    "from sklearn.model_selection import GridSearchCV, RandomizedSearchCV, cross_validate, train_test_split"
   ]
  },
  {
   "cell_type": "code",
   "execution_count": 4,
   "id": "bd868bba",
   "metadata": {
    "execution": {
     "iopub.execute_input": "2023-02-03T08:40:04.878363Z",
     "iopub.status.busy": "2023-02-03T08:40:04.876936Z",
     "iopub.status.idle": "2023-02-03T08:40:04.883329Z",
     "shell.execute_reply": "2023-02-03T08:40:04.882494Z"
    },
    "papermill": {
     "duration": 0.020132,
     "end_time": "2023-02-03T08:40:04.885290",
     "exception": false,
     "start_time": "2023-02-03T08:40:04.865158",
     "status": "completed"
    },
    "tags": []
   },
   "outputs": [],
   "source": [
    "DATA_PATH = Path.cwd().parent.resolve()\n",
    "drive_path = DATA_PATH / 'input'\n",
    "files_path = DATA_PATH / 'input/learning-equality-curriculum-recommendations'\n",
    "dataset_path = drive_path / 'learningequalityfiles'\n",
    "work_path = DATA_PATH / 'working'\n",
    "model_path = '/kaggle/input/sentence-transformer-package/ST-all-MiniLM-L6-v2-trained/ST-all-MiniLM-L6-v2-trained'"
   ]
  },
  {
   "cell_type": "markdown",
   "id": "273539a4",
   "metadata": {
    "id": "e55f4587",
    "papermill": {
     "duration": 0.010685,
     "end_time": "2023-02-03T08:40:04.906920",
     "exception": false,
     "start_time": "2023-02-03T08:40:04.896235",
     "status": "completed"
    },
    "tags": []
   },
   "source": [
    "# Data Collection"
   ]
  },
  {
   "cell_type": "markdown",
   "id": "898e8008",
   "metadata": {
    "id": "FJLGLdJ-wKZI",
    "papermill": {
     "duration": 0.010626,
     "end_time": "2023-02-03T08:40:04.928441",
     "exception": false,
     "start_time": "2023-02-03T08:40:04.917815",
     "status": "completed"
    },
    "tags": []
   },
   "source": [
    "## Load dataframes"
   ]
  },
  {
   "cell_type": "code",
   "execution_count": 5,
   "id": "efbe35a0",
   "metadata": {
    "execution": {
     "iopub.execute_input": "2023-02-03T08:40:04.951753Z",
     "iopub.status.busy": "2023-02-03T08:40:04.950946Z",
     "iopub.status.idle": "2023-02-03T08:40:04.956571Z",
     "shell.execute_reply": "2023-02-03T08:40:04.955742Z"
    },
    "papermill": {
     "duration": 0.019281,
     "end_time": "2023-02-03T08:40:04.958605",
     "exception": false,
     "start_time": "2023-02-03T08:40:04.939324",
     "status": "completed"
    },
    "tags": []
   },
   "outputs": [],
   "source": [
    "def read_file_in_chunks(filename):\n",
    "        \n",
    "    list_chunks = []\n",
    "    chunksize = 10000\n",
    "    with pd.read_csv(filename, chunksize=chunksize, index_col=0) as reader:\n",
    "        for chunk in reader:\n",
    "            list_chunks.append(chunk)\n",
    "    df = pd.concat(list_chunks)\n",
    "    return df"
   ]
  },
  {
   "cell_type": "code",
   "execution_count": 6,
   "id": "e94645f1",
   "metadata": {
    "execution": {
     "iopub.execute_input": "2023-02-03T08:40:04.982732Z",
     "iopub.status.busy": "2023-02-03T08:40:04.981918Z",
     "iopub.status.idle": "2023-02-03T08:40:24.421355Z",
     "shell.execute_reply": "2023-02-03T08:40:24.419857Z"
    },
    "papermill": {
     "duration": 19.454567,
     "end_time": "2023-02-03T08:40:24.424253",
     "exception": false,
     "start_time": "2023-02-03T08:40:04.969686",
     "status": "completed"
    },
    "tags": []
   },
   "outputs": [
    {
     "name": "stdout",
     "output_type": "stream",
     "text": [
      "\n",
      "Loading dataframes...\n"
     ]
    },
    {
     "data": {
      "text/html": [
       "<div>\n",
       "<style scoped>\n",
       "    .dataframe tbody tr th:only-of-type {\n",
       "        vertical-align: middle;\n",
       "    }\n",
       "\n",
       "    .dataframe tbody tr th {\n",
       "        vertical-align: top;\n",
       "    }\n",
       "\n",
       "    .dataframe thead th {\n",
       "        text-align: right;\n",
       "    }\n",
       "</style>\n",
       "<table border=\"1\" class=\"dataframe\">\n",
       "  <thead>\n",
       "    <tr style=\"text-align: right;\">\n",
       "      <th></th>\n",
       "      <th>content_ids</th>\n",
       "    </tr>\n",
       "    <tr>\n",
       "      <th>topic_id</th>\n",
       "      <th></th>\n",
       "    </tr>\n",
       "  </thead>\n",
       "  <tbody>\n",
       "    <tr>\n",
       "      <th>t_00004da3a1b2</th>\n",
       "      <td>c_1108dd0c7a5d c_376c5a8eb028 c_5bc0e1e2cba0 c...</td>\n",
       "    </tr>\n",
       "    <tr>\n",
       "      <th>t_00068291e9a4</th>\n",
       "      <td>c_639ea2ef9c95 c_89ce9367be10 c_ac1672cdcd2c c...</td>\n",
       "    </tr>\n",
       "    <tr>\n",
       "      <th>t_00069b63a70a</th>\n",
       "      <td>c_11a1dc0bfb99</td>\n",
       "    </tr>\n",
       "    <tr>\n",
       "      <th>t_0006d41a73a8</th>\n",
       "      <td>c_0c6473c3480d c_1c57a1316568 c_5e375cf14c47 c...</td>\n",
       "    </tr>\n",
       "    <tr>\n",
       "      <th>t_4054df11a74e</th>\n",
       "      <td>c_3695c5dc1df6 c_f2d184a98231</td>\n",
       "    </tr>\n",
       "  </tbody>\n",
       "</table>\n",
       "</div>"
      ],
      "text/plain": [
       "                                                      content_ids\n",
       "topic_id                                                         \n",
       "t_00004da3a1b2  c_1108dd0c7a5d c_376c5a8eb028 c_5bc0e1e2cba0 c...\n",
       "t_00068291e9a4  c_639ea2ef9c95 c_89ce9367be10 c_ac1672cdcd2c c...\n",
       "t_00069b63a70a                                     c_11a1dc0bfb99\n",
       "t_0006d41a73a8  c_0c6473c3480d c_1c57a1316568 c_5e375cf14c47 c...\n",
       "t_4054df11a74e                      c_3695c5dc1df6 c_f2d184a98231"
      ]
     },
     "metadata": {},
     "output_type": "display_data"
    },
    {
     "name": "stdout",
     "output_type": "stream",
     "text": [
      "\n",
      "Loaded 'df_sample' from /kaggle/input/learning-equality-curriculum-recommendations/sample_submission.csv\n"
     ]
    },
    {
     "data": {
      "text/html": [
       "<div>\n",
       "<style scoped>\n",
       "    .dataframe tbody tr th:only-of-type {\n",
       "        vertical-align: middle;\n",
       "    }\n",
       "\n",
       "    .dataframe tbody tr th {\n",
       "        vertical-align: top;\n",
       "    }\n",
       "\n",
       "    .dataframe thead th {\n",
       "        text-align: right;\n",
       "    }\n",
       "</style>\n",
       "<table border=\"1\" class=\"dataframe\">\n",
       "  <thead>\n",
       "    <tr style=\"text-align: right;\">\n",
       "      <th></th>\n",
       "      <th>title</th>\n",
       "      <th>description</th>\n",
       "      <th>channel</th>\n",
       "      <th>category</th>\n",
       "      <th>level</th>\n",
       "      <th>language</th>\n",
       "      <th>parent</th>\n",
       "      <th>has_content</th>\n",
       "    </tr>\n",
       "    <tr>\n",
       "      <th>id</th>\n",
       "      <th></th>\n",
       "      <th></th>\n",
       "      <th></th>\n",
       "      <th></th>\n",
       "      <th></th>\n",
       "      <th></th>\n",
       "      <th></th>\n",
       "      <th></th>\n",
       "    </tr>\n",
       "  </thead>\n",
       "  <tbody>\n",
       "    <tr>\n",
       "      <th>t_00004da3a1b2</th>\n",
       "      <td>Откриването на резисторите</td>\n",
       "      <td>Изследване на материали, които предизвикват на...</td>\n",
       "      <td>000cf7</td>\n",
       "      <td>source</td>\n",
       "      <td>4</td>\n",
       "      <td>bg</td>\n",
       "      <td>t_16e29365b50d</td>\n",
       "      <td>True</td>\n",
       "    </tr>\n",
       "    <tr>\n",
       "      <th>t_000095e03056</th>\n",
       "      <td>Unit 3.3 Enlargements and Similarities</td>\n",
       "      <td></td>\n",
       "      <td>b3f329</td>\n",
       "      <td>aligned</td>\n",
       "      <td>2</td>\n",
       "      <td>en</td>\n",
       "      <td>t_aa32fb6252dc</td>\n",
       "      <td>False</td>\n",
       "    </tr>\n",
       "    <tr>\n",
       "      <th>t_00068291e9a4</th>\n",
       "      <td>Entradas e saídas de uma função</td>\n",
       "      <td>Entenda um pouco mais sobre funções.</td>\n",
       "      <td>8e286a</td>\n",
       "      <td>source</td>\n",
       "      <td>4</td>\n",
       "      <td>pt</td>\n",
       "      <td>t_d14b6c2a2b70</td>\n",
       "      <td>True</td>\n",
       "    </tr>\n",
       "    <tr>\n",
       "      <th>t_00069b63a70a</th>\n",
       "      <td>Transcripts</td>\n",
       "      <td></td>\n",
       "      <td>6e3ba4</td>\n",
       "      <td>source</td>\n",
       "      <td>3</td>\n",
       "      <td>en</td>\n",
       "      <td>t_4054df11a74e</td>\n",
       "      <td>True</td>\n",
       "    </tr>\n",
       "    <tr>\n",
       "      <th>t_0006d41a73a8</th>\n",
       "      <td>Графики на експоненциални функции (Алгебра 2 н...</td>\n",
       "      <td>Научи повече за графиките на сложните показате...</td>\n",
       "      <td>000cf7</td>\n",
       "      <td>source</td>\n",
       "      <td>4</td>\n",
       "      <td>bg</td>\n",
       "      <td>t_e2452e21d252</td>\n",
       "      <td>True</td>\n",
       "    </tr>\n",
       "  </tbody>\n",
       "</table>\n",
       "</div>"
      ],
      "text/plain": [
       "                                                            title  \\\n",
       "id                                                                  \n",
       "t_00004da3a1b2                         Откриването на резисторите   \n",
       "t_000095e03056             Unit 3.3 Enlargements and Similarities   \n",
       "t_00068291e9a4                    Entradas e saídas de uma função   \n",
       "t_00069b63a70a                                        Transcripts   \n",
       "t_0006d41a73a8  Графики на експоненциални функции (Алгебра 2 н...   \n",
       "\n",
       "                                                      description channel  \\\n",
       "id                                                                          \n",
       "t_00004da3a1b2  Изследване на материали, които предизвикват на...  000cf7   \n",
       "t_000095e03056                                                     b3f329   \n",
       "t_00068291e9a4               Entenda um pouco mais sobre funções.  8e286a   \n",
       "t_00069b63a70a                                                     6e3ba4   \n",
       "t_0006d41a73a8  Научи повече за графиките на сложните показате...  000cf7   \n",
       "\n",
       "               category  level language          parent  has_content  \n",
       "id                                                                    \n",
       "t_00004da3a1b2   source      4       bg  t_16e29365b50d         True  \n",
       "t_000095e03056  aligned      2       en  t_aa32fb6252dc        False  \n",
       "t_00068291e9a4   source      4       pt  t_d14b6c2a2b70         True  \n",
       "t_00069b63a70a   source      3       en  t_4054df11a74e         True  \n",
       "t_0006d41a73a8   source      4       bg  t_e2452e21d252         True  "
      ]
     },
     "metadata": {},
     "output_type": "display_data"
    },
    {
     "name": "stdout",
     "output_type": "stream",
     "text": [
      "\n",
      "Loaded 'df_topics' from /kaggle/input/learning-equality-curriculum-recommendations/topics.csv with shape (76972, 8)\n"
     ]
    },
    {
     "data": {
      "text/html": [
       "<div>\n",
       "<style scoped>\n",
       "    .dataframe tbody tr th:only-of-type {\n",
       "        vertical-align: middle;\n",
       "    }\n",
       "\n",
       "    .dataframe tbody tr th {\n",
       "        vertical-align: top;\n",
       "    }\n",
       "\n",
       "    .dataframe thead th {\n",
       "        text-align: right;\n",
       "    }\n",
       "</style>\n",
       "<table border=\"1\" class=\"dataframe\">\n",
       "  <thead>\n",
       "    <tr style=\"text-align: right;\">\n",
       "      <th></th>\n",
       "      <th>content_ids</th>\n",
       "    </tr>\n",
       "    <tr>\n",
       "      <th>topic_id</th>\n",
       "      <th></th>\n",
       "    </tr>\n",
       "  </thead>\n",
       "  <tbody>\n",
       "    <tr>\n",
       "      <th>t_00004da3a1b2</th>\n",
       "      <td>c_1108dd0c7a5d c_376c5a8eb028 c_5bc0e1e2cba0 c...</td>\n",
       "    </tr>\n",
       "    <tr>\n",
       "      <th>t_00068291e9a4</th>\n",
       "      <td>c_639ea2ef9c95 c_89ce9367be10 c_ac1672cdcd2c c...</td>\n",
       "    </tr>\n",
       "    <tr>\n",
       "      <th>t_00069b63a70a</th>\n",
       "      <td>c_11a1dc0bfb99</td>\n",
       "    </tr>\n",
       "    <tr>\n",
       "      <th>t_0006d41a73a8</th>\n",
       "      <td>c_0c6473c3480d c_1c57a1316568 c_5e375cf14c47 c...</td>\n",
       "    </tr>\n",
       "    <tr>\n",
       "      <th>t_0008768bdee6</th>\n",
       "      <td>c_34e1424229b4 c_7d1a964d66d5 c_aab93ee667f4</td>\n",
       "    </tr>\n",
       "  </tbody>\n",
       "</table>\n",
       "</div>"
      ],
      "text/plain": [
       "                                                      content_ids\n",
       "topic_id                                                         \n",
       "t_00004da3a1b2  c_1108dd0c7a5d c_376c5a8eb028 c_5bc0e1e2cba0 c...\n",
       "t_00068291e9a4  c_639ea2ef9c95 c_89ce9367be10 c_ac1672cdcd2c c...\n",
       "t_00069b63a70a                                     c_11a1dc0bfb99\n",
       "t_0006d41a73a8  c_0c6473c3480d c_1c57a1316568 c_5e375cf14c47 c...\n",
       "t_0008768bdee6       c_34e1424229b4 c_7d1a964d66d5 c_aab93ee667f4"
      ]
     },
     "metadata": {},
     "output_type": "display_data"
    },
    {
     "name": "stdout",
     "output_type": "stream",
     "text": [
      "\n",
      "Loaded 'df_corr' from /kaggle/input/learning-equality-curriculum-recommendations/correlations.csv  with shape (61517, 1)\n"
     ]
    },
    {
     "data": {
      "text/html": [
       "<div>\n",
       "<style scoped>\n",
       "    .dataframe tbody tr th:only-of-type {\n",
       "        vertical-align: middle;\n",
       "    }\n",
       "\n",
       "    .dataframe tbody tr th {\n",
       "        vertical-align: top;\n",
       "    }\n",
       "\n",
       "    .dataframe thead th {\n",
       "        text-align: right;\n",
       "    }\n",
       "</style>\n",
       "<table border=\"1\" class=\"dataframe\">\n",
       "  <thead>\n",
       "    <tr style=\"text-align: right;\">\n",
       "      <th></th>\n",
       "      <th>title</th>\n",
       "      <th>description</th>\n",
       "      <th>kind</th>\n",
       "      <th>text</th>\n",
       "      <th>language</th>\n",
       "      <th>copyright_holder</th>\n",
       "      <th>license</th>\n",
       "    </tr>\n",
       "    <tr>\n",
       "      <th>id</th>\n",
       "      <th></th>\n",
       "      <th></th>\n",
       "      <th></th>\n",
       "      <th></th>\n",
       "      <th></th>\n",
       "      <th></th>\n",
       "      <th></th>\n",
       "    </tr>\n",
       "  </thead>\n",
       "  <tbody>\n",
       "    <tr>\n",
       "      <th>c_00002381196d</th>\n",
       "      <td>Sumar números de varios dígitos: 48,029+233,930</td>\n",
       "      <td>Suma 48,029+233,930 mediante el algoritmo está...</td>\n",
       "      <td>video</td>\n",
       "      <td>NaN</td>\n",
       "      <td>es</td>\n",
       "      <td>NaN</td>\n",
       "      <td>NaN</td>\n",
       "    </tr>\n",
       "    <tr>\n",
       "      <th>c_000087304a9e</th>\n",
       "      <td>Trovare i fattori di un numero</td>\n",
       "      <td>Sal trova i fattori di 120.\\n\\n</td>\n",
       "      <td>video</td>\n",
       "      <td>NaN</td>\n",
       "      <td>it</td>\n",
       "      <td>NaN</td>\n",
       "      <td>NaN</td>\n",
       "    </tr>\n",
       "    <tr>\n",
       "      <th>c_0000ad142ddb</th>\n",
       "      <td>Sumar curvas de demanda</td>\n",
       "      <td>Cómo añadir curvas de demanda\\n\\n</td>\n",
       "      <td>video</td>\n",
       "      <td>NaN</td>\n",
       "      <td>es</td>\n",
       "      <td>NaN</td>\n",
       "      <td>NaN</td>\n",
       "    </tr>\n",
       "    <tr>\n",
       "      <th>c_0000c03adc8d</th>\n",
       "      <td>Nado de aproximação</td>\n",
       "      <td>Neste vídeo você vai aprender o nado de aproxi...</td>\n",
       "      <td>document</td>\n",
       "      <td>\\nNado de aproximação\\nSaber nadar nas ondas ...</td>\n",
       "      <td>pt</td>\n",
       "      <td>Sikana Education</td>\n",
       "      <td>CC BY-NC-ND</td>\n",
       "    </tr>\n",
       "    <tr>\n",
       "      <th>c_00016694ea2a</th>\n",
       "      <td>geometry-m3-topic-a-overview.pdf</td>\n",
       "      <td>geometry-m3-topic-a-overview.pdf</td>\n",
       "      <td>document</td>\n",
       "      <td>Estándares Comunes del Estado de Nueva York\\n\\...</td>\n",
       "      <td>es</td>\n",
       "      <td>Engage NY</td>\n",
       "      <td>CC BY-NC-SA</td>\n",
       "    </tr>\n",
       "  </tbody>\n",
       "</table>\n",
       "</div>"
      ],
      "text/plain": [
       "                                                           title  \\\n",
       "id                                                                 \n",
       "c_00002381196d  Sumar números de varios dígitos: 48,029+233,930    \n",
       "c_000087304a9e                    Trovare i fattori di un numero   \n",
       "c_0000ad142ddb                           Sumar curvas de demanda   \n",
       "c_0000c03adc8d                               Nado de aproximação   \n",
       "c_00016694ea2a                  geometry-m3-topic-a-overview.pdf   \n",
       "\n",
       "                                                      description      kind  \\\n",
       "id                                                                            \n",
       "c_00002381196d  Suma 48,029+233,930 mediante el algoritmo está...     video   \n",
       "c_000087304a9e                    Sal trova i fattori di 120.\\n\\n     video   \n",
       "c_0000ad142ddb                  Cómo añadir curvas de demanda\\n\\n     video   \n",
       "c_0000c03adc8d  Neste vídeo você vai aprender o nado de aproxi...  document   \n",
       "c_00016694ea2a                   geometry-m3-topic-a-overview.pdf  document   \n",
       "\n",
       "                                                             text language  \\\n",
       "id                                                                           \n",
       "c_00002381196d                                                NaN       es   \n",
       "c_000087304a9e                                                NaN       it   \n",
       "c_0000ad142ddb                                                NaN       es   \n",
       "c_0000c03adc8d  \\nNado de aproximação\\nSaber nadar nas ondas ...       pt   \n",
       "c_00016694ea2a  Estándares Comunes del Estado de Nueva York\\n\\...       es   \n",
       "\n",
       "                copyright_holder      license  \n",
       "id                                             \n",
       "c_00002381196d               NaN          NaN  \n",
       "c_000087304a9e               NaN          NaN  \n",
       "c_0000ad142ddb               NaN          NaN  \n",
       "c_0000c03adc8d  Sikana Education  CC BY-NC-ND  \n",
       "c_00016694ea2a         Engage NY  CC BY-NC-SA  "
      ]
     },
     "metadata": {},
     "output_type": "display_data"
    },
    {
     "name": "stdout",
     "output_type": "stream",
     "text": [
      "\n",
      "Loaded 'df_content' from /kaggle/input/learning-equality-curriculum-recommendations/content.csv with shape (154047, 7)\n"
     ]
    }
   ],
   "source": [
    "# loading dataframes from existing .csv files\n",
    "\n",
    "print (f\"\\nLoading dataframes...\")\n",
    "\n",
    "df_content = pd.DataFrame([])\n",
    "df_topics = pd.DataFrame([])\n",
    "df_corr = pd.DataFrame([])\n",
    "df_sample = pd.DataFrame([])\n",
    "for path, subdirs, files in os.walk(drive_path):\n",
    "    for file in files:\n",
    "        if file.endswith(\".csv\") == True:\n",
    "            filepath = os.path.join(path, file)\n",
    "            df = read_file_in_chunks(filepath)\n",
    "            if set(['copyright_holder', 'kind']).issubset(df.columns) and df_content.empty:\n",
    "                df_content = df.fillna({\"title\": \"\", \"description\": \"\"})\n",
    "                display(df_content.head())\n",
    "                print (f\"\\nLoaded 'df_content' from {filepath} with shape {df_content.shape}\")\n",
    "            elif set(['channel', 'parent']).issubset(df.columns):\n",
    "                df_topics = df.fillna({\"title\": \"\", \"description\": \"\"})\n",
    "                display(df_topics.head())\n",
    "                print (f\"\\nLoaded 'df_topics' from {filepath} with shape {df_topics.shape}\")\n",
    "            elif ('content_ids' in df.columns) and ('correlation' in file) and (df_corr.empty):\n",
    "                df_corr = df\n",
    "                display(df_corr.head())\n",
    "                print (f\"\\nLoaded 'df_corr' from {filepath}  with shape {df_corr.shape}\")\n",
    "            if ('sample' in file):\n",
    "                df_sample = df\n",
    "                display(df_sample)\n",
    "                print (f\"\\nLoaded 'df_sample' from {filepath}\")"
   ]
  },
  {
   "cell_type": "code",
   "execution_count": 7,
   "id": "7acb7b47",
   "metadata": {
    "execution": {
     "iopub.execute_input": "2023-02-03T08:40:24.450918Z",
     "iopub.status.busy": "2023-02-03T08:40:24.450570Z",
     "iopub.status.idle": "2023-02-03T08:40:24.495256Z",
     "shell.execute_reply": "2023-02-03T08:40:24.492812Z"
    },
    "papermill": {
     "duration": 0.06009,
     "end_time": "2023-02-03T08:40:24.497351",
     "exception": false,
     "start_time": "2023-02-03T08:40:24.437261",
     "status": "completed"
    },
    "tags": []
   },
   "outputs": [
    {
     "name": "stdout",
     "output_type": "stream",
     "text": [
      "\n",
      "Filtered 'df_topics' according to 'sample_submission'\n"
     ]
    },
    {
     "data": {
      "text/html": [
       "<div>\n",
       "<style scoped>\n",
       "    .dataframe tbody tr th:only-of-type {\n",
       "        vertical-align: middle;\n",
       "    }\n",
       "\n",
       "    .dataframe tbody tr th {\n",
       "        vertical-align: top;\n",
       "    }\n",
       "\n",
       "    .dataframe thead th {\n",
       "        text-align: right;\n",
       "    }\n",
       "</style>\n",
       "<table border=\"1\" class=\"dataframe\">\n",
       "  <thead>\n",
       "    <tr style=\"text-align: right;\">\n",
       "      <th></th>\n",
       "      <th>title</th>\n",
       "      <th>description</th>\n",
       "      <th>channel</th>\n",
       "      <th>category</th>\n",
       "      <th>level</th>\n",
       "      <th>language</th>\n",
       "      <th>parent</th>\n",
       "      <th>has_content</th>\n",
       "      <th>content_ids</th>\n",
       "    </tr>\n",
       "  </thead>\n",
       "  <tbody>\n",
       "    <tr>\n",
       "      <th>t_00004da3a1b2</th>\n",
       "      <td>Откриването на резисторите</td>\n",
       "      <td>Изследване на материали, които предизвикват на...</td>\n",
       "      <td>000cf7</td>\n",
       "      <td>source</td>\n",
       "      <td>4</td>\n",
       "      <td>bg</td>\n",
       "      <td>t_16e29365b50d</td>\n",
       "      <td>True</td>\n",
       "      <td>c_1108dd0c7a5d c_376c5a8eb028 c_5bc0e1e2cba0 c...</td>\n",
       "    </tr>\n",
       "    <tr>\n",
       "      <th>t_00068291e9a4</th>\n",
       "      <td>Entradas e saídas de uma função</td>\n",
       "      <td>Entenda um pouco mais sobre funções.</td>\n",
       "      <td>8e286a</td>\n",
       "      <td>source</td>\n",
       "      <td>4</td>\n",
       "      <td>pt</td>\n",
       "      <td>t_d14b6c2a2b70</td>\n",
       "      <td>True</td>\n",
       "      <td>c_639ea2ef9c95 c_89ce9367be10 c_ac1672cdcd2c c...</td>\n",
       "    </tr>\n",
       "    <tr>\n",
       "      <th>t_00069b63a70a</th>\n",
       "      <td>Transcripts</td>\n",
       "      <td></td>\n",
       "      <td>6e3ba4</td>\n",
       "      <td>source</td>\n",
       "      <td>3</td>\n",
       "      <td>en</td>\n",
       "      <td>t_4054df11a74e</td>\n",
       "      <td>True</td>\n",
       "      <td>c_11a1dc0bfb99</td>\n",
       "    </tr>\n",
       "    <tr>\n",
       "      <th>t_0006d41a73a8</th>\n",
       "      <td>Графики на експоненциални функции (Алгебра 2 н...</td>\n",
       "      <td>Научи повече за графиките на сложните показате...</td>\n",
       "      <td>000cf7</td>\n",
       "      <td>source</td>\n",
       "      <td>4</td>\n",
       "      <td>bg</td>\n",
       "      <td>t_e2452e21d252</td>\n",
       "      <td>True</td>\n",
       "      <td>c_0c6473c3480d c_1c57a1316568 c_5e375cf14c47 c...</td>\n",
       "    </tr>\n",
       "    <tr>\n",
       "      <th>t_4054df11a74e</th>\n",
       "      <td>Flow Charts: Logical Thinking?</td>\n",
       "      <td>This lesson is focused on flow charts. It supp...</td>\n",
       "      <td>6e3ba4</td>\n",
       "      <td>source</td>\n",
       "      <td>2</td>\n",
       "      <td>en</td>\n",
       "      <td>t_acbbd893e6af</td>\n",
       "      <td>True</td>\n",
       "      <td>c_3695c5dc1df6 c_f2d184a98231</td>\n",
       "    </tr>\n",
       "  </tbody>\n",
       "</table>\n",
       "</div>"
      ],
      "text/plain": [
       "                                                            title  \\\n",
       "t_00004da3a1b2                         Откриването на резисторите   \n",
       "t_00068291e9a4                    Entradas e saídas de uma função   \n",
       "t_00069b63a70a                                        Transcripts   \n",
       "t_0006d41a73a8  Графики на експоненциални функции (Алгебра 2 н...   \n",
       "t_4054df11a74e                     Flow Charts: Logical Thinking?   \n",
       "\n",
       "                                                      description channel  \\\n",
       "t_00004da3a1b2  Изследване на материали, които предизвикват на...  000cf7   \n",
       "t_00068291e9a4               Entenda um pouco mais sobre funções.  8e286a   \n",
       "t_00069b63a70a                                                     6e3ba4   \n",
       "t_0006d41a73a8  Научи повече за графиките на сложните показате...  000cf7   \n",
       "t_4054df11a74e  This lesson is focused on flow charts. It supp...  6e3ba4   \n",
       "\n",
       "               category  level language          parent  has_content  \\\n",
       "t_00004da3a1b2   source      4       bg  t_16e29365b50d         True   \n",
       "t_00068291e9a4   source      4       pt  t_d14b6c2a2b70         True   \n",
       "t_00069b63a70a   source      3       en  t_4054df11a74e         True   \n",
       "t_0006d41a73a8   source      4       bg  t_e2452e21d252         True   \n",
       "t_4054df11a74e   source      2       en  t_acbbd893e6af         True   \n",
       "\n",
       "                                                      content_ids  \n",
       "t_00004da3a1b2  c_1108dd0c7a5d c_376c5a8eb028 c_5bc0e1e2cba0 c...  \n",
       "t_00068291e9a4  c_639ea2ef9c95 c_89ce9367be10 c_ac1672cdcd2c c...  \n",
       "t_00069b63a70a                                     c_11a1dc0bfb99  \n",
       "t_0006d41a73a8  c_0c6473c3480d c_1c57a1316568 c_5e375cf14c47 c...  \n",
       "t_4054df11a74e                      c_3695c5dc1df6 c_f2d184a98231  "
      ]
     },
     "metadata": {},
     "output_type": "display_data"
    }
   ],
   "source": [
    "#Sampling 'df_topics' and 'df_content' with sample_submission\n",
    "if ~df_sample.empty:\n",
    "    df_topics = df_topics.merge(df_sample, how='inner', left_index=True, right_index=True)\n",
    "    print (f\"\\nFiltered 'df_topics' according to 'sample_submission'\")\n",
    "    display (df_topics)\n",
    "\n",
    "#Sampling with limited number of rows\n",
    "#num_samples = 20000\n",
    "#df_topics = df_topics.sample(n=num_samples//2)\n",
    "#df_content = df_content.sample(n=num_samples)\n",
    "#print (f\"\\nSampled {num_samples} rows from 'df_content' and {num_samples//2} rows from 'df_topics' for model training\")\n",
    "#display (df_content)\n",
    "#display (df_topics)\n",
    "\n",
    "if df_content.empty and df_topics.empty:\n",
    "    print ('Error: there are no topics or content files to work with')\n",
    "    quit()"
   ]
  },
  {
   "cell_type": "code",
   "execution_count": 8,
   "id": "7c57a212",
   "metadata": {
    "execution": {
     "iopub.execute_input": "2023-02-03T08:40:24.523102Z",
     "iopub.status.busy": "2023-02-03T08:40:24.522821Z",
     "iopub.status.idle": "2023-02-03T08:40:24.654493Z",
     "shell.execute_reply": "2023-02-03T08:40:24.652929Z"
    },
    "id": "29667ed7",
    "outputId": "8f3c7bd9-ebd8-4729-a901-ba908e7739fb",
    "papermill": {
     "duration": 0.14728,
     "end_time": "2023-02-03T08:40:24.656990",
     "exception": false,
     "start_time": "2023-02-03T08:40:24.509710",
     "status": "completed"
    },
    "tags": []
   },
   "outputs": [
    {
     "name": "stdout",
     "output_type": "stream",
     "text": [
      "\n",
      "Changed 'df_corr' to exploded 'y'\n"
     ]
    },
    {
     "data": {
      "text/html": [
       "<div>\n",
       "<style scoped>\n",
       "    .dataframe tbody tr th:only-of-type {\n",
       "        vertical-align: middle;\n",
       "    }\n",
       "\n",
       "    .dataframe tbody tr th {\n",
       "        vertical-align: top;\n",
       "    }\n",
       "\n",
       "    .dataframe thead th {\n",
       "        text-align: right;\n",
       "    }\n",
       "</style>\n",
       "<table border=\"1\" class=\"dataframe\">\n",
       "  <thead>\n",
       "    <tr style=\"text-align: right;\">\n",
       "      <th></th>\n",
       "      <th>topic_id</th>\n",
       "      <th>content_ids</th>\n",
       "    </tr>\n",
       "  </thead>\n",
       "  <tbody>\n",
       "    <tr>\n",
       "      <th>0</th>\n",
       "      <td>t_00004da3a1b2</td>\n",
       "      <td>c_1108dd0c7a5d</td>\n",
       "    </tr>\n",
       "    <tr>\n",
       "      <th>1</th>\n",
       "      <td>t_00004da3a1b2</td>\n",
       "      <td>c_376c5a8eb028</td>\n",
       "    </tr>\n",
       "    <tr>\n",
       "      <th>2</th>\n",
       "      <td>t_00004da3a1b2</td>\n",
       "      <td>c_5bc0e1e2cba0</td>\n",
       "    </tr>\n",
       "    <tr>\n",
       "      <th>3</th>\n",
       "      <td>t_00004da3a1b2</td>\n",
       "      <td>c_76231f9d0b5e</td>\n",
       "    </tr>\n",
       "    <tr>\n",
       "      <th>4</th>\n",
       "      <td>t_00068291e9a4</td>\n",
       "      <td>c_639ea2ef9c95</td>\n",
       "    </tr>\n",
       "    <tr>\n",
       "      <th>...</th>\n",
       "      <td>...</td>\n",
       "      <td>...</td>\n",
       "    </tr>\n",
       "    <tr>\n",
       "      <th>279914</th>\n",
       "      <td>t_fff9e5407d13</td>\n",
       "      <td>c_d64037a72376</td>\n",
       "    </tr>\n",
       "    <tr>\n",
       "      <th>279915</th>\n",
       "      <td>t_fffbe1d5d43c</td>\n",
       "      <td>c_46f852a49c08</td>\n",
       "    </tr>\n",
       "    <tr>\n",
       "      <th>279916</th>\n",
       "      <td>t_fffbe1d5d43c</td>\n",
       "      <td>c_6659207b25d5</td>\n",
       "    </tr>\n",
       "    <tr>\n",
       "      <th>279917</th>\n",
       "      <td>t_fffe14f1be1e</td>\n",
       "      <td>c_cece166bad6a</td>\n",
       "    </tr>\n",
       "    <tr>\n",
       "      <th>279918</th>\n",
       "      <td>t_fffe811a6da9</td>\n",
       "      <td>c_92b8fad372ee</td>\n",
       "    </tr>\n",
       "  </tbody>\n",
       "</table>\n",
       "<p>279919 rows × 2 columns</p>\n",
       "</div>"
      ],
      "text/plain": [
       "              topic_id     content_ids\n",
       "0       t_00004da3a1b2  c_1108dd0c7a5d\n",
       "1       t_00004da3a1b2  c_376c5a8eb028\n",
       "2       t_00004da3a1b2  c_5bc0e1e2cba0\n",
       "3       t_00004da3a1b2  c_76231f9d0b5e\n",
       "4       t_00068291e9a4  c_639ea2ef9c95\n",
       "...                ...             ...\n",
       "279914  t_fff9e5407d13  c_d64037a72376\n",
       "279915  t_fffbe1d5d43c  c_46f852a49c08\n",
       "279916  t_fffbe1d5d43c  c_6659207b25d5\n",
       "279917  t_fffe14f1be1e  c_cece166bad6a\n",
       "279918  t_fffe811a6da9  c_92b8fad372ee\n",
       "\n",
       "[279919 rows x 2 columns]"
      ]
     },
     "metadata": {},
     "output_type": "display_data"
    }
   ],
   "source": [
    "# load 'correlations' data into pandas dataframe\n",
    "# Restructure 'df_corr' (correlations): explode the target column to be more practical to use - one topic -> one content\n",
    "y = df_corr.copy()\n",
    "y['content_ids'] = y.content_ids.str.split(' ')\n",
    "y = y.explode('content_ids')\n",
    "y.reset_index(inplace=True)\n",
    "print (f\"\\nChanged 'df_corr' to exploded 'y'\")\n",
    "display(y)"
   ]
  },
  {
   "cell_type": "markdown",
   "id": "e52bbe61",
   "metadata": {
    "papermill": {
     "duration": 0.012568,
     "end_time": "2023-02-03T08:40:24.682506",
     "exception": false,
     "start_time": "2023-02-03T08:40:24.669938",
     "status": "completed"
    },
    "tags": []
   },
   "source": [
    "## Create Topic Breadcrumbs Functions"
   ]
  },
  {
   "cell_type": "code",
   "execution_count": 9,
   "id": "902ccf3f",
   "metadata": {
    "execution": {
     "iopub.execute_input": "2023-02-03T08:40:24.709482Z",
     "iopub.status.busy": "2023-02-03T08:40:24.709164Z",
     "iopub.status.idle": "2023-02-03T08:40:24.731502Z",
     "shell.execute_reply": "2023-02-03T08:40:24.730627Z"
    },
    "papermill": {
     "duration": 0.03828,
     "end_time": "2023-02-03T08:40:24.733543",
     "exception": false,
     "start_time": "2023-02-03T08:40:24.695263",
     "status": "completed"
    },
    "tags": []
   },
   "outputs": [],
   "source": [
    "# define some helper functions and classes to aid with data traversal\n",
    "\n",
    "def get_topic_breadcrumbs (df_topic):\n",
    "    print (f\"Creating breadcrumbs...\")\n",
    "    topic_breadcrumbs=[]\n",
    "    topic_ids=[]\n",
    "    if 'topic_id' == df_topics.index.name:\n",
    "        col_name = 'topic_id'\n",
    "    else:\n",
    "        col_name = 'id'\n",
    "    for i, topic in enumerate(df_topic.index):\n",
    "        if (i % 5000 == 0) and (i > 0):\n",
    "            print (f'Created {i} breadcrumbs...')\n",
    "        if df_topic.loc[topic].parent in df_topic.index:\n",
    "            topic_ids.append (topic)\n",
    "            topic_breadcrumbs.append (Topic(topic).get_breadcrumbs(separator=' '))\n",
    "    print (f\"Creating dataframe from breadcrumbs 'df_topics_breadcrumbs'...\")\n",
    "    df_topics_breadcrumbs = pd.DataFrame (topic_breadcrumbs, \n",
    "                                          index = topic_ids,\n",
    "                                          columns = ['topic_breadcrumbs'])\n",
    "    return df_topics_breadcrumbs\n",
    "\n",
    "\n",
    "def print_markdown(md):\n",
    "    display(Markdown(md))\n",
    "\n",
    "class Topic:\n",
    "    def __init__(self, topic_id):\n",
    "        self.id = topic_id\n",
    "\n",
    "    @property\n",
    "    def parent(self):\n",
    "        parent_id = df_topics.loc[self.id].parent\n",
    "        if pd.isna(parent_id):\n",
    "            return None\n",
    "        else:\n",
    "            return Topic(parent_id)\n",
    "\n",
    "    @property\n",
    "    def ancestors(self):\n",
    "        ancestors = []\n",
    "        parent = self.parent\n",
    "        while (parent is not None) and (parent.id in df_topics.index):\n",
    "            ancestors.append(parent)\n",
    "            parent = parent.parent\n",
    "        return ancestors\n",
    "\n",
    "    @property\n",
    "    def siblings(self):\n",
    "        if not self.parent:\n",
    "            return []\n",
    "        else:\n",
    "            return [topic for topic in self.parent.children if topic != self]\n",
    "\n",
    "    @property\n",
    "    def content(self):\n",
    "        if self.id in df_corr.index:\n",
    "            return [ContentItem(content_id) for content_id in df_corr.loc[self.id].content_ids.split()]\n",
    "        else:\n",
    "            return tuple([]) if self.has_content else []\n",
    "\n",
    "    def get_breadcrumbs(self, separator=\" >> \", include_self=True, include_root=True):\n",
    "        ancestors = self.ancestors\n",
    "        if include_self:\n",
    "            ancestors = [self] + ancestors\n",
    "        if not include_root:\n",
    "            ancestors = ancestors[:-1]\n",
    "        return separator.join(reversed([a.title for a in ancestors]))\n",
    "\n",
    "    @property\n",
    "    def children(self):\n",
    "        return [Topic(child_id) for child_id in df_topics[df_topics.parent == self.id].index]\n",
    "\n",
    "    def subtree_markdown(self, depth=0):\n",
    "        markdown = \"  \" * depth + \"- \" + self.title + \"\\n\"\n",
    "        for child in self.children:\n",
    "            markdown += child.subtree_markdown(depth=depth + 1)\n",
    "        for content in self.content:\n",
    "            markdown += (\"  \" * (depth + 1) + \"- \" + \"[\" + content.kind.title() + \"] \" + content.title) + \"\\n\"\n",
    "        return markdown\n",
    "\n",
    "    def __eq__(self, other):\n",
    "        if not isinstance(other, Topic):\n",
    "            return False\n",
    "        return self.id == other.id\n",
    "\n",
    "    def __getattr__(self, name):\n",
    "        return df_topics.loc[self.id][name]\n",
    "\n",
    "    def __str__(self):\n",
    "        return self.title\n",
    "    \n",
    "    def __repr__(self):\n",
    "        return f\"<Topic(id={self.id}, title=\\\"{self.title}\\\")>\"\n",
    "\n",
    "\n",
    "class ContentItem:\n",
    "    def __init__(self, content_id):\n",
    "        self.id = content_id\n",
    "\n",
    "    @property\n",
    "    def topics(self):\n",
    "        return [Topic(topic_id) for topic_id in df_topics.loc[df_corr[df_corr.content_ids.str.contains(self.id)].index].index]\n",
    "\n",
    "    def __getattr__(self, name):\n",
    "        return content_df.loc[self.id][name]\n",
    "\n",
    "    def __str__(self):\n",
    "        return self.title\n",
    "    \n",
    "    def __repr__(self):\n",
    "        return f\"<ContentItem(id={self.id}, title=\\\"{self.title}\\\")>\"\n",
    "\n",
    "    def __eq__(self, other):\n",
    "        if not isinstance(other, ContentItem):\n",
    "            return False\n",
    "        return self.id == other.id\n",
    "\n",
    "    def get_all_breadcrumbs(self, separator=\" >> \", include_root=True):\n",
    "        breadcrumbs = []\n",
    "        for topic in self.topics:\n",
    "            new_breadcrumb = topic.get_breadcrumbs(separator=separator, include_root=include_root)\n",
    "            if new_breadcrumb:\n",
    "                new_breadcrumb = new_breadcrumb + separator + self.title\n",
    "            else:\n",
    "                new_breadcrumb = self.title\n",
    "            breadcrumbs.append(new_breadcrumb)\n",
    "        return breadcrumbs"
   ]
  },
  {
   "cell_type": "markdown",
   "id": "89508e7f",
   "metadata": {
    "id": "CP4lmcnV20yH",
    "papermill": {
     "duration": 0.012253,
     "end_time": "2023-02-03T08:40:24.758314",
     "exception": false,
     "start_time": "2023-02-03T08:40:24.746061",
     "status": "completed"
    },
    "tags": []
   },
   "source": [
    "## Data Cleaning"
   ]
  },
  {
   "cell_type": "markdown",
   "id": "babca0a0",
   "metadata": {
    "id": "rjw9Pdqqlzdp",
    "papermill": {
     "duration": 0.01218,
     "end_time": "2023-02-03T08:40:24.782877",
     "exception": false,
     "start_time": "2023-02-03T08:40:24.770697",
     "status": "completed"
    },
    "tags": []
   },
   "source": [
    "## Data cleaning params"
   ]
  },
  {
   "cell_type": "code",
   "execution_count": 10,
   "id": "05aa16d9",
   "metadata": {
    "execution": {
     "iopub.execute_input": "2023-02-03T08:40:24.808625Z",
     "iopub.status.busy": "2023-02-03T08:40:24.808351Z",
     "iopub.status.idle": "2023-02-03T08:40:24.814942Z",
     "shell.execute_reply": "2023-02-03T08:40:24.813759Z"
    },
    "id": "qpgsrMQyl10Y",
    "papermill": {
     "duration": 0.021922,
     "end_time": "2023-02-03T08:40:24.817077",
     "exception": false,
     "start_time": "2023-02-03T08:40:24.795155",
     "status": "completed"
    },
    "tags": []
   },
   "outputs": [
    {
     "name": "stdout",
     "output_type": "stream",
     "text": [
      "\n",
      "Loaded cleaning parameters\n"
     ]
    }
   ],
   "source": [
    "levels = {1: 'one', 2: 'two', 3: 'three', 4: 'four', 5: 'five', 6: 'six', 7: 'seven', 8: 'eight',\n",
    "          9: 'nine', 10: 'ten', 0: 'zero'}\n",
    "topics_cols = ['title', 'description', 'topic_breadcrumbs']\n",
    "content_cols = ['title', 'description', 'text']\n",
    "cat_for_val = 'aligned'\n",
    "print (f\"\\nLoaded cleaning parameters\")"
   ]
  },
  {
   "cell_type": "markdown",
   "id": "8c2bf020",
   "metadata": {
    "id": "Hwk6JtmRbn42",
    "papermill": {
     "duration": 0.012013,
     "end_time": "2023-02-03T08:40:24.841569",
     "exception": false,
     "start_time": "2023-02-03T08:40:24.829556",
     "status": "completed"
    },
    "tags": []
   },
   "source": [
    "## Data cleaning functions"
   ]
  },
  {
   "cell_type": "code",
   "execution_count": 11,
   "id": "2f20f73f",
   "metadata": {
    "execution": {
     "iopub.execute_input": "2023-02-03T08:40:24.867618Z",
     "iopub.status.busy": "2023-02-03T08:40:24.866872Z",
     "iopub.status.idle": "2023-02-03T08:40:24.872381Z",
     "shell.execute_reply": "2023-02-03T08:40:24.871371Z"
    },
    "id": "xRgKUBVjbstB",
    "papermill": {
     "duration": 0.020693,
     "end_time": "2023-02-03T08:40:24.874571",
     "exception": false,
     "start_time": "2023-02-03T08:40:24.853878",
     "status": "completed"
    },
    "tags": []
   },
   "outputs": [],
   "source": [
    "# Clean up text\n",
    "def clean_text(text_col):\n",
    "    \"\"\"\n",
    "    Clean ponctuation and special chars from a dataframe column\n",
    "    \"\"\"\n",
    "    punctuations = string.punctuation\n",
    "    text_col = text_col.str.replace('\\W', ' ', regex=True)\n",
    "    for punct in string.punctuation:\n",
    "        text_col = text_col.str.replace(punct, ' ', regex=True)\n",
    "    return text_col"
   ]
  },
  {
   "cell_type": "markdown",
   "id": "d50e4d1c",
   "metadata": {
    "id": "WmkMQLZHaDmd",
    "papermill": {
     "duration": 0.012006,
     "end_time": "2023-02-03T08:40:24.898760",
     "exception": false,
     "start_time": "2023-02-03T08:40:24.886754",
     "status": "completed"
    },
    "tags": []
   },
   "source": [
    "### Topics\n",
    "\n",
    "*   Changing 'level' values from integers to strings\n",
    "*   Clean strings: ponctuation and special chars (\\n\\t...)\n",
    "*   Sort values by language"
   ]
  },
  {
   "cell_type": "code",
   "execution_count": 12,
   "id": "96f709e9",
   "metadata": {
    "execution": {
     "iopub.execute_input": "2023-02-03T08:40:24.924838Z",
     "iopub.status.busy": "2023-02-03T08:40:24.924557Z",
     "iopub.status.idle": "2023-02-03T08:40:24.932267Z",
     "shell.execute_reply": "2023-02-03T08:40:24.931422Z"
    },
    "id": "prh6uaPXlyMr",
    "papermill": {
     "duration": 0.022664,
     "end_time": "2023-02-03T08:40:24.934174",
     "exception": false,
     "start_time": "2023-02-03T08:40:24.911510",
     "status": "completed"
    },
    "tags": []
   },
   "outputs": [],
   "source": [
    "def build_topic_features (topics_df, df_topics_breadcrumbs, levels, topic_cols):\n",
    "    \"\"\"\n",
    "    Create 'topics_features' from df_topics, clean parameters and functions\n",
    "    \"\"\"\n",
    "    print (f\"\\nCreating and cleaning topic features...\")\n",
    "    topics_features = topics_df.copy()\n",
    "    topics_features = topics_features.replace ({'level': levels})\n",
    "    topics_features = topics_features.merge (df_topic_breadcrumbs, how='outer', right_index=True, left_index=True)\n",
    "    for col in topics_cols:\n",
    "        topics_features[col] = clean_text(topics_features[col])\n",
    "    topics_features['sentences'] = topics_features[topics_cols].apply(lambda x: '.'.join(x.dropna().astype(str)), axis=1)\n",
    "    topics_features = topics_features.drop(columns=['parent'] + topics_cols) \n",
    "    print (f\"\\nCreated 'topic_features'\")\n",
    "    display (topics_features.head())\n",
    "    \n",
    "    return topics_features\n"
   ]
  },
  {
   "cell_type": "markdown",
   "id": "13a74886",
   "metadata": {
    "id": "m-sO4fCibFIb",
    "papermill": {
     "duration": 0.012136,
     "end_time": "2023-02-03T08:40:24.958680",
     "exception": false,
     "start_time": "2023-02-03T08:40:24.946544",
     "status": "completed"
    },
    "tags": []
   },
   "source": [
    "### Contents\n",
    "\n",
    "\n",
    "*   Remove columns 'copyright_holder' and 'language' (for 'language' assume that topic-content match with correlations is same language)\n",
    "*   Clean strings: ponctuation and special chars (\\n\\t...)"
   ]
  },
  {
   "cell_type": "code",
   "execution_count": 13,
   "id": "0e6710d3",
   "metadata": {
    "execution": {
     "iopub.execute_input": "2023-02-03T08:40:24.985043Z",
     "iopub.status.busy": "2023-02-03T08:40:24.984247Z",
     "iopub.status.idle": "2023-02-03T08:40:24.990821Z",
     "shell.execute_reply": "2023-02-03T08:40:24.989932Z"
    },
    "id": "fa3508db",
    "papermill": {
     "duration": 0.021763,
     "end_time": "2023-02-03T08:40:24.992880",
     "exception": false,
     "start_time": "2023-02-03T08:40:24.971117",
     "status": "completed"
    },
    "tags": []
   },
   "outputs": [],
   "source": [
    "def build_content_features (content_df, content_cols):\n",
    "    \"\"\"\n",
    "    Create 'content_features' from df_content, clean parameters and functions\n",
    "    \"\"\"\n",
    "    print (f\"\\nCreating and cleaning content features...\")\n",
    "    content_features = content_df.copy()\n",
    "    for col in content_cols:\n",
    "        content_features[col] = clean_text(content_features[col])\n",
    "    content_features['sentences'] =  content_features[content_cols].apply(lambda x: '.'.join(x.dropna().astype(str)), axis=1)\n",
    "    content_features = content_features.drop(columns=['copyright_holder', 'license'] + content_cols)\n",
    "    print (f\"\\nCreated 'content_features'\")\n",
    "    display (content_features.head())\n",
    "    \n",
    "    return content_features"
   ]
  },
  {
   "cell_type": "markdown",
   "id": "825d79c6",
   "metadata": {
    "papermill": {
     "duration": 0.012071,
     "end_time": "2023-02-03T08:40:25.017392",
     "exception": false,
     "start_time": "2023-02-03T08:40:25.005321",
     "status": "completed"
    },
    "tags": []
   },
   "source": [
    "# Model Train"
   ]
  },
  {
   "cell_type": "markdown",
   "id": "953b79f3",
   "metadata": {
    "papermill": {
     "duration": 0.012009,
     "end_time": "2023-02-03T08:40:25.041926",
     "exception": false,
     "start_time": "2023-02-03T08:40:25.029917",
     "status": "completed"
    },
    "tags": []
   },
   "source": [
    "### Scoring functions"
   ]
  },
  {
   "cell_type": "code",
   "execution_count": 14,
   "id": "d1a55a6c",
   "metadata": {
    "execution": {
     "iopub.execute_input": "2023-02-03T08:40:25.068558Z",
     "iopub.status.busy": "2023-02-03T08:40:25.067176Z",
     "iopub.status.idle": "2023-02-03T08:40:25.077235Z",
     "shell.execute_reply": "2023-02-03T08:40:25.076426Z"
    },
    "papermill": {
     "duration": 0.02508,
     "end_time": "2023-02-03T08:40:25.079162",
     "exception": false,
     "start_time": "2023-02-03T08:40:25.054082",
     "status": "completed"
    },
    "tags": []
   },
   "outputs": [],
   "source": [
    "def calculate_Fscore(pred_df, act_df):\n",
    "    \n",
    "    if pred_df.empty or act_df.empty:\n",
    "        print ('\\nOne or both dataframes are empty. Abort F2score calculation.')\n",
    "        return None\n",
    "    prediction_df=pred_df.copy()\n",
    "    actual_df = act_df.copy()\n",
    "    prediction_df['content_ids'] = prediction_df.content_ids.str.split(' ')\n",
    "    prediction_df.columns=['topic_id', 'content_ids_pred']\n",
    "    actual_df['content_ids'] = actual_df.content_ids.str.split(' ')\n",
    "    actual_df.columns=['topic_id', 'content_ids_actual']\n",
    "    df = pd.merge(prediction_df, actual_df, how='inner', on='topic_id')\n",
    "    df['correct_pred'] = df[['content_ids_pred', 'content_ids_actual']].apply(lambda x: len([d for d in x[0] if d in x[1]]), axis=1)\n",
    "    df_target = df.apply(lambda x: [(x[0], d) for d in x[1] if d in x[2]], axis=1).tolist()\n",
    "    df['precision'] = df['correct_pred']/(df.content_ids_actual.str.len() + 1e-7)\n",
    "    df['recall'] = df['correct_pred']/(df.content_ids_pred.str.len() + 1e-7)\n",
    "    for beta in [0.5, 1, 2]:\n",
    "        df['f'+str(beta)] = ((1 + beta**2) * df['precision'] * df['recall'])/((beta**2 * df['precision']) + df['recall'] + 1e-7) \n",
    "    print ('\\nF2score calculation finished.')\n",
    "\n",
    "    return df, df_target"
   ]
  },
  {
   "cell_type": "markdown",
   "id": "e6e0cfdd",
   "metadata": {
    "id": "0866f1f5",
    "papermill": {
     "duration": 0.01209,
     "end_time": "2023-02-03T08:40:25.103639",
     "exception": false,
     "start_time": "2023-02-03T08:40:25.091549",
     "status": "completed"
    },
    "tags": []
   },
   "source": [
    "## Calculate Embeddings Functions"
   ]
  },
  {
   "cell_type": "markdown",
   "id": "792dcb5f",
   "metadata": {
    "papermill": {
     "duration": 0.012017,
     "end_time": "2023-02-03T08:40:25.127836",
     "exception": false,
     "start_time": "2023-02-03T08:40:25.115819",
     "status": "completed"
    },
    "tags": []
   },
   "source": [
    "* Use output as pytorch tensor and normalize tensor embeddings\n",
    "* Convert to numpy array"
   ]
  },
  {
   "cell_type": "code",
   "execution_count": 15,
   "id": "b1bce87c",
   "metadata": {
    "execution": {
     "iopub.execute_input": "2023-02-03T08:40:25.153416Z",
     "iopub.status.busy": "2023-02-03T08:40:25.153147Z",
     "iopub.status.idle": "2023-02-03T08:40:25.160429Z",
     "shell.execute_reply": "2023-02-03T08:40:25.159558Z"
    },
    "papermill": {
     "duration": 0.022368,
     "end_time": "2023-02-03T08:40:25.162380",
     "exception": false,
     "start_time": "2023-02-03T08:40:25.140012",
     "status": "completed"
    },
    "tags": []
   },
   "outputs": [],
   "source": [
    "def get_embeddings(topics_features, content_features):\n",
    "    \"\"\"\n",
    "    Calculate embeddings for both topics and content\n",
    "    From text in columns:\n",
    "    topic_cols=['title','description', 'topic_breadcrumbs'] \n",
    "    content_cols=['title','description', 'text']\n",
    "    \"\"\"\n",
    "    device = 'cpu'\n",
    "    if torch.cuda.is_available():\n",
    "        device = torch.device('cuda:0')\n",
    "\n",
    "    encoder = SentenceTransformer(paraphrase)\n",
    "    topics_id_for_embeddings=[]\n",
    "    topics_embeddings=[]\n",
    "    content_ids_for_embeddings=[]\n",
    "    content_embeddings=[]\n",
    "    topics_aux = []\n",
    "    content_aux = []\n",
    "\n",
    "    topics_sentences = topics_features['sentences']\n",
    "    print (f'\\nGetting embeddings for {len(topics_sentences)} sentences from topics')\n",
    "    # topics embeddings\n",
    "    topics_aux = encoder.encode(topics_sentences, convert_to_tensor=True)\n",
    "    topics_id_for_embeddings = topics_sentences.index\n",
    "    topics_embeddings = util.normalize_embeddings(topics_aux.to(device)).detach().cpu().numpy()\n",
    "    # content embeddings\n",
    "    content_sentences = content_features['sentences']\n",
    "    print (f'\\nGetting embeddings for {len(content_sentences)} sentences from contents')\n",
    "    content_ids_for_embeddings = content_sentences.index\n",
    "    content_aux = encoder.encode(content_sentences, convert_to_tensor=True)\n",
    "    content_embeddings = util.normalize_embeddings(content_aux.to(device)).detach().cpu().numpy()\n",
    "    \n",
    "    return topics_embeddings, content_embeddings, topics_id_for_embeddings, content_ids_for_embeddings"
   ]
  },
  {
   "cell_type": "markdown",
   "id": "5a6fbebd",
   "metadata": {
    "papermill": {
     "duration": 0.012161,
     "end_time": "2023-02-03T08:40:25.186801",
     "exception": false,
     "start_time": "2023-02-03T08:40:25.174640",
     "status": "completed"
    },
    "tags": []
   },
   "source": [
    "### Apply Sentence similarity scoring Function"
   ]
  },
  {
   "cell_type": "code",
   "execution_count": 16,
   "id": "d92342a7",
   "metadata": {
    "execution": {
     "iopub.execute_input": "2023-02-03T08:40:25.213406Z",
     "iopub.status.busy": "2023-02-03T08:40:25.212543Z",
     "iopub.status.idle": "2023-02-03T08:40:25.222170Z",
     "shell.execute_reply": "2023-02-03T08:40:25.221355Z"
    },
    "papermill": {
     "duration": 0.024981,
     "end_time": "2023-02-03T08:40:25.224175",
     "exception": false,
     "start_time": "2023-02-03T08:40:25.199194",
     "status": "completed"
    },
    "tags": []
   },
   "outputs": [],
   "source": [
    "# Calculating matches with similarity score\n",
    "def similarity_matches (topic_ids_for_embeddings, content_ids_for_embeddings, content_embeds, topics_embeds, device, content_count_per_topic):\n",
    "\n",
    "    list_aux = []\n",
    "    start = datetime.datetime.now()\n",
    "    print (f\"\\nCalculating matches for {len(topics_embeds)} topic sentences...\")\n",
    "\n",
    "    if torch.is_tensor(content_embeds):\n",
    "        corpus_embeddings = content_embeds\n",
    "    else:\n",
    "        corpus_embeddings = torch.tensor(content_embeds)\n",
    "    if torch.is_tensor(topics_embeds):\n",
    "        query_embeddings = topics_embeds\n",
    "    else:\n",
    "        query_embeddings = torch.tensor(topics_embeds)\n",
    "\n",
    "    if device != torch.device('cuda:0'):\n",
    "        print ('\\nGPU is not active. Similarity calculation aborted.')\n",
    "        return None\n",
    "\n",
    "    # we use util.semantic_search to perform cosine similarty + topk\n",
    "    corpus_embeddings = corpus_embeddings.to('cuda')\n",
    "    corpus_embeddings = util.normalize_embeddings(corpus_embeddings)\n",
    "    query_embeddings = query_embeddings.to('cuda')\n",
    "    query_embeddings = util.normalize_embeddings(query_embeddings)\n",
    "    i = 0\n",
    "    for query in query_embeddings:\n",
    "        hits = util.semantic_search(query, corpus_embeddings, score_function=util.cos_sim, top_k=content_count_per_topic)\n",
    "        for hit in hits[0]:\n",
    "            list_aux.append (dict(topic_id = topic_ids_for_embeddings[i], content_ids = content_ids_for_embeddings[hit['corpus_id']], score = hit['score']))\n",
    "        i += 1\n",
    "        if i%1000 == 0:\n",
    "            print (i, ' topics matched.')\n",
    "    end  = datetime.datetime.now()\n",
    "    delta = end - start\n",
    "    print (\"Finished matching in:\", delta.total_seconds(), ' s')\n",
    "    df_preds = pd.DataFrame (list_aux)\n",
    "           \n",
    "    return df_preds"
   ]
  },
  {
   "cell_type": "code",
   "execution_count": 17,
   "id": "0a08340c",
   "metadata": {
    "execution": {
     "iopub.execute_input": "2023-02-03T08:40:25.250488Z",
     "iopub.status.busy": "2023-02-03T08:40:25.249715Z",
     "iopub.status.idle": "2023-02-03T08:40:25.254881Z",
     "shell.execute_reply": "2023-02-03T08:40:25.253963Z"
    },
    "papermill": {
     "duration": 0.020148,
     "end_time": "2023-02-03T08:40:25.256813",
     "exception": false,
     "start_time": "2023-02-03T08:40:25.236665",
     "status": "completed"
    },
    "tags": []
   },
   "outputs": [],
   "source": [
    "def get_preds(df_preds):\n",
    "    \"\"\"\n",
    "    df_preds = Dataframe with topic_id's and KNN chosen content_ids\n",
    "    \"\"\"\n",
    "    df.content_ids = df.content_ids.str.join(' ')\n",
    "    df = df.fillna('')\n",
    "    return df"
   ]
  },
  {
   "cell_type": "code",
   "execution_count": 18,
   "id": "4c64b2e7",
   "metadata": {
    "execution": {
     "iopub.execute_input": "2023-02-03T08:40:25.283239Z",
     "iopub.status.busy": "2023-02-03T08:40:25.282502Z",
     "iopub.status.idle": "2023-02-03T08:40:25.287921Z",
     "shell.execute_reply": "2023-02-03T08:40:25.287107Z"
    },
    "papermill": {
     "duration": 0.020291,
     "end_time": "2023-02-03T08:40:25.289774",
     "exception": false,
     "start_time": "2023-02-03T08:40:25.269483",
     "status": "completed"
    },
    "tags": []
   },
   "outputs": [],
   "source": [
    "def get_true(df_corr, df):\n",
    "    \"\"\"\n",
    "    Ground truth\n",
    "    df_true = Dataframe with same topic_id's from 'get_preds' function but content_id's taken from correlations, \n",
    "    for score calculations. Returns the format defined in 'correlations.csv' but as dataframe.\n",
    "    \"\"\"\n",
    "    df_true = df_corr.copy().reset_index().merge (df_preds, how='right', on='topic_id').iloc[:,[0,1]].rename(columns={'content_ids_x': 'content_ids'})\n",
    "    df_true = df_true.fillna('')\n",
    "    return df_true"
   ]
  },
  {
   "cell_type": "markdown",
   "id": "cbb237aa",
   "metadata": {
    "papermill": {
     "duration": 0.012259,
     "end_time": "2023-02-03T08:40:25.314307",
     "exception": false,
     "start_time": "2023-02-03T08:40:25.302048",
     "status": "completed"
    },
    "tags": []
   },
   "source": [
    "# Setup Features and Target Functions"
   ]
  },
  {
   "cell_type": "markdown",
   "id": "3bf68f68",
   "metadata": {
    "papermill": {
     "duration": 0.012054,
     "end_time": "2023-02-03T08:40:25.338603",
     "exception": false,
     "start_time": "2023-02-03T08:40:25.326549",
     "status": "completed"
    },
    "tags": []
   },
   "source": [
    "* Set X_train, X_test, y_train, y_test: split by category (use 'aligned' for validation); set has_content = True for validation. Check dimensions\n",
    "* Use all features for X, including topic_id and content_id, topic_title and content_title\n",
    "* Use the KNN predictions to \"mount\" X and y. Check dimensions.\n",
    "* Use correlations to get y: if KNN topic-content match with correlations, y is 1, else is 0\n",
    "* Use LGBMClassifier for multiclass classification"
   ]
  },
  {
   "cell_type": "code",
   "execution_count": 19,
   "id": "82bae716",
   "metadata": {
    "execution": {
     "iopub.execute_input": "2023-02-03T08:40:25.365590Z",
     "iopub.status.busy": "2023-02-03T08:40:25.364098Z",
     "iopub.status.idle": "2023-02-03T08:40:25.372916Z",
     "shell.execute_reply": "2023-02-03T08:40:25.372104Z"
    },
    "papermill": {
     "duration": 0.02385,
     "end_time": "2023-02-03T08:40:25.374796",
     "exception": false,
     "start_time": "2023-02-03T08:40:25.350946",
     "status": "completed"
    },
    "tags": []
   },
   "outputs": [],
   "source": [
    "def get_target(preds):\n",
    "    \"\"\"\n",
    "    Get a binary target from comparing similarity predictions y_preds with ground truth 'y' from 'df_corr'\n",
    "    \"\"\"\n",
    "    preds_aux = preds.copy()\n",
    "    df_num_rows = 400\n",
    "    y_int=[]\n",
    "    for i in range(len(preds_aux)//df_num_rows):\n",
    "        print (f'\\nCalculating preds: {i+1} of {len(preds_aux)//df_num_rows} iterations...\\n')\n",
    "        max_r = df_num_rows*(i+1)\n",
    "        if max_r > len(preds_aux):\n",
    "            max_r = len(preds_aux)\n",
    "        min_r = df_num_rows*i\n",
    "        df_aux = preds_aux.iloc[min_r:max_r]\n",
    "        df_aux.iloc[:,1] = df_aux.content_ids.str.split(' ')\n",
    "        df_aux = df_aux.explode('content_ids')\n",
    "        df_aux = df_aux.merge (y, on='topic_id', how='left')\n",
    "        df_aux['match'] = (df_aux.iloc[:,1] == df_aux.iloc[:,2]).astype (int) \n",
    "        y_int.append (df_aux.groupby(['topic_id', 'content_ids_x']).sum().reset_index())\n",
    "        target = pd.concat(y_int)\n",
    "        target.to_csv('target.csv', index=False)\n",
    "\n",
    "    return target"
   ]
  },
  {
   "cell_type": "code",
   "execution_count": 20,
   "id": "0128717e",
   "metadata": {
    "execution": {
     "iopub.execute_input": "2023-02-03T08:40:25.401502Z",
     "iopub.status.busy": "2023-02-03T08:40:25.400115Z",
     "iopub.status.idle": "2023-02-03T08:40:25.411376Z",
     "shell.execute_reply": "2023-02-03T08:40:25.410584Z"
    },
    "papermill": {
     "duration": 0.026132,
     "end_time": "2023-02-03T08:40:25.413208",
     "exception": false,
     "start_time": "2023-02-03T08:40:25.387076",
     "status": "completed"
    },
    "tags": []
   },
   "outputs": [],
   "source": [
    "def get_features (y_aux, topics_features, content_features):\n",
    "    \"\"\" \n",
    "    Get features for classification. Using topic_id, topic_title, content_id and content_title, \n",
    "    among remaining class features. Returns Xcolumns=X. and y_target.\n",
    "    \"\"\"\n",
    "    print (\"\\n* Defining features for X...\\n\")\n",
    "\n",
    "    df_num_rows = 100000\n",
    "    list_X=[]\n",
    "    iterations = len(y_aux)//df_num_rows\n",
    "    if iterations == 0:\n",
    "        iterations = 1\n",
    "    for i in range(iterations):\n",
    "        print (f'\\nCalculating features: {i+1} of {iterations} iterations...\\n')\n",
    "        max_r = df_num_rows*(i+1)\n",
    "        if max_r > len(y_aux):\n",
    "            max_r = len(y_aux)\n",
    "        min_r = df_num_rows*i\n",
    "        X = y_aux[min_r:max_r]\n",
    "        topic_feat = topics_features.reset_index()\n",
    "        # Merging 'topic_features', 'content_features' and 'matching_preds' altogether. \n",
    "        # Cleaning unnecessary columns from merges  \n",
    "        X = X.merge (topic_feat, how='left', left_on=X.columns[0], right_on=topic_feat.columns[0])\n",
    "        X['topic_title'] = X.sentences.str.split('.').str[0]\n",
    "        X.drop(columns=X.iloc[:,[2,3,-2,-3]].columns.tolist(), inplace=True)\n",
    "        content_aux = contents_features.reset_index().drop(columns=contents_features.iloc[:,1].name) \n",
    "        X = X.merge (content_aux, how='left', left_on=X.iloc[:,1].name, right_on=contents_features.reset_index().iloc[:,0].name)\n",
    "        X['content_title'] = X.iloc[:,-1].str.split('.').str[0]\n",
    "        X.drop(columns=X.iloc[:,[-2, -4, -6]].columns.tolist(), inplace=True)\n",
    "        X.columns = X.columns.str.replace('_x', '')\n",
    "        X = X.sort_values('language')\n",
    "        print (\"\\nPartial X defined.\")\n",
    "        # Appending partial dataframe to list\n",
    "        list_X.append(X)\n",
    "    X = pd.concat (list_X)\n",
    "    print (\"\\nX is defined.\")\n",
    "    return X"
   ]
  },
  {
   "cell_type": "markdown",
   "id": "dc207c13",
   "metadata": {
    "papermill": {
     "duration": 0.012242,
     "end_time": "2023-02-03T08:40:25.437649",
     "exception": false,
     "start_time": "2023-02-03T08:40:25.425407",
     "status": "completed"
    },
    "tags": []
   },
   "source": [
    "## Parameters"
   ]
  },
  {
   "cell_type": "code",
   "execution_count": 21,
   "id": "75b04a51",
   "metadata": {
    "execution": {
     "iopub.execute_input": "2023-02-03T08:40:25.464641Z",
     "iopub.status.busy": "2023-02-03T08:40:25.463721Z",
     "iopub.status.idle": "2023-02-03T08:40:25.535840Z",
     "shell.execute_reply": "2023-02-03T08:40:25.534563Z"
    },
    "papermill": {
     "duration": 0.088279,
     "end_time": "2023-02-03T08:40:25.538441",
     "exception": false,
     "start_time": "2023-02-03T08:40:25.450162",
     "status": "completed"
    },
    "tags": []
   },
   "outputs": [
    {
     "name": "stdout",
     "output_type": "stream",
     "text": [
      "\n",
      "Loaded models parameters\n"
     ]
    }
   ],
   "source": [
    "#General\n",
    "device = 'cpu'\n",
    "if torch.cuda.is_available():\n",
    "    device = torch.device('cuda:0')\n",
    "#Sentence Transformer\n",
    "all_mini = 'all-MiniLM-L6-v2'\n",
    "paraphrase = '/kaggle/input/sentence-embedding-models/paraphrase-MiniLM-L12-v2'\n",
    "trained_model = model_path\n",
    "# Similarity\n",
    "content_per_topic = 50\n",
    "print (f\"\\nLoaded models parameters\")"
   ]
  },
  {
   "cell_type": "code",
   "execution_count": 22,
   "id": "a44896a2",
   "metadata": {
    "execution": {
     "iopub.execute_input": "2023-02-03T08:40:25.566052Z",
     "iopub.status.busy": "2023-02-03T08:40:25.565758Z",
     "iopub.status.idle": "2023-02-03T08:42:03.017177Z",
     "shell.execute_reply": "2023-02-03T08:42:03.016153Z"
    },
    "papermill": {
     "duration": 97.482609,
     "end_time": "2023-02-03T08:42:03.034689",
     "exception": false,
     "start_time": "2023-02-03T08:40:25.552080",
     "status": "completed"
    },
    "tags": []
   },
   "outputs": [
    {
     "name": "stdout",
     "output_type": "stream",
     "text": [
      "\n",
      "* Getting 'topics_breadcrumbs' dataframe...\n",
      "\n",
      "Creating breadcrumbs...\n",
      "Creating dataframe from breadcrumbs 'df_topics_breadcrumbs'...\n",
      "\n",
      "* Calculating topics_features dataframe...\n",
      "\n",
      "\n",
      "Creating and cleaning topic features...\n",
      "\n",
      "Created 'topic_features'\n"
     ]
    },
    {
     "data": {
      "text/html": [
       "<div>\n",
       "<style scoped>\n",
       "    .dataframe tbody tr th:only-of-type {\n",
       "        vertical-align: middle;\n",
       "    }\n",
       "\n",
       "    .dataframe tbody tr th {\n",
       "        vertical-align: top;\n",
       "    }\n",
       "\n",
       "    .dataframe thead th {\n",
       "        text-align: right;\n",
       "    }\n",
       "</style>\n",
       "<table border=\"1\" class=\"dataframe\">\n",
       "  <thead>\n",
       "    <tr style=\"text-align: right;\">\n",
       "      <th></th>\n",
       "      <th>channel</th>\n",
       "      <th>category</th>\n",
       "      <th>level</th>\n",
       "      <th>language</th>\n",
       "      <th>has_content</th>\n",
       "      <th>content_ids</th>\n",
       "      <th>sentences</th>\n",
       "    </tr>\n",
       "  </thead>\n",
       "  <tbody>\n",
       "    <tr>\n",
       "      <th>t_00004da3a1b2</th>\n",
       "      <td>000cf7</td>\n",
       "      <td>source</td>\n",
       "      <td>four</td>\n",
       "      <td>bg</td>\n",
       "      <td>True</td>\n",
       "      <td>c_1108dd0c7a5d c_376c5a8eb028 c_5bc0e1e2cba0 c...</td>\n",
       "      <td>Откриването на резисторите.Изследване на матер...</td>\n",
       "    </tr>\n",
       "    <tr>\n",
       "      <th>t_00068291e9a4</th>\n",
       "      <td>8e286a</td>\n",
       "      <td>source</td>\n",
       "      <td>four</td>\n",
       "      <td>pt</td>\n",
       "      <td>True</td>\n",
       "      <td>c_639ea2ef9c95 c_89ce9367be10 c_ac1672cdcd2c c...</td>\n",
       "      <td>Entradas e saídas de uma função.Entenda um pou...</td>\n",
       "    </tr>\n",
       "    <tr>\n",
       "      <th>t_00069b63a70a</th>\n",
       "      <td>6e3ba4</td>\n",
       "      <td>source</td>\n",
       "      <td>three</td>\n",
       "      <td>en</td>\n",
       "      <td>True</td>\n",
       "      <td>c_11a1dc0bfb99</td>\n",
       "      <td>Transcripts..Flow Charts  Logical Thinking  Tr...</td>\n",
       "    </tr>\n",
       "    <tr>\n",
       "      <th>t_0006d41a73a8</th>\n",
       "      <td>000cf7</td>\n",
       "      <td>source</td>\n",
       "      <td>four</td>\n",
       "      <td>bg</td>\n",
       "      <td>True</td>\n",
       "      <td>c_0c6473c3480d c_1c57a1316568 c_5e375cf14c47 c...</td>\n",
       "      <td>Графики на експоненциални функции  Алгебра 2 н...</td>\n",
       "    </tr>\n",
       "    <tr>\n",
       "      <th>t_4054df11a74e</th>\n",
       "      <td>6e3ba4</td>\n",
       "      <td>source</td>\n",
       "      <td>two</td>\n",
       "      <td>en</td>\n",
       "      <td>True</td>\n",
       "      <td>c_3695c5dc1df6 c_f2d184a98231</td>\n",
       "      <td>Flow Charts  Logical Thinking .This lesson is ...</td>\n",
       "    </tr>\n",
       "  </tbody>\n",
       "</table>\n",
       "</div>"
      ],
      "text/plain": [
       "               channel category  level language  has_content  \\\n",
       "t_00004da3a1b2  000cf7   source   four       bg         True   \n",
       "t_00068291e9a4  8e286a   source   four       pt         True   \n",
       "t_00069b63a70a  6e3ba4   source  three       en         True   \n",
       "t_0006d41a73a8  000cf7   source   four       bg         True   \n",
       "t_4054df11a74e  6e3ba4   source    two       en         True   \n",
       "\n",
       "                                                      content_ids  \\\n",
       "t_00004da3a1b2  c_1108dd0c7a5d c_376c5a8eb028 c_5bc0e1e2cba0 c...   \n",
       "t_00068291e9a4  c_639ea2ef9c95 c_89ce9367be10 c_ac1672cdcd2c c...   \n",
       "t_00069b63a70a                                     c_11a1dc0bfb99   \n",
       "t_0006d41a73a8  c_0c6473c3480d c_1c57a1316568 c_5e375cf14c47 c...   \n",
       "t_4054df11a74e                      c_3695c5dc1df6 c_f2d184a98231   \n",
       "\n",
       "                                                        sentences  \n",
       "t_00004da3a1b2  Откриването на резисторите.Изследване на матер...  \n",
       "t_00068291e9a4  Entradas e saídas de uma função.Entenda um pou...  \n",
       "t_00069b63a70a  Transcripts..Flow Charts  Logical Thinking  Tr...  \n",
       "t_0006d41a73a8  Графики на експоненциални функции  Алгебра 2 н...  \n",
       "t_4054df11a74e  Flow Charts  Logical Thinking .This lesson is ...  "
      ]
     },
     "metadata": {},
     "output_type": "display_data"
    },
    {
     "name": "stdout",
     "output_type": "stream",
     "text": [
      "\n",
      "* Calculating content_features dataframe...\n",
      "\n",
      "\n",
      "Creating and cleaning content features...\n",
      "\n",
      "Created 'content_features'\n"
     ]
    },
    {
     "data": {
      "text/html": [
       "<div>\n",
       "<style scoped>\n",
       "    .dataframe tbody tr th:only-of-type {\n",
       "        vertical-align: middle;\n",
       "    }\n",
       "\n",
       "    .dataframe tbody tr th {\n",
       "        vertical-align: top;\n",
       "    }\n",
       "\n",
       "    .dataframe thead th {\n",
       "        text-align: right;\n",
       "    }\n",
       "</style>\n",
       "<table border=\"1\" class=\"dataframe\">\n",
       "  <thead>\n",
       "    <tr style=\"text-align: right;\">\n",
       "      <th></th>\n",
       "      <th>kind</th>\n",
       "      <th>language</th>\n",
       "      <th>sentences</th>\n",
       "    </tr>\n",
       "    <tr>\n",
       "      <th>id</th>\n",
       "      <th></th>\n",
       "      <th></th>\n",
       "      <th></th>\n",
       "    </tr>\n",
       "  </thead>\n",
       "  <tbody>\n",
       "    <tr>\n",
       "      <th>c_00002381196d</th>\n",
       "      <td>video</td>\n",
       "      <td>es</td>\n",
       "      <td>Sumar números de varios dígitos  48 029 233 93...</td>\n",
       "    </tr>\n",
       "    <tr>\n",
       "      <th>c_000087304a9e</th>\n",
       "      <td>video</td>\n",
       "      <td>it</td>\n",
       "      <td>Trovare i fattori di un numero.Sal trova i fat...</td>\n",
       "    </tr>\n",
       "    <tr>\n",
       "      <th>c_0000ad142ddb</th>\n",
       "      <td>video</td>\n",
       "      <td>es</td>\n",
       "      <td>Sumar curvas de demanda.Cómo añadir curvas de ...</td>\n",
       "    </tr>\n",
       "    <tr>\n",
       "      <th>c_0000c03adc8d</th>\n",
       "      <td>document</td>\n",
       "      <td>pt</td>\n",
       "      <td>Nado de aproximação.Neste vídeo você vai apren...</td>\n",
       "    </tr>\n",
       "    <tr>\n",
       "      <th>c_00016694ea2a</th>\n",
       "      <td>document</td>\n",
       "      <td>es</td>\n",
       "      <td>geometry m3 topic a overview pdf.geometry m3 t...</td>\n",
       "    </tr>\n",
       "  </tbody>\n",
       "</table>\n",
       "</div>"
      ],
      "text/plain": [
       "                    kind language  \\\n",
       "id                                  \n",
       "c_00002381196d     video       es   \n",
       "c_000087304a9e     video       it   \n",
       "c_0000ad142ddb     video       es   \n",
       "c_0000c03adc8d  document       pt   \n",
       "c_00016694ea2a  document       es   \n",
       "\n",
       "                                                        sentences  \n",
       "id                                                                 \n",
       "c_00002381196d  Sumar números de varios dígitos  48 029 233 93...  \n",
       "c_000087304a9e  Trovare i fattori di un numero.Sal trova i fat...  \n",
       "c_0000ad142ddb  Sumar curvas de demanda.Cómo añadir curvas de ...  \n",
       "c_0000c03adc8d  Nado de aproximação.Neste vídeo você vai apren...  \n",
       "c_00016694ea2a  geometry m3 topic a overview pdf.geometry m3 t...  "
      ]
     },
     "metadata": {},
     "output_type": "display_data"
    }
   ],
   "source": [
    "#Getting topics breadcrumbs or topics context\n",
    "print (\"\\n* Getting 'topics_breadcrumbs' dataframe...\\n\")\n",
    "df_topic_breadcrumbs = get_topic_breadcrumbs (df_topics)\n",
    "\n",
    "#Cleaning data and getting topics and contents features\n",
    "print ('\\n* Calculating topics_features dataframe...\\n')\n",
    "topics_features = build_topic_features (df_topics, df_topic_breadcrumbs, levels, topics_cols)\n",
    "\n",
    "print ('\\n* Calculating content_features dataframe...\\n')\n",
    "contents_features = build_content_features (df_content, content_cols)"
   ]
  },
  {
   "cell_type": "code",
   "execution_count": 23,
   "id": "aba5fdde",
   "metadata": {
    "execution": {
     "iopub.execute_input": "2023-02-03T08:42:03.065386Z",
     "iopub.status.busy": "2023-02-03T08:42:03.065015Z",
     "iopub.status.idle": "2023-02-03T08:42:03.075551Z",
     "shell.execute_reply": "2023-02-03T08:42:03.073928Z"
    },
    "papermill": {
     "duration": 0.028319,
     "end_time": "2023-02-03T08:42:03.077836",
     "exception": false,
     "start_time": "2023-02-03T08:42:03.049517",
     "status": "completed"
    },
    "tags": []
   },
   "outputs": [
    {
     "data": {
      "text/html": [
       "<div>\n",
       "<style scoped>\n",
       "    .dataframe tbody tr th:only-of-type {\n",
       "        vertical-align: middle;\n",
       "    }\n",
       "\n",
       "    .dataframe tbody tr th {\n",
       "        vertical-align: top;\n",
       "    }\n",
       "\n",
       "    .dataframe thead th {\n",
       "        text-align: right;\n",
       "    }\n",
       "</style>\n",
       "<table border=\"1\" class=\"dataframe\">\n",
       "  <thead>\n",
       "    <tr style=\"text-align: right;\">\n",
       "      <th></th>\n",
       "      <th>topic_breadcrumbs</th>\n",
       "    </tr>\n",
       "  </thead>\n",
       "  <tbody>\n",
       "    <tr>\n",
       "      <th>t_00069b63a70a</th>\n",
       "      <td>Flow Charts: Logical Thinking? Transcripts</td>\n",
       "    </tr>\n",
       "  </tbody>\n",
       "</table>\n",
       "</div>"
      ],
      "text/plain": [
       "                                         topic_breadcrumbs\n",
       "t_00069b63a70a  Flow Charts: Logical Thinking? Transcripts"
      ]
     },
     "execution_count": 23,
     "metadata": {},
     "output_type": "execute_result"
    }
   ],
   "source": [
    "df_topic_breadcrumbs"
   ]
  },
  {
   "cell_type": "code",
   "execution_count": 24,
   "id": "34d47302",
   "metadata": {
    "execution": {
     "iopub.execute_input": "2023-02-03T08:42:03.112781Z",
     "iopub.status.busy": "2023-02-03T08:42:03.111607Z",
     "iopub.status.idle": "2023-02-03T08:55:38.455162Z",
     "shell.execute_reply": "2023-02-03T08:55:38.453977Z"
    },
    "papermill": {
     "duration": 815.361953,
     "end_time": "2023-02-03T08:55:38.457485",
     "exception": false,
     "start_time": "2023-02-03T08:42:03.095532",
     "status": "completed"
    },
    "tags": []
   },
   "outputs": [
    {
     "name": "stdout",
     "output_type": "stream",
     "text": [
      "\n",
      "* Calculating embeddings for both topics and contents text columns...\n",
      "\n",
      "\n",
      "Getting embeddings for 5 sentences from topics\n"
     ]
    },
    {
     "data": {
      "application/vnd.jupyter.widget-view+json": {
       "model_id": "4506223f19a14a2682afa8f04f19bfe3",
       "version_major": 2,
       "version_minor": 0
      },
      "text/plain": [
       "Batches:   0%|          | 0/1 [00:00<?, ?it/s]"
      ]
     },
     "metadata": {},
     "output_type": "display_data"
    },
    {
     "name": "stdout",
     "output_type": "stream",
     "text": [
      "\n",
      "Getting embeddings for 154047 sentences from contents\n"
     ]
    },
    {
     "data": {
      "application/vnd.jupyter.widget-view+json": {
       "model_id": "abc2b7a44c294afd91a20f0a6807e08f",
       "version_major": 2,
       "version_minor": 0
      },
      "text/plain": [
       "Batches:   0%|          | 0/4814 [00:00<?, ?it/s]"
      ]
     },
     "metadata": {},
     "output_type": "display_data"
    },
    {
     "name": "stdout",
     "output_type": "stream",
     "text": [
      "Embeddings saved to /kaggle/working/topic_embeds.npy\n",
      "Embeddings saved to /kaggle/working/content_embeds.npy\n"
     ]
    }
   ],
   "source": [
    "use_saved_embeds = False\n",
    "if use_saved_embeds:\n",
    "    #Loading previously saved embeddings\n",
    "    print ('\\n* Loading embeddings for both topics and contents...\\n')\n",
    "    topic_load_path = dataset_path / 'topic_embeds.npy'\n",
    "    with open(topic_load_path, \"rb\") as f:\n",
    "        topics_embeds = np.load(f)\n",
    "    content_load_path = dataset_path / 'content_embeds.npy'\n",
    "    with open(content_load_path, \"rb\") as f:\n",
    "        contents_embeds = np.load(f)\n",
    "    print ('\\n Embeddings loaded.\\n')\n",
    "    topic_id_embeds = df_topics.index.tolist()\n",
    "    content_ids_embeds = df_content.index.tolist()     \n",
    "\n",
    "else:\n",
    "    #Calculating embeddings from text\n",
    "    print ('\\n* Calculating embeddings for both topics and contents text columns...\\n')\n",
    "    topics_embeds, contents_embeds, topic_id_embeds, content_ids_embeds = get_embeddings(topics_features, contents_features)\n",
    "\n",
    "    #Saving embeddings\n",
    "    topic_save_path = work_path / 'topic_embeds.npy'\n",
    "    with open(topic_save_path, \"wb\") as f:\n",
    "        np.save(f, topics_embeds)\n",
    "    print(f\"Embeddings saved to {topic_save_path}\")\n",
    "    contents_save_path = work_path / 'content_embeds.npy'\n",
    "    with open(contents_save_path, \"wb\") as f:\n",
    "        np.save(f, contents_embeds)\n",
    "    print(f\"Embeddings saved to {contents_save_path}\")"
   ]
  },
  {
   "cell_type": "markdown",
   "id": "443e5504",
   "metadata": {
    "papermill": {
     "duration": 0.013408,
     "end_time": "2023-02-03T08:55:38.484739",
     "exception": false,
     "start_time": "2023-02-03T08:55:38.471331",
     "status": "completed"
    },
    "tags": []
   },
   "source": [
    "# Getting topics-contents from sentence similarity"
   ]
  },
  {
   "cell_type": "code",
   "execution_count": 25,
   "id": "9d04f060",
   "metadata": {
    "execution": {
     "iopub.execute_input": "2023-02-03T08:55:38.513351Z",
     "iopub.status.busy": "2023-02-03T08:55:38.513049Z",
     "iopub.status.idle": "2023-02-03T08:55:38.771385Z",
     "shell.execute_reply": "2023-02-03T08:55:38.770438Z"
    },
    "papermill": {
     "duration": 0.275229,
     "end_time": "2023-02-03T08:55:38.773615",
     "exception": false,
     "start_time": "2023-02-03T08:55:38.498386",
     "status": "completed"
    },
    "tags": []
   },
   "outputs": [
    {
     "name": "stdout",
     "output_type": "stream",
     "text": [
      "\n",
      " * Calculating sentence similarity predictions...\n",
      "\n",
      "\n",
      "\n",
      "Calculating matches for 5 topic sentences...\n",
      "Finished matching in: 0.237745  s\n",
      "\n",
      " First predictions dataframe\n",
      "\n",
      "\n"
     ]
    },
    {
     "data": {
      "text/html": [
       "<div>\n",
       "<style scoped>\n",
       "    .dataframe tbody tr th:only-of-type {\n",
       "        vertical-align: middle;\n",
       "    }\n",
       "\n",
       "    .dataframe tbody tr th {\n",
       "        vertical-align: top;\n",
       "    }\n",
       "\n",
       "    .dataframe thead th {\n",
       "        text-align: right;\n",
       "    }\n",
       "</style>\n",
       "<table border=\"1\" class=\"dataframe\">\n",
       "  <thead>\n",
       "    <tr style=\"text-align: right;\">\n",
       "      <th></th>\n",
       "      <th>topic_id</th>\n",
       "      <th>content_ids</th>\n",
       "      <th>score</th>\n",
       "    </tr>\n",
       "  </thead>\n",
       "  <tbody>\n",
       "    <tr>\n",
       "      <th>0</th>\n",
       "      <td>t_00004da3a1b2</td>\n",
       "      <td>c_86adbb25971c</td>\n",
       "      <td>0.970608</td>\n",
       "    </tr>\n",
       "    <tr>\n",
       "      <th>1</th>\n",
       "      <td>t_00004da3a1b2</td>\n",
       "      <td>c_ab0ff31d7e92</td>\n",
       "      <td>0.968809</td>\n",
       "    </tr>\n",
       "    <tr>\n",
       "      <th>2</th>\n",
       "      <td>t_00004da3a1b2</td>\n",
       "      <td>c_72fbb1e5ac13</td>\n",
       "      <td>0.966928</td>\n",
       "    </tr>\n",
       "    <tr>\n",
       "      <th>3</th>\n",
       "      <td>t_00004da3a1b2</td>\n",
       "      <td>c_d5d9c2e82c51</td>\n",
       "      <td>0.964031</td>\n",
       "    </tr>\n",
       "    <tr>\n",
       "      <th>4</th>\n",
       "      <td>t_00004da3a1b2</td>\n",
       "      <td>c_8661941795f3</td>\n",
       "      <td>0.962870</td>\n",
       "    </tr>\n",
       "    <tr>\n",
       "      <th>...</th>\n",
       "      <td>...</td>\n",
       "      <td>...</td>\n",
       "      <td>...</td>\n",
       "    </tr>\n",
       "    <tr>\n",
       "      <th>245</th>\n",
       "      <td>t_4054df11a74e</td>\n",
       "      <td>c_51cb16d282df</td>\n",
       "      <td>0.684435</td>\n",
       "    </tr>\n",
       "    <tr>\n",
       "      <th>246</th>\n",
       "      <td>t_4054df11a74e</td>\n",
       "      <td>c_2b8fa1341ee3</td>\n",
       "      <td>0.683113</td>\n",
       "    </tr>\n",
       "    <tr>\n",
       "      <th>247</th>\n",
       "      <td>t_4054df11a74e</td>\n",
       "      <td>c_b8fc5ddce7f4</td>\n",
       "      <td>0.682610</td>\n",
       "    </tr>\n",
       "    <tr>\n",
       "      <th>248</th>\n",
       "      <td>t_4054df11a74e</td>\n",
       "      <td>c_70b34759dd3f</td>\n",
       "      <td>0.682559</td>\n",
       "    </tr>\n",
       "    <tr>\n",
       "      <th>249</th>\n",
       "      <td>t_4054df11a74e</td>\n",
       "      <td>c_10ba529b23e2</td>\n",
       "      <td>0.681402</td>\n",
       "    </tr>\n",
       "  </tbody>\n",
       "</table>\n",
       "<p>250 rows × 3 columns</p>\n",
       "</div>"
      ],
      "text/plain": [
       "           topic_id     content_ids     score\n",
       "0    t_00004da3a1b2  c_86adbb25971c  0.970608\n",
       "1    t_00004da3a1b2  c_ab0ff31d7e92  0.968809\n",
       "2    t_00004da3a1b2  c_72fbb1e5ac13  0.966928\n",
       "3    t_00004da3a1b2  c_d5d9c2e82c51  0.964031\n",
       "4    t_00004da3a1b2  c_8661941795f3  0.962870\n",
       "..              ...             ...       ...\n",
       "245  t_4054df11a74e  c_51cb16d282df  0.684435\n",
       "246  t_4054df11a74e  c_2b8fa1341ee3  0.683113\n",
       "247  t_4054df11a74e  c_b8fc5ddce7f4  0.682610\n",
       "248  t_4054df11a74e  c_70b34759dd3f  0.682559\n",
       "249  t_4054df11a74e  c_10ba529b23e2  0.681402\n",
       "\n",
       "[250 rows x 3 columns]"
      ]
     },
     "metadata": {},
     "output_type": "display_data"
    }
   ],
   "source": [
    "#Calculating similar pairs by cosine_similarity function from sentence transformers\n",
    "print('\\n * Calculating sentence similarity predictions...\\n\\n')\n",
    "preds = similarity_matches (topic_id_embeds, content_ids_embeds, contents_embeds, topics_embeds, device, content_per_topic)\n",
    "print('\\n First predictions dataframe\\n\\n')\n",
    "display(preds)\n",
    "preds.to_csv('cos_sim_predictions.csv')"
   ]
  },
  {
   "cell_type": "markdown",
   "id": "2c453e20",
   "metadata": {
    "papermill": {
     "duration": 0.013442,
     "end_time": "2023-02-03T08:55:38.801276",
     "exception": false,
     "start_time": "2023-02-03T08:55:38.787834",
     "status": "completed"
    },
    "tags": []
   },
   "source": [
    "## Calculating score for "
   ]
  },
  {
   "cell_type": "code",
   "execution_count": 26,
   "id": "b8960526",
   "metadata": {
    "execution": {
     "iopub.execute_input": "2023-02-03T08:55:38.830065Z",
     "iopub.status.busy": "2023-02-03T08:55:38.829730Z",
     "iopub.status.idle": "2023-02-03T08:55:39.105581Z",
     "shell.execute_reply": "2023-02-03T08:55:39.104587Z"
    },
    "papermill": {
     "duration": 0.29275,
     "end_time": "2023-02-03T08:55:39.107682",
     "exception": false,
     "start_time": "2023-02-03T08:55:38.814932",
     "status": "completed"
    },
    "tags": []
   },
   "outputs": [
    {
     "name": "stdout",
     "output_type": "stream",
     "text": [
      "\n",
      " Calculating F2 score for first predictions...\n",
      "\n",
      "\n",
      "\n",
      "Calculating y_target: 1 of 1 iterations...\n",
      "\n"
     ]
    },
    {
     "data": {
      "text/html": [
       "<div>\n",
       "<style scoped>\n",
       "    .dataframe tbody tr th:only-of-type {\n",
       "        vertical-align: middle;\n",
       "    }\n",
       "\n",
       "    .dataframe tbody tr th {\n",
       "        vertical-align: top;\n",
       "    }\n",
       "\n",
       "    .dataframe thead th {\n",
       "        text-align: right;\n",
       "    }\n",
       "</style>\n",
       "<table border=\"1\" class=\"dataframe\">\n",
       "  <thead>\n",
       "    <tr style=\"text-align: right;\">\n",
       "      <th></th>\n",
       "      <th>topic_id</th>\n",
       "      <th>content_ids</th>\n",
       "    </tr>\n",
       "  </thead>\n",
       "  <tbody>\n",
       "    <tr>\n",
       "      <th>0</th>\n",
       "      <td>t_00004da3a1b2</td>\n",
       "      <td>c_86adbb25971c c_ab0ff31d7e92 c_72fbb1e5ac13 c...</td>\n",
       "    </tr>\n",
       "    <tr>\n",
       "      <th>1</th>\n",
       "      <td>t_00068291e9a4</td>\n",
       "      <td>c_c8bcd26a5f3e c_ebb7fdf10a7e c_0392fd5c4421 c...</td>\n",
       "    </tr>\n",
       "    <tr>\n",
       "      <th>2</th>\n",
       "      <td>t_00069b63a70a</td>\n",
       "      <td>c_870b480bd246 c_594f640ff57f c_ffa424db45d8 c...</td>\n",
       "    </tr>\n",
       "    <tr>\n",
       "      <th>3</th>\n",
       "      <td>t_0006d41a73a8</td>\n",
       "      <td>c_1cddbc8c1069 c_e2d9686c8a6b c_451043364ae0 c...</td>\n",
       "    </tr>\n",
       "    <tr>\n",
       "      <th>4</th>\n",
       "      <td>t_4054df11a74e</td>\n",
       "      <td>c_f2d184a98231 c_81c0baea8ec5 c_6850adbf2b9a c...</td>\n",
       "    </tr>\n",
       "  </tbody>\n",
       "</table>\n",
       "</div>"
      ],
      "text/plain": [
       "         topic_id                                        content_ids\n",
       "0  t_00004da3a1b2  c_86adbb25971c c_ab0ff31d7e92 c_72fbb1e5ac13 c...\n",
       "1  t_00068291e9a4  c_c8bcd26a5f3e c_ebb7fdf10a7e c_0392fd5c4421 c...\n",
       "2  t_00069b63a70a  c_870b480bd246 c_594f640ff57f c_ffa424db45d8 c...\n",
       "3  t_0006d41a73a8  c_1cddbc8c1069 c_e2d9686c8a6b c_451043364ae0 c...\n",
       "4  t_4054df11a74e  c_f2d184a98231 c_81c0baea8ec5 c_6850adbf2b9a c..."
      ]
     },
     "metadata": {},
     "output_type": "display_data"
    },
    {
     "name": "stdout",
     "output_type": "stream",
     "text": [
      "\n",
      "F2score calculation finished.\n",
      "\n",
      "Topics to match content: 5\n",
      "\n",
      "Correct predictions: 4\n",
      "\n",
      "F2 Score: 0.019704910412858007\n",
      "\n",
      "\n",
      "\n",
      "*** Score dataframe for similarity matches only ***\n",
      "\n"
     ]
    },
    {
     "data": {
      "text/html": [
       "<div>\n",
       "<style scoped>\n",
       "    .dataframe tbody tr th:only-of-type {\n",
       "        vertical-align: middle;\n",
       "    }\n",
       "\n",
       "    .dataframe tbody tr th {\n",
       "        vertical-align: top;\n",
       "    }\n",
       "\n",
       "    .dataframe thead th {\n",
       "        text-align: right;\n",
       "    }\n",
       "</style>\n",
       "<table border=\"1\" class=\"dataframe\">\n",
       "  <thead>\n",
       "    <tr style=\"text-align: right;\">\n",
       "      <th></th>\n",
       "      <th>topic_id</th>\n",
       "      <th>content_ids_pred</th>\n",
       "      <th>content_ids_actual</th>\n",
       "      <th>correct_pred</th>\n",
       "      <th>precision</th>\n",
       "      <th>recall</th>\n",
       "      <th>f0.5</th>\n",
       "      <th>f1</th>\n",
       "      <th>f2</th>\n",
       "    </tr>\n",
       "  </thead>\n",
       "  <tbody>\n",
       "    <tr>\n",
       "      <th>0</th>\n",
       "      <td>t_00004da3a1b2</td>\n",
       "      <td>[c_86adbb25971c, c_ab0ff31d7e92, c_72fbb1e5ac1...</td>\n",
       "      <td>[c_1108dd0c7a5d, c_376c5a8eb028, c_5bc0e1e2cba...</td>\n",
       "      <td>1</td>\n",
       "      <td>0.25</td>\n",
       "      <td>0.02</td>\n",
       "      <td>0.075757</td>\n",
       "      <td>0.037037</td>\n",
       "      <td>0.024510</td>\n",
       "    </tr>\n",
       "    <tr>\n",
       "      <th>1</th>\n",
       "      <td>t_00068291e9a4</td>\n",
       "      <td>[c_c8bcd26a5f3e, c_ebb7fdf10a7e, c_0392fd5c442...</td>\n",
       "      <td>[c_639ea2ef9c95, c_89ce9367be10, c_ac1672cdcd2...</td>\n",
       "      <td>1</td>\n",
       "      <td>0.25</td>\n",
       "      <td>0.02</td>\n",
       "      <td>0.075757</td>\n",
       "      <td>0.037037</td>\n",
       "      <td>0.024510</td>\n",
       "    </tr>\n",
       "    <tr>\n",
       "      <th>2</th>\n",
       "      <td>t_00069b63a70a</td>\n",
       "      <td>[c_870b480bd246, c_594f640ff57f, c_ffa424db45d...</td>\n",
       "      <td>[c_11a1dc0bfb99]</td>\n",
       "      <td>0</td>\n",
       "      <td>0.00</td>\n",
       "      <td>0.00</td>\n",
       "      <td>0.000000</td>\n",
       "      <td>0.000000</td>\n",
       "      <td>0.000000</td>\n",
       "    </tr>\n",
       "    <tr>\n",
       "      <th>3</th>\n",
       "      <td>t_0006d41a73a8</td>\n",
       "      <td>[c_1cddbc8c1069, c_e2d9686c8a6b, c_451043364ae...</td>\n",
       "      <td>[c_0c6473c3480d, c_1c57a1316568, c_5e375cf14c4...</td>\n",
       "      <td>0</td>\n",
       "      <td>0.00</td>\n",
       "      <td>0.00</td>\n",
       "      <td>0.000000</td>\n",
       "      <td>0.000000</td>\n",
       "      <td>0.000000</td>\n",
       "    </tr>\n",
       "    <tr>\n",
       "      <th>4</th>\n",
       "      <td>t_4054df11a74e</td>\n",
       "      <td>[c_f2d184a98231, c_81c0baea8ec5, c_6850adbf2b9...</td>\n",
       "      <td>[c_3695c5dc1df6, c_f2d184a98231]</td>\n",
       "      <td>2</td>\n",
       "      <td>1.00</td>\n",
       "      <td>0.04</td>\n",
       "      <td>0.172414</td>\n",
       "      <td>0.076923</td>\n",
       "      <td>0.049505</td>\n",
       "    </tr>\n",
       "  </tbody>\n",
       "</table>\n",
       "</div>"
      ],
      "text/plain": [
       "         topic_id                                   content_ids_pred  \\\n",
       "0  t_00004da3a1b2  [c_86adbb25971c, c_ab0ff31d7e92, c_72fbb1e5ac1...   \n",
       "1  t_00068291e9a4  [c_c8bcd26a5f3e, c_ebb7fdf10a7e, c_0392fd5c442...   \n",
       "2  t_00069b63a70a  [c_870b480bd246, c_594f640ff57f, c_ffa424db45d...   \n",
       "3  t_0006d41a73a8  [c_1cddbc8c1069, c_e2d9686c8a6b, c_451043364ae...   \n",
       "4  t_4054df11a74e  [c_f2d184a98231, c_81c0baea8ec5, c_6850adbf2b9...   \n",
       "\n",
       "                                  content_ids_actual  correct_pred  precision  \\\n",
       "0  [c_1108dd0c7a5d, c_376c5a8eb028, c_5bc0e1e2cba...             1       0.25   \n",
       "1  [c_639ea2ef9c95, c_89ce9367be10, c_ac1672cdcd2...             1       0.25   \n",
       "2                                   [c_11a1dc0bfb99]             0       0.00   \n",
       "3  [c_0c6473c3480d, c_1c57a1316568, c_5e375cf14c4...             0       0.00   \n",
       "4                   [c_3695c5dc1df6, c_f2d184a98231]             2       1.00   \n",
       "\n",
       "   recall      f0.5        f1        f2  \n",
       "0    0.02  0.075757  0.037037  0.024510  \n",
       "1    0.02  0.075757  0.037037  0.024510  \n",
       "2    0.00  0.000000  0.000000  0.000000  \n",
       "3    0.00  0.000000  0.000000  0.000000  \n",
       "4    0.04  0.172414  0.076923  0.049505  "
      ]
     },
     "metadata": {},
     "output_type": "display_data"
    },
    {
     "name": "stdout",
     "output_type": "stream",
     "text": [
      "\n",
      "*** First predictions with sentences similarity ***\n",
      "\n"
     ]
    },
    {
     "data": {
      "text/html": [
       "<div>\n",
       "<style scoped>\n",
       "    .dataframe tbody tr th:only-of-type {\n",
       "        vertical-align: middle;\n",
       "    }\n",
       "\n",
       "    .dataframe tbody tr th {\n",
       "        vertical-align: top;\n",
       "    }\n",
       "\n",
       "    .dataframe thead th {\n",
       "        text-align: right;\n",
       "    }\n",
       "</style>\n",
       "<table border=\"1\" class=\"dataframe\">\n",
       "  <thead>\n",
       "    <tr style=\"text-align: right;\">\n",
       "      <th></th>\n",
       "      <th>topic_id</th>\n",
       "      <th>content_ids</th>\n",
       "      <th>score</th>\n",
       "    </tr>\n",
       "  </thead>\n",
       "  <tbody>\n",
       "    <tr>\n",
       "      <th>0</th>\n",
       "      <td>t_00004da3a1b2</td>\n",
       "      <td>c_86adbb25971c</td>\n",
       "      <td>0.970608</td>\n",
       "    </tr>\n",
       "    <tr>\n",
       "      <th>1</th>\n",
       "      <td>t_00004da3a1b2</td>\n",
       "      <td>c_ab0ff31d7e92</td>\n",
       "      <td>0.968809</td>\n",
       "    </tr>\n",
       "    <tr>\n",
       "      <th>2</th>\n",
       "      <td>t_00004da3a1b2</td>\n",
       "      <td>c_72fbb1e5ac13</td>\n",
       "      <td>0.966928</td>\n",
       "    </tr>\n",
       "    <tr>\n",
       "      <th>3</th>\n",
       "      <td>t_00004da3a1b2</td>\n",
       "      <td>c_d5d9c2e82c51</td>\n",
       "      <td>0.964031</td>\n",
       "    </tr>\n",
       "    <tr>\n",
       "      <th>4</th>\n",
       "      <td>t_00004da3a1b2</td>\n",
       "      <td>c_8661941795f3</td>\n",
       "      <td>0.962870</td>\n",
       "    </tr>\n",
       "    <tr>\n",
       "      <th>...</th>\n",
       "      <td>...</td>\n",
       "      <td>...</td>\n",
       "      <td>...</td>\n",
       "    </tr>\n",
       "    <tr>\n",
       "      <th>245</th>\n",
       "      <td>t_4054df11a74e</td>\n",
       "      <td>c_51cb16d282df</td>\n",
       "      <td>0.684435</td>\n",
       "    </tr>\n",
       "    <tr>\n",
       "      <th>246</th>\n",
       "      <td>t_4054df11a74e</td>\n",
       "      <td>c_2b8fa1341ee3</td>\n",
       "      <td>0.683113</td>\n",
       "    </tr>\n",
       "    <tr>\n",
       "      <th>247</th>\n",
       "      <td>t_4054df11a74e</td>\n",
       "      <td>c_b8fc5ddce7f4</td>\n",
       "      <td>0.682610</td>\n",
       "    </tr>\n",
       "    <tr>\n",
       "      <th>248</th>\n",
       "      <td>t_4054df11a74e</td>\n",
       "      <td>c_70b34759dd3f</td>\n",
       "      <td>0.682559</td>\n",
       "    </tr>\n",
       "    <tr>\n",
       "      <th>249</th>\n",
       "      <td>t_4054df11a74e</td>\n",
       "      <td>c_10ba529b23e2</td>\n",
       "      <td>0.681402</td>\n",
       "    </tr>\n",
       "  </tbody>\n",
       "</table>\n",
       "<p>250 rows × 3 columns</p>\n",
       "</div>"
      ],
      "text/plain": [
       "           topic_id     content_ids     score\n",
       "0    t_00004da3a1b2  c_86adbb25971c  0.970608\n",
       "1    t_00004da3a1b2  c_ab0ff31d7e92  0.968809\n",
       "2    t_00004da3a1b2  c_72fbb1e5ac13  0.966928\n",
       "3    t_00004da3a1b2  c_d5d9c2e82c51  0.964031\n",
       "4    t_00004da3a1b2  c_8661941795f3  0.962870\n",
       "..              ...             ...       ...\n",
       "245  t_4054df11a74e  c_51cb16d282df  0.684435\n",
       "246  t_4054df11a74e  c_2b8fa1341ee3  0.683113\n",
       "247  t_4054df11a74e  c_b8fc5ddce7f4  0.682610\n",
       "248  t_4054df11a74e  c_70b34759dd3f  0.682559\n",
       "249  t_4054df11a74e  c_10ba529b23e2  0.681402\n",
       "\n",
       "[250 rows x 3 columns]"
      ]
     },
     "metadata": {},
     "output_type": "display_data"
    }
   ],
   "source": [
    "print('\\n Calculating F2 score for first predictions...\\n\\n')\n",
    "\n",
    "# Getting 'df_preds' with some precautions as 'preds' shape can explode to \n",
    "# number of topics x number of similarities (200) getting easily in millions of lines\n",
    "# Since we are concatenating all contents per topic in one row for score calculation\n",
    "# the dataframe 'df_preds' gets again only the number of topics as size.\n",
    "df_num_rows = 2500000\n",
    "list_preds=[]\n",
    "iterations = len(preds)//df_num_rows\n",
    "if iterations == 0:\n",
    "    iterations = 1\n",
    "for i in range(iterations):\n",
    "    print (f'\\nCalculating y_target: {i+1} of {iterations} iterations...\\n')\n",
    "    max_r = df_num_rows*(i+1)\n",
    "    if max_r > len(preds):\n",
    "        max_r = len(preds)\n",
    "    min_r = df_num_rows*i \n",
    "    df_preds_aux = preds.copy()[min_r:max_r]\n",
    "    df_preds_aux = df_preds_aux.iloc[:, [0,1]]\n",
    "    df_preds_aux = df_preds_aux.set_index('topic_id').groupby(level=0).agg(lambda x: ' '.join(x)).reset_index()\n",
    "    list_preds.append (df_preds_aux)\n",
    "df_preds=pd.concat (list_preds)\n",
    "display(df_preds)\n",
    "\n",
    "# Calculating fscore and validating topics-contents matches from df_preds (first predictions) with \n",
    "# df_corr (correlations.csv)\n",
    "# Results: a dataframe with scoring; a list with true positive predicted matches\n",
    "fscore, _ = calculate_Fscore(df_preds.copy(), df_corr.copy().reset_index())\n",
    "#Showing scoring results\n",
    "print ('\\nTopics to match content:', len(df_preds))\n",
    "print ('\\nCorrect predictions:', fscore.correct_pred.sum())\n",
    "print ('\\nF2 Score:', fscore.f2.mean())\n",
    "print ('\\n')\n",
    "    \n",
    "print ('\\n*** Score dataframe for similarity matches only ***\\n')\n",
    "display(fscore)\n",
    "    \n",
    "print ('\\n*** First predictions with sentences similarity ***\\n')\n",
    "display(preds)"
   ]
  },
  {
   "cell_type": "markdown",
   "id": "bc309726",
   "metadata": {
    "papermill": {
     "duration": 0.014225,
     "end_time": "2023-02-03T08:55:39.136845",
     "exception": false,
     "start_time": "2023-02-03T08:55:39.122620",
     "status": "completed"
    },
    "tags": []
   },
   "source": [
    "# Setup Features and Target"
   ]
  },
  {
   "cell_type": "code",
   "execution_count": 27,
   "id": "1fca7fa2",
   "metadata": {
    "execution": {
     "iopub.execute_input": "2023-02-03T08:55:39.167839Z",
     "iopub.status.busy": "2023-02-03T08:55:39.167480Z",
     "iopub.status.idle": "2023-02-03T08:55:39.279936Z",
     "shell.execute_reply": "2023-02-03T08:55:39.277998Z"
    },
    "papermill": {
     "duration": 0.13232,
     "end_time": "2023-02-03T08:55:39.283671",
     "exception": false,
     "start_time": "2023-02-03T08:55:39.151351",
     "status": "completed"
    },
    "tags": []
   },
   "outputs": [
    {
     "name": "stdout",
     "output_type": "stream",
     "text": [
      "\n",
      "* Calculating datasets X and y_target...\n",
      "\n",
      "\n",
      "\n",
      "* Defining features for X...\n",
      "\n",
      "\n",
      "Calculating features: 1 of 1 iterations...\n",
      "\n",
      "\n",
      "Partial X defined.\n",
      "\n",
      "X is defined.\n",
      "\n",
      "Displaying datasets:\n",
      "\n",
      "\n"
     ]
    },
    {
     "data": {
      "text/html": [
       "<div>\n",
       "<style scoped>\n",
       "    .dataframe tbody tr th:only-of-type {\n",
       "        vertical-align: middle;\n",
       "    }\n",
       "\n",
       "    .dataframe tbody tr th {\n",
       "        vertical-align: top;\n",
       "    }\n",
       "\n",
       "    .dataframe thead th {\n",
       "        text-align: right;\n",
       "    }\n",
       "</style>\n",
       "<table border=\"1\" class=\"dataframe\">\n",
       "  <thead>\n",
       "    <tr style=\"text-align: right;\">\n",
       "      <th></th>\n",
       "      <th>topic_id</th>\n",
       "      <th>content_ids</th>\n",
       "      <th>channel</th>\n",
       "      <th>category</th>\n",
       "      <th>level</th>\n",
       "      <th>language</th>\n",
       "      <th>topic_title</th>\n",
       "      <th>kind</th>\n",
       "      <th>content_title</th>\n",
       "    </tr>\n",
       "  </thead>\n",
       "  <tbody>\n",
       "    <tr>\n",
       "      <th>0</th>\n",
       "      <td>t_00004da3a1b2</td>\n",
       "      <td>c_86adbb25971c</td>\n",
       "      <td>000cf7</td>\n",
       "      <td>source</td>\n",
       "      <td>four</td>\n",
       "      <td>bg</td>\n",
       "      <td>Откриването на резисторите</td>\n",
       "      <td>exercise</td>\n",
       "      <td>Разбиране за стойността на израза</td>\n",
       "    </tr>\n",
       "    <tr>\n",
       "      <th>173</th>\n",
       "      <td>t_0006d41a73a8</td>\n",
       "      <td>c_658e7a5417bf</td>\n",
       "      <td>000cf7</td>\n",
       "      <td>source</td>\n",
       "      <td>four</td>\n",
       "      <td>bg</td>\n",
       "      <td>Графики на експоненциални функции  Алгебра 2 н...</td>\n",
       "      <td>exercise</td>\n",
       "      <td>Умножение на едночлени по многочлени   задача</td>\n",
       "    </tr>\n",
       "    <tr>\n",
       "      <th>172</th>\n",
       "      <td>t_0006d41a73a8</td>\n",
       "      <td>c_eaa2ed259c6f</td>\n",
       "      <td>000cf7</td>\n",
       "      <td>source</td>\n",
       "      <td>four</td>\n",
       "      <td>bg</td>\n",
       "      <td>Графики на експоненциални функции  Алгебра 2 н...</td>\n",
       "      <td>video</td>\n",
       "      <td>Намиране на ъглите на равнобедрени триъгълници</td>\n",
       "    </tr>\n",
       "    <tr>\n",
       "      <th>171</th>\n",
       "      <td>t_0006d41a73a8</td>\n",
       "      <td>c_e0b5c3dfa43d</td>\n",
       "      <td>000cf7</td>\n",
       "      <td>source</td>\n",
       "      <td>four</td>\n",
       "      <td>bg</td>\n",
       "      <td>Графики на експоненциални функции  Алгебра 2 н...</td>\n",
       "      <td>exercise</td>\n",
       "      <td>Пресечни точки от графика</td>\n",
       "    </tr>\n",
       "    <tr>\n",
       "      <th>170</th>\n",
       "      <td>t_0006d41a73a8</td>\n",
       "      <td>c_530f952a8536</td>\n",
       "      <td>000cf7</td>\n",
       "      <td>source</td>\n",
       "      <td>four</td>\n",
       "      <td>bg</td>\n",
       "      <td>Графики на експоненциални функции  Алгебра 2 н...</td>\n",
       "      <td>exercise</td>\n",
       "      <td>Събиране на вероятности</td>\n",
       "    </tr>\n",
       "  </tbody>\n",
       "</table>\n",
       "</div>"
      ],
      "text/plain": [
       "           topic_id     content_ids channel category level language  \\\n",
       "0    t_00004da3a1b2  c_86adbb25971c  000cf7   source  four       bg   \n",
       "173  t_0006d41a73a8  c_658e7a5417bf  000cf7   source  four       bg   \n",
       "172  t_0006d41a73a8  c_eaa2ed259c6f  000cf7   source  four       bg   \n",
       "171  t_0006d41a73a8  c_e0b5c3dfa43d  000cf7   source  four       bg   \n",
       "170  t_0006d41a73a8  c_530f952a8536  000cf7   source  four       bg   \n",
       "\n",
       "                                           topic_title      kind  \\\n",
       "0                           Откриването на резисторите  exercise   \n",
       "173  Графики на експоненциални функции  Алгебра 2 н...  exercise   \n",
       "172  Графики на експоненциални функции  Алгебра 2 н...     video   \n",
       "171  Графики на експоненциални функции  Алгебра 2 н...  exercise   \n",
       "170  Графики на експоненциални функции  Алгебра 2 н...  exercise   \n",
       "\n",
       "                                      content_title  \n",
       "0                 Разбиране за стойността на израза  \n",
       "173   Умножение на едночлени по многочлени   задача  \n",
       "172  Намиране на ъглите на равнобедрени триъгълници  \n",
       "171                       Пресечни точки от графика  \n",
       "170                         Събиране на вероятности  "
      ]
     },
     "metadata": {},
     "output_type": "display_data"
    },
    {
     "name": "stdout",
     "output_type": "stream",
     "text": [
      "X_test shape(250, 9)\n"
     ]
    }
   ],
   "source": [
    "print ('\\n* Calculating datasets X and y_target...\\n\\n')\n",
    "\n",
    "X_test = get_features (preds, topics_features, contents_features)\n",
    "print ('\\nDisplaying datasets:\\n\\n')\n",
    "display (X_test.head())\n",
    "print (f'X_test shape{X_test.shape}')"
   ]
  },
  {
   "cell_type": "code",
   "execution_count": 28,
   "id": "b27fb21a",
   "metadata": {
    "execution": {
     "iopub.execute_input": "2023-02-03T08:55:39.317384Z",
     "iopub.status.busy": "2023-02-03T08:55:39.317074Z",
     "iopub.status.idle": "2023-02-03T08:55:39.327073Z",
     "shell.execute_reply": "2023-02-03T08:55:39.325921Z"
    },
    "papermill": {
     "duration": 0.028855,
     "end_time": "2023-02-03T08:55:39.329148",
     "exception": false,
     "start_time": "2023-02-03T08:55:39.300293",
     "status": "completed"
    },
    "tags": []
   },
   "outputs": [
    {
     "name": "stdout",
     "output_type": "stream",
     "text": [
      "\n",
      "Features set saved in file at /kaggle/working/x_test.csv.\n",
      "\n",
      "\n"
     ]
    }
   ],
   "source": [
    "# save out features and target\n",
    "DATA_PATH = Path.cwd().parent.resolve()\n",
    "work_path = DATA_PATH / 'working'\n",
    "\n",
    "x_test_pth = work_path / \"x_test.csv\"\n",
    "x_test_pth.parent.mkdir(exist_ok=True, parents=True)\n",
    "\n",
    "X_test.to_csv (x_test_pth, index=False)\n",
    "print (f\"\\nFeatures set saved in file at {x_test_pth}.\\n\\n\")"
   ]
  },
  {
   "cell_type": "markdown",
   "id": "9912b251",
   "metadata": {
    "papermill": {
     "duration": 0.015377,
     "end_time": "2023-02-03T08:55:39.360121",
     "exception": false,
     "start_time": "2023-02-03T08:55:39.344744",
     "status": "completed"
    },
    "tags": []
   },
   "source": [
    "# Using LGBMClassifier"
   ]
  },
  {
   "cell_type": "markdown",
   "id": "c0c533b9",
   "metadata": {
    "papermill": {
     "duration": 0.015344,
     "end_time": "2023-02-03T08:55:39.391523",
     "exception": false,
     "start_time": "2023-02-03T08:55:39.376179",
     "status": "completed"
    },
    "tags": []
   },
   "source": [
    "As a classifier, the choice is LightGBM's LGBMClassifier.\n",
    "\n",
    "It has the advantage of not needing hot-encoding and being 8-times faster than the same OneHotEncoder from sklearn.\n",
    "\n",
    "Below, the %%writefile line magic is used to write out a training script. Then ! to run a shell command from the jupyter notebook, and kick off the script. This is due to a [bug](https://github.com/microsoft/LightGBM/issues/4229).\n",
    "\n",
    "We'll use the typer package to make our script easy to run in the command line."
   ]
  },
  {
   "cell_type": "markdown",
   "id": "09376da1",
   "metadata": {
    "papermill": {
     "duration": 0.015612,
     "end_time": "2023-02-03T08:55:39.422300",
     "exception": false,
     "start_time": "2023-02-03T08:55:39.406688",
     "status": "completed"
    },
    "tags": []
   },
   "source": [
    "# Validation predictions"
   ]
  },
  {
   "cell_type": "code",
   "execution_count": 29,
   "id": "123c590f",
   "metadata": {
    "execution": {
     "iopub.execute_input": "2023-02-03T08:55:39.455876Z",
     "iopub.status.busy": "2023-02-03T08:55:39.454261Z",
     "iopub.status.idle": "2023-02-03T08:55:39.462979Z",
     "shell.execute_reply": "2023-02-03T08:55:39.461750Z"
    },
    "papermill": {
     "duration": 0.027407,
     "end_time": "2023-02-03T08:55:39.465108",
     "exception": false,
     "start_time": "2023-02-03T08:55:39.437701",
     "status": "completed"
    },
    "tags": []
   },
   "outputs": [
    {
     "name": "stdout",
     "output_type": "stream",
     "text": [
      "Writing predict_gbm_model.py\n"
     ]
    }
   ],
   "source": [
    "%%writefile predict_gbm_model.py\n",
    "import lightgbm as lgb\n",
    "\n",
    "import joblib\n",
    "from loguru import logger\n",
    "import numpy as np\n",
    "import pandas as pd\n",
    "from pathlib import Path\n",
    "import typer\n",
    "\n",
    "DATA_PATH = Path.cwd().parent.resolve()\n",
    "MODEL_DIR = DATA_PATH / 'input/learningequalityfiles'\n",
    "DATA_DIR = DATA_PATH / 'working'\n",
    "\n",
    "def main(\n",
    "    model_weights_path = MODEL_DIR / \"lgb_classifier.txt\",\n",
    "    features_path = DATA_DIR / \"x_test.csv\",\n",
    "    preds_save_path = DATA_DIR / \"y_preds.npy\",\n",
    "):\n",
    "    \"\"\"\n",
    "    Generate predictions with a LightGBM model using weights saved at model_weights_path\n",
    "    and features saved at features_path. Save out predictions to preds_save_path.\n",
    "    \"\"\"\n",
    "    # load model weights\n",
    "    lgb_model = joblib.load(model_weights_path)\n",
    "    logger.info(f\"Loaded model {lgb_model} from {model_weights_path}\")\n",
    "\n",
    "    # load the features\n",
    "    X_val = pd.read_csv (features_path, dtype=\"category\")\n",
    "    logger.info(f\"Loaded features of shape {X_val.shape} from {features_path}\")\n",
    "\n",
    "    # generate predictions\n",
    "    y_preds = lgb_model.predict(X_val)\n",
    "\n",
    "    # save out predictions\n",
    "    with open(preds_save_path, \"wb\") as f:\n",
    "        np.save(f, y_preds)\n",
    "    logger.success(f\"Predictions saved to {preds_save_path}\")\n",
    "\n",
    "\n",
    "if __name__ == \"__main__\":\n",
    "    typer.run(main)"
   ]
  },
  {
   "cell_type": "code",
   "execution_count": 30,
   "id": "9bb2793f",
   "metadata": {
    "execution": {
     "iopub.execute_input": "2023-02-03T08:55:39.498432Z",
     "iopub.status.busy": "2023-02-03T08:55:39.496937Z",
     "iopub.status.idle": "2023-02-03T08:55:44.198937Z",
     "shell.execute_reply": "2023-02-03T08:55:44.197737Z"
    },
    "papermill": {
     "duration": 4.721334,
     "end_time": "2023-02-03T08:55:44.201850",
     "exception": false,
     "start_time": "2023-02-03T08:55:39.480516",
     "status": "completed"
    },
    "tags": []
   },
   "outputs": [
    {
     "name": "stdout",
     "output_type": "stream",
     "text": [
      "huggingface/tokenizers: The current process just got forked, after parallelism has already been used. Disabling parallelism to avoid deadlocks...\n",
      "To disable this warning, you can either:\n",
      "\t- Avoid using `tokenizers` before the fork if possible\n",
      "\t- Explicitly set the environment variable TOKENIZERS_PARALLELISM=(true | false)\n",
      "\u001b[32m2023-02-03 08:55:43.556\u001b[0m | \u001b[1mINFO    \u001b[0m | \u001b[36m__main__\u001b[0m:\u001b[36mmain\u001b[0m:\u001b[36m25\u001b[0m - \u001b[1mLoaded model LGBMClassifier(num_leaves=50, objective='binary', random_state=10) from /kaggle/input/learningequalityfiles/lgb_classifier.txt\u001b[0m\r\n",
      "\u001b[32m2023-02-03 08:55:43.567\u001b[0m | \u001b[1mINFO    \u001b[0m | \u001b[36m__main__\u001b[0m:\u001b[36mmain\u001b[0m:\u001b[36m29\u001b[0m - \u001b[1mLoaded features of shape (250, 9) from /kaggle/working/x_test.csv\u001b[0m\r\n",
      "\u001b[32m2023-02-03 08:55:43.594\u001b[0m | \u001b[32m\u001b[1mSUCCESS \u001b[0m | \u001b[36m__main__\u001b[0m:\u001b[36mmain\u001b[0m:\u001b[36m37\u001b[0m - \u001b[32m\u001b[1mPredictions saved to /kaggle/working/y_preds.npy\u001b[0m\r\n"
     ]
    }
   ],
   "source": [
    "!python predict_gbm_model.py"
   ]
  },
  {
   "cell_type": "markdown",
   "id": "ed231bd1",
   "metadata": {
    "papermill": {
     "duration": 0.015103,
     "end_time": "2023-02-03T08:55:44.232697",
     "exception": false,
     "start_time": "2023-02-03T08:55:44.217594",
     "status": "completed"
    },
    "tags": []
   },
   "source": [
    "# Model Scoring"
   ]
  },
  {
   "cell_type": "code",
   "execution_count": 31,
   "id": "447b3961",
   "metadata": {
    "execution": {
     "iopub.execute_input": "2023-02-03T08:55:44.265134Z",
     "iopub.status.busy": "2023-02-03T08:55:44.264123Z",
     "iopub.status.idle": "2023-02-03T08:55:44.283392Z",
     "shell.execute_reply": "2023-02-03T08:55:44.282465Z"
    },
    "papermill": {
     "duration": 0.0376,
     "end_time": "2023-02-03T08:55:44.285411",
     "exception": false,
     "start_time": "2023-02-03T08:55:44.247811",
     "status": "completed"
    },
    "tags": []
   },
   "outputs": [
    {
     "data": {
      "text/html": [
       "<div>\n",
       "<style scoped>\n",
       "    .dataframe tbody tr th:only-of-type {\n",
       "        vertical-align: middle;\n",
       "    }\n",
       "\n",
       "    .dataframe tbody tr th {\n",
       "        vertical-align: top;\n",
       "    }\n",
       "\n",
       "    .dataframe thead th {\n",
       "        text-align: right;\n",
       "    }\n",
       "</style>\n",
       "<table border=\"1\" class=\"dataframe\">\n",
       "  <thead>\n",
       "    <tr style=\"text-align: right;\">\n",
       "      <th></th>\n",
       "      <th>topic_id</th>\n",
       "      <th>content_ids</th>\n",
       "      <th>channel</th>\n",
       "      <th>category</th>\n",
       "      <th>level</th>\n",
       "      <th>language</th>\n",
       "      <th>topic_title</th>\n",
       "      <th>kind</th>\n",
       "      <th>content_title</th>\n",
       "    </tr>\n",
       "  </thead>\n",
       "  <tbody>\n",
       "    <tr>\n",
       "      <th>0</th>\n",
       "      <td>t_00004da3a1b2</td>\n",
       "      <td>c_86adbb25971c</td>\n",
       "      <td>000cf7</td>\n",
       "      <td>source</td>\n",
       "      <td>four</td>\n",
       "      <td>bg</td>\n",
       "      <td>Откриването на резисторите</td>\n",
       "      <td>exercise</td>\n",
       "      <td>Разбиране за стойността на израза</td>\n",
       "    </tr>\n",
       "    <tr>\n",
       "      <th>173</th>\n",
       "      <td>t_0006d41a73a8</td>\n",
       "      <td>c_658e7a5417bf</td>\n",
       "      <td>000cf7</td>\n",
       "      <td>source</td>\n",
       "      <td>four</td>\n",
       "      <td>bg</td>\n",
       "      <td>Графики на експоненциални функции  Алгебра 2 н...</td>\n",
       "      <td>exercise</td>\n",
       "      <td>Умножение на едночлени по многочлени   задача</td>\n",
       "    </tr>\n",
       "    <tr>\n",
       "      <th>172</th>\n",
       "      <td>t_0006d41a73a8</td>\n",
       "      <td>c_eaa2ed259c6f</td>\n",
       "      <td>000cf7</td>\n",
       "      <td>source</td>\n",
       "      <td>four</td>\n",
       "      <td>bg</td>\n",
       "      <td>Графики на експоненциални функции  Алгебра 2 н...</td>\n",
       "      <td>video</td>\n",
       "      <td>Намиране на ъглите на равнобедрени триъгълници</td>\n",
       "    </tr>\n",
       "    <tr>\n",
       "      <th>171</th>\n",
       "      <td>t_0006d41a73a8</td>\n",
       "      <td>c_e0b5c3dfa43d</td>\n",
       "      <td>000cf7</td>\n",
       "      <td>source</td>\n",
       "      <td>four</td>\n",
       "      <td>bg</td>\n",
       "      <td>Графики на експоненциални функции  Алгебра 2 н...</td>\n",
       "      <td>exercise</td>\n",
       "      <td>Пресечни точки от графика</td>\n",
       "    </tr>\n",
       "    <tr>\n",
       "      <th>170</th>\n",
       "      <td>t_0006d41a73a8</td>\n",
       "      <td>c_530f952a8536</td>\n",
       "      <td>000cf7</td>\n",
       "      <td>source</td>\n",
       "      <td>four</td>\n",
       "      <td>bg</td>\n",
       "      <td>Графики на експоненциални функции  Алгебра 2 н...</td>\n",
       "      <td>exercise</td>\n",
       "      <td>Събиране на вероятности</td>\n",
       "    </tr>\n",
       "    <tr>\n",
       "      <th>...</th>\n",
       "      <td>...</td>\n",
       "      <td>...</td>\n",
       "      <td>...</td>\n",
       "      <td>...</td>\n",
       "      <td>...</td>\n",
       "      <td>...</td>\n",
       "      <td>...</td>\n",
       "      <td>...</td>\n",
       "      <td>...</td>\n",
       "    </tr>\n",
       "    <tr>\n",
       "      <th>78</th>\n",
       "      <td>t_00068291e9a4</td>\n",
       "      <td>c_d4a17cecbb19</td>\n",
       "      <td>8e286a</td>\n",
       "      <td>source</td>\n",
       "      <td>four</td>\n",
       "      <td>pt</td>\n",
       "      <td>Entradas e saídas de uma função</td>\n",
       "      <td>html5</td>\n",
       "      <td>Ecuaciones y Funciones</td>\n",
       "    </tr>\n",
       "    <tr>\n",
       "      <th>77</th>\n",
       "      <td>t_00068291e9a4</td>\n",
       "      <td>c_40c8e05e63f6</td>\n",
       "      <td>8e286a</td>\n",
       "      <td>source</td>\n",
       "      <td>four</td>\n",
       "      <td>pt</td>\n",
       "      <td>Entradas e saídas de uma função</td>\n",
       "      <td>html5</td>\n",
       "      <td>Función de las Enzimas</td>\n",
       "    </tr>\n",
       "    <tr>\n",
       "      <th>76</th>\n",
       "      <td>t_00068291e9a4</td>\n",
       "      <td>c_0809a3357679</td>\n",
       "      <td>8e286a</td>\n",
       "      <td>source</td>\n",
       "      <td>four</td>\n",
       "      <td>pt</td>\n",
       "      <td>Entradas e saídas de uma função</td>\n",
       "      <td>exercise</td>\n",
       "      <td>Problemas de domínio de funções</td>\n",
       "    </tr>\n",
       "    <tr>\n",
       "      <th>87</th>\n",
       "      <td>t_00068291e9a4</td>\n",
       "      <td>c_4224438b1ad2</td>\n",
       "      <td>8e286a</td>\n",
       "      <td>source</td>\n",
       "      <td>four</td>\n",
       "      <td>pt</td>\n",
       "      <td>Entradas e saídas de uma função</td>\n",
       "      <td>exercise</td>\n",
       "      <td>La derivada como un límite</td>\n",
       "    </tr>\n",
       "    <tr>\n",
       "      <th>98</th>\n",
       "      <td>t_00068291e9a4</td>\n",
       "      <td>c_25d7700abcb3</td>\n",
       "      <td>8e286a</td>\n",
       "      <td>source</td>\n",
       "      <td>four</td>\n",
       "      <td>pt</td>\n",
       "      <td>Entradas e saídas de uma função</td>\n",
       "      <td>html5</td>\n",
       "      <td>Funciones de Viajes</td>\n",
       "    </tr>\n",
       "  </tbody>\n",
       "</table>\n",
       "<p>250 rows × 9 columns</p>\n",
       "</div>"
      ],
      "text/plain": [
       "           topic_id     content_ids channel category level language  \\\n",
       "0    t_00004da3a1b2  c_86adbb25971c  000cf7   source  four       bg   \n",
       "173  t_0006d41a73a8  c_658e7a5417bf  000cf7   source  four       bg   \n",
       "172  t_0006d41a73a8  c_eaa2ed259c6f  000cf7   source  four       bg   \n",
       "171  t_0006d41a73a8  c_e0b5c3dfa43d  000cf7   source  four       bg   \n",
       "170  t_0006d41a73a8  c_530f952a8536  000cf7   source  four       bg   \n",
       "..              ...             ...     ...      ...   ...      ...   \n",
       "78   t_00068291e9a4  c_d4a17cecbb19  8e286a   source  four       pt   \n",
       "77   t_00068291e9a4  c_40c8e05e63f6  8e286a   source  four       pt   \n",
       "76   t_00068291e9a4  c_0809a3357679  8e286a   source  four       pt   \n",
       "87   t_00068291e9a4  c_4224438b1ad2  8e286a   source  four       pt   \n",
       "98   t_00068291e9a4  c_25d7700abcb3  8e286a   source  four       pt   \n",
       "\n",
       "                                           topic_title      kind  \\\n",
       "0                           Откриването на резисторите  exercise   \n",
       "173  Графики на експоненциални функции  Алгебра 2 н...  exercise   \n",
       "172  Графики на експоненциални функции  Алгебра 2 н...     video   \n",
       "171  Графики на експоненциални функции  Алгебра 2 н...  exercise   \n",
       "170  Графики на експоненциални функции  Алгебра 2 н...  exercise   \n",
       "..                                                 ...       ...   \n",
       "78                     Entradas e saídas de uma função     html5   \n",
       "77                     Entradas e saídas de uma função     html5   \n",
       "76                     Entradas e saídas de uma função  exercise   \n",
       "87                     Entradas e saídas de uma função  exercise   \n",
       "98                     Entradas e saídas de uma função     html5   \n",
       "\n",
       "                                      content_title  \n",
       "0                 Разбиране за стойността на израза  \n",
       "173   Умножение на едночлени по многочлени   задача  \n",
       "172  Намиране на ъглите на равнобедрени триъгълници  \n",
       "171                       Пресечни точки от графика  \n",
       "170                         Събиране на вероятности  \n",
       "..                                              ...  \n",
       "78                           Ecuaciones y Funciones  \n",
       "77                           Función de las Enzimas  \n",
       "76                  Problemas de domínio de funções  \n",
       "87                       La derivada como un límite  \n",
       "98                              Funciones de Viajes  \n",
       "\n",
       "[250 rows x 9 columns]"
      ]
     },
     "execution_count": 31,
     "metadata": {},
     "output_type": "execute_result"
    }
   ],
   "source": [
    "X_test"
   ]
  },
  {
   "cell_type": "code",
   "execution_count": 32,
   "id": "bd83b61b",
   "metadata": {
    "execution": {
     "iopub.execute_input": "2023-02-03T08:55:44.317770Z",
     "iopub.status.busy": "2023-02-03T08:55:44.316962Z",
     "iopub.status.idle": "2023-02-03T08:55:44.325330Z",
     "shell.execute_reply": "2023-02-03T08:55:44.324362Z"
    },
    "papermill": {
     "duration": 0.026707,
     "end_time": "2023-02-03T08:55:44.327252",
     "exception": false,
     "start_time": "2023-02-03T08:55:44.300545",
     "status": "completed"
    },
    "tags": []
   },
   "outputs": [
    {
     "data": {
      "text/plain": [
       "array([1, 1, 1, 1, 1, 1, 1, 1, 1, 1, 1, 1, 1, 1, 1, 1, 1, 1, 1, 1, 1, 1,\n",
       "       1, 1, 1, 1, 1, 1, 1, 1, 1, 1, 1, 1, 1, 1, 1, 1, 1, 1, 1, 1, 1, 1,\n",
       "       1, 1, 1, 1, 1, 1, 1, 1, 1, 1, 1, 1, 1, 1, 1, 1, 1, 1, 1, 1, 1, 1,\n",
       "       1, 1, 1, 1, 1, 1, 1, 1, 1, 1, 1, 1, 1, 1, 1, 1, 1, 1, 1, 1, 1, 1,\n",
       "       1, 1, 1, 1, 1, 1, 1, 1, 1, 1, 1, 1, 0, 0, 0, 0, 0, 0, 0, 0, 0, 0,\n",
       "       0, 0, 0, 0, 0, 0, 0, 0, 0, 0, 0, 0, 0, 0, 0, 0, 0, 0, 0, 0, 0, 0,\n",
       "       0, 0, 0, 0, 0, 0, 0, 0, 0, 0, 0, 0, 0, 0, 0, 0, 1, 1, 1, 1, 1, 1,\n",
       "       1, 1, 1, 1, 1, 1, 1, 1, 1, 1, 1, 1, 1, 1, 1, 1, 1, 1, 1, 1, 1, 0,\n",
       "       0, 1, 1, 1, 1, 1, 1, 1, 1, 1, 1, 1, 1, 1, 1, 1, 1, 1, 1, 1, 1, 1,\n",
       "       1, 1, 0, 0, 0, 0, 0, 0, 0, 0, 0, 0, 0, 0, 0, 0, 0, 0, 0, 0, 0, 0,\n",
       "       0, 0, 0, 0, 0, 0, 0, 0, 0, 0, 0, 0, 0, 0, 0, 0, 0, 0, 0, 0, 0, 0,\n",
       "       0, 0, 0, 0, 0, 0, 0, 0])"
      ]
     },
     "metadata": {},
     "output_type": "display_data"
    }
   ],
   "source": [
    "preds_pth = work_path / \"y_preds.npy\"\n",
    "with open(preds_pth, \"rb\") as f:\n",
    "    y_preds = np.load(f).astype(int)\n",
    "display(y_preds)"
   ]
  },
  {
   "cell_type": "code",
   "execution_count": 33,
   "id": "93eff5f3",
   "metadata": {
    "execution": {
     "iopub.execute_input": "2023-02-03T08:55:44.359661Z",
     "iopub.status.busy": "2023-02-03T08:55:44.358859Z",
     "iopub.status.idle": "2023-02-03T08:55:44.373587Z",
     "shell.execute_reply": "2023-02-03T08:55:44.372606Z"
    },
    "papermill": {
     "duration": 0.032856,
     "end_time": "2023-02-03T08:55:44.375631",
     "exception": false,
     "start_time": "2023-02-03T08:55:44.342775",
     "status": "completed"
    },
    "tags": []
   },
   "outputs": [
    {
     "data": {
      "text/html": [
       "<div>\n",
       "<style scoped>\n",
       "    .dataframe tbody tr th:only-of-type {\n",
       "        vertical-align: middle;\n",
       "    }\n",
       "\n",
       "    .dataframe tbody tr th {\n",
       "        vertical-align: top;\n",
       "    }\n",
       "\n",
       "    .dataframe thead th {\n",
       "        text-align: right;\n",
       "    }\n",
       "</style>\n",
       "<table border=\"1\" class=\"dataframe\">\n",
       "  <thead>\n",
       "    <tr style=\"text-align: right;\">\n",
       "      <th></th>\n",
       "      <th>topic_id</th>\n",
       "      <th>content_ids</th>\n",
       "    </tr>\n",
       "  </thead>\n",
       "  <tbody>\n",
       "    <tr>\n",
       "      <th>0</th>\n",
       "      <td>t_00004da3a1b2</td>\n",
       "      <td>c_86adbb25971c c_e57d102dce42 c_16b019ecf15d c...</td>\n",
       "    </tr>\n",
       "    <tr>\n",
       "      <th>1</th>\n",
       "      <td>t_00069b63a70a</td>\n",
       "      <td>c_17fcf9dcf6d2 c_53058d6da989 c_a08af9f43db8 c...</td>\n",
       "    </tr>\n",
       "    <tr>\n",
       "      <th>2</th>\n",
       "      <td>t_0006d41a73a8</td>\n",
       "      <td>c_658e7a5417bf c_eaa2ed259c6f c_e0b5c3dfa43d c...</td>\n",
       "    </tr>\n",
       "  </tbody>\n",
       "</table>\n",
       "</div>"
      ],
      "text/plain": [
       "         topic_id                                        content_ids\n",
       "0  t_00004da3a1b2  c_86adbb25971c c_e57d102dce42 c_16b019ecf15d c...\n",
       "1  t_00069b63a70a  c_17fcf9dcf6d2 c_53058d6da989 c_a08af9f43db8 c...\n",
       "2  t_0006d41a73a8  c_658e7a5417bf c_eaa2ed259c6f c_e0b5c3dfa43d c..."
      ]
     },
     "metadata": {},
     "output_type": "display_data"
    }
   ],
   "source": [
    "df_y_preds = X_test[y_preds.astype(bool)].iloc[:, [0,1]]\n",
    "y_final_preds=df_y_preds.set_index('topic_id').groupby(level=0).agg(lambda x: ' '.join(x)).reset_index()\n",
    "display (y_final_preds)"
   ]
  },
  {
   "cell_type": "markdown",
   "id": "179bf42e",
   "metadata": {
    "papermill": {
     "duration": 0.015483,
     "end_time": "2023-02-03T08:55:44.407181",
     "exception": false,
     "start_time": "2023-02-03T08:55:44.391698",
     "status": "completed"
    },
    "tags": []
   },
   "source": [
    "# Submissions"
   ]
  },
  {
   "cell_type": "code",
   "execution_count": 34,
   "id": "057758d6",
   "metadata": {
    "execution": {
     "iopub.execute_input": "2023-02-03T08:55:44.440617Z",
     "iopub.status.busy": "2023-02-03T08:55:44.439750Z",
     "iopub.status.idle": "2023-02-03T08:55:44.446727Z",
     "shell.execute_reply": "2023-02-03T08:55:44.445813Z"
    },
    "papermill": {
     "duration": 0.026145,
     "end_time": "2023-02-03T08:55:44.448829",
     "exception": false,
     "start_time": "2023-02-03T08:55:44.422684",
     "status": "completed"
    },
    "tags": []
   },
   "outputs": [],
   "source": [
    "#import pickle\n",
    "#pickle.dump(model, open(f'ST-KNN-{k[1]}', 'wb'))\n",
    "y_final_preds.to_csv('submission.csv', index=False)"
   ]
  }
 ],
 "metadata": {
  "kernelspec": {
   "display_name": "Python 3",
   "language": "python",
   "name": "python3"
  },
  "language_info": {
   "codemirror_mode": {
    "name": "ipython",
    "version": 3
   },
   "file_extension": ".py",
   "mimetype": "text/x-python",
   "name": "python",
   "nbconvert_exporter": "python",
   "pygments_lexer": "ipython3",
   "version": "3.7.12"
  },
  "papermill": {
   "default_parameters": {},
   "duration": 984.678505,
   "end_time": "2023-02-03T08:55:47.440154",
   "environment_variables": {},
   "exception": null,
   "input_path": "__notebook__.ipynb",
   "output_path": "__notebook__.ipynb",
   "parameters": {},
   "start_time": "2023-02-03T08:39:22.761649",
   "version": "2.3.4"
  },
  "widgets": {
   "application/vnd.jupyter.widget-state+json": {
    "state": {
     "155c345347bb436fa59dad49fc906b8e": {
      "model_module": "@jupyter-widgets/base",
      "model_module_version": "1.2.0",
      "model_name": "LayoutModel",
      "state": {
       "_model_module": "@jupyter-widgets/base",
       "_model_module_version": "1.2.0",
       "_model_name": "LayoutModel",
       "_view_count": null,
       "_view_module": "@jupyter-widgets/base",
       "_view_module_version": "1.2.0",
       "_view_name": "LayoutView",
       "align_content": null,
       "align_items": null,
       "align_self": null,
       "border": null,
       "bottom": null,
       "display": null,
       "flex": null,
       "flex_flow": null,
       "grid_area": null,
       "grid_auto_columns": null,
       "grid_auto_flow": null,
       "grid_auto_rows": null,
       "grid_column": null,
       "grid_gap": null,
       "grid_row": null,
       "grid_template_areas": null,
       "grid_template_columns": null,
       "grid_template_rows": null,
       "height": null,
       "justify_content": null,
       "justify_items": null,
       "left": null,
       "margin": null,
       "max_height": null,
       "max_width": null,
       "min_height": null,
       "min_width": null,
       "object_fit": null,
       "object_position": null,
       "order": null,
       "overflow": null,
       "overflow_x": null,
       "overflow_y": null,
       "padding": null,
       "right": null,
       "top": null,
       "visibility": null,
       "width": null
      }
     },
     "1a2676bfdf1d4b869991a4fbcb185669": {
      "model_module": "@jupyter-widgets/controls",
      "model_module_version": "1.5.0",
      "model_name": "FloatProgressModel",
      "state": {
       "_dom_classes": [],
       "_model_module": "@jupyter-widgets/controls",
       "_model_module_version": "1.5.0",
       "_model_name": "FloatProgressModel",
       "_view_count": null,
       "_view_module": "@jupyter-widgets/controls",
       "_view_module_version": "1.5.0",
       "_view_name": "ProgressView",
       "bar_style": "success",
       "description": "",
       "description_tooltip": null,
       "layout": "IPY_MODEL_674aa56a9000401c91a1e16e07c8adf3",
       "max": 4814.0,
       "min": 0.0,
       "orientation": "horizontal",
       "style": "IPY_MODEL_a6f4d9cd95f240898c6dbe622a06e231",
       "value": 4814.0
      }
     },
     "1f499560b7194b019c30a490f1912edc": {
      "model_module": "@jupyter-widgets/base",
      "model_module_version": "1.2.0",
      "model_name": "LayoutModel",
      "state": {
       "_model_module": "@jupyter-widgets/base",
       "_model_module_version": "1.2.0",
       "_model_name": "LayoutModel",
       "_view_count": null,
       "_view_module": "@jupyter-widgets/base",
       "_view_module_version": "1.2.0",
       "_view_name": "LayoutView",
       "align_content": null,
       "align_items": null,
       "align_self": null,
       "border": null,
       "bottom": null,
       "display": null,
       "flex": null,
       "flex_flow": null,
       "grid_area": null,
       "grid_auto_columns": null,
       "grid_auto_flow": null,
       "grid_auto_rows": null,
       "grid_column": null,
       "grid_gap": null,
       "grid_row": null,
       "grid_template_areas": null,
       "grid_template_columns": null,
       "grid_template_rows": null,
       "height": null,
       "justify_content": null,
       "justify_items": null,
       "left": null,
       "margin": null,
       "max_height": null,
       "max_width": null,
       "min_height": null,
       "min_width": null,
       "object_fit": null,
       "object_position": null,
       "order": null,
       "overflow": null,
       "overflow_x": null,
       "overflow_y": null,
       "padding": null,
       "right": null,
       "top": null,
       "visibility": null,
       "width": null
      }
     },
     "332b8744195e4efb852407d2dcbe4c55": {
      "model_module": "@jupyter-widgets/controls",
      "model_module_version": "1.5.0",
      "model_name": "DescriptionStyleModel",
      "state": {
       "_model_module": "@jupyter-widgets/controls",
       "_model_module_version": "1.5.0",
       "_model_name": "DescriptionStyleModel",
       "_view_count": null,
       "_view_module": "@jupyter-widgets/base",
       "_view_module_version": "1.2.0",
       "_view_name": "StyleView",
       "description_width": ""
      }
     },
     "357f984cb78f4fde9defc5a573fb0d9e": {
      "model_module": "@jupyter-widgets/controls",
      "model_module_version": "1.5.0",
      "model_name": "HTMLModel",
      "state": {
       "_dom_classes": [],
       "_model_module": "@jupyter-widgets/controls",
       "_model_module_version": "1.5.0",
       "_model_name": "HTMLModel",
       "_view_count": null,
       "_view_module": "@jupyter-widgets/controls",
       "_view_module_version": "1.5.0",
       "_view_name": "HTMLView",
       "description": "",
       "description_tooltip": null,
       "layout": "IPY_MODEL_464943a499004dc09042d7e14515266c",
       "placeholder": "​",
       "style": "IPY_MODEL_332b8744195e4efb852407d2dcbe4c55",
       "value": " 1/1 [00:00&lt;00:00,  1.04it/s]"
      }
     },
     "3a327350609c40c4aa56b1bebf286251": {
      "model_module": "@jupyter-widgets/controls",
      "model_module_version": "1.5.0",
      "model_name": "FloatProgressModel",
      "state": {
       "_dom_classes": [],
       "_model_module": "@jupyter-widgets/controls",
       "_model_module_version": "1.5.0",
       "_model_name": "FloatProgressModel",
       "_view_count": null,
       "_view_module": "@jupyter-widgets/controls",
       "_view_module_version": "1.5.0",
       "_view_name": "ProgressView",
       "bar_style": "success",
       "description": "",
       "description_tooltip": null,
       "layout": "IPY_MODEL_155c345347bb436fa59dad49fc906b8e",
       "max": 1.0,
       "min": 0.0,
       "orientation": "horizontal",
       "style": "IPY_MODEL_8eaf53c3ee3c4e1587fac4fb6eb7d5b8",
       "value": 1.0
      }
     },
     "43ac30b806e84015b4f7c81ca21e2a8f": {
      "model_module": "@jupyter-widgets/controls",
      "model_module_version": "1.5.0",
      "model_name": "DescriptionStyleModel",
      "state": {
       "_model_module": "@jupyter-widgets/controls",
       "_model_module_version": "1.5.0",
       "_model_name": "DescriptionStyleModel",
       "_view_count": null,
       "_view_module": "@jupyter-widgets/base",
       "_view_module_version": "1.2.0",
       "_view_name": "StyleView",
       "description_width": ""
      }
     },
     "4506223f19a14a2682afa8f04f19bfe3": {
      "model_module": "@jupyter-widgets/controls",
      "model_module_version": "1.5.0",
      "model_name": "HBoxModel",
      "state": {
       "_dom_classes": [],
       "_model_module": "@jupyter-widgets/controls",
       "_model_module_version": "1.5.0",
       "_model_name": "HBoxModel",
       "_view_count": null,
       "_view_module": "@jupyter-widgets/controls",
       "_view_module_version": "1.5.0",
       "_view_name": "HBoxView",
       "box_style": "",
       "children": [
        "IPY_MODEL_9664c2a268a046118876115dcbe8e9da",
        "IPY_MODEL_3a327350609c40c4aa56b1bebf286251",
        "IPY_MODEL_357f984cb78f4fde9defc5a573fb0d9e"
       ],
       "layout": "IPY_MODEL_1f499560b7194b019c30a490f1912edc"
      }
     },
     "464943a499004dc09042d7e14515266c": {
      "model_module": "@jupyter-widgets/base",
      "model_module_version": "1.2.0",
      "model_name": "LayoutModel",
      "state": {
       "_model_module": "@jupyter-widgets/base",
       "_model_module_version": "1.2.0",
       "_model_name": "LayoutModel",
       "_view_count": null,
       "_view_module": "@jupyter-widgets/base",
       "_view_module_version": "1.2.0",
       "_view_name": "LayoutView",
       "align_content": null,
       "align_items": null,
       "align_self": null,
       "border": null,
       "bottom": null,
       "display": null,
       "flex": null,
       "flex_flow": null,
       "grid_area": null,
       "grid_auto_columns": null,
       "grid_auto_flow": null,
       "grid_auto_rows": null,
       "grid_column": null,
       "grid_gap": null,
       "grid_row": null,
       "grid_template_areas": null,
       "grid_template_columns": null,
       "grid_template_rows": null,
       "height": null,
       "justify_content": null,
       "justify_items": null,
       "left": null,
       "margin": null,
       "max_height": null,
       "max_width": null,
       "min_height": null,
       "min_width": null,
       "object_fit": null,
       "object_position": null,
       "order": null,
       "overflow": null,
       "overflow_x": null,
       "overflow_y": null,
       "padding": null,
       "right": null,
       "top": null,
       "visibility": null,
       "width": null
      }
     },
     "674aa56a9000401c91a1e16e07c8adf3": {
      "model_module": "@jupyter-widgets/base",
      "model_module_version": "1.2.0",
      "model_name": "LayoutModel",
      "state": {
       "_model_module": "@jupyter-widgets/base",
       "_model_module_version": "1.2.0",
       "_model_name": "LayoutModel",
       "_view_count": null,
       "_view_module": "@jupyter-widgets/base",
       "_view_module_version": "1.2.0",
       "_view_name": "LayoutView",
       "align_content": null,
       "align_items": null,
       "align_self": null,
       "border": null,
       "bottom": null,
       "display": null,
       "flex": null,
       "flex_flow": null,
       "grid_area": null,
       "grid_auto_columns": null,
       "grid_auto_flow": null,
       "grid_auto_rows": null,
       "grid_column": null,
       "grid_gap": null,
       "grid_row": null,
       "grid_template_areas": null,
       "grid_template_columns": null,
       "grid_template_rows": null,
       "height": null,
       "justify_content": null,
       "justify_items": null,
       "left": null,
       "margin": null,
       "max_height": null,
       "max_width": null,
       "min_height": null,
       "min_width": null,
       "object_fit": null,
       "object_position": null,
       "order": null,
       "overflow": null,
       "overflow_x": null,
       "overflow_y": null,
       "padding": null,
       "right": null,
       "top": null,
       "visibility": null,
       "width": null
      }
     },
     "74e0df863b6f45008c2e5b6e5d9dc4d9": {
      "model_module": "@jupyter-widgets/controls",
      "model_module_version": "1.5.0",
      "model_name": "DescriptionStyleModel",
      "state": {
       "_model_module": "@jupyter-widgets/controls",
       "_model_module_version": "1.5.0",
       "_model_name": "DescriptionStyleModel",
       "_view_count": null,
       "_view_module": "@jupyter-widgets/base",
       "_view_module_version": "1.2.0",
       "_view_name": "StyleView",
       "description_width": ""
      }
     },
     "81a89b1b2c134200b3b67957918110c9": {
      "model_module": "@jupyter-widgets/controls",
      "model_module_version": "1.5.0",
      "model_name": "HTMLModel",
      "state": {
       "_dom_classes": [],
       "_model_module": "@jupyter-widgets/controls",
       "_model_module_version": "1.5.0",
       "_model_name": "HTMLModel",
       "_view_count": null,
       "_view_module": "@jupyter-widgets/controls",
       "_view_module_version": "1.5.0",
       "_view_name": "HTMLView",
       "description": "",
       "description_tooltip": null,
       "layout": "IPY_MODEL_8eb89f051d904e918a0b5651d3945f1d",
       "placeholder": "​",
       "style": "IPY_MODEL_de92afadadac4c26b287b49295a8002e",
       "value": "Batches: 100%"
      }
     },
     "8eaf53c3ee3c4e1587fac4fb6eb7d5b8": {
      "model_module": "@jupyter-widgets/controls",
      "model_module_version": "1.5.0",
      "model_name": "ProgressStyleModel",
      "state": {
       "_model_module": "@jupyter-widgets/controls",
       "_model_module_version": "1.5.0",
       "_model_name": "ProgressStyleModel",
       "_view_count": null,
       "_view_module": "@jupyter-widgets/base",
       "_view_module_version": "1.2.0",
       "_view_name": "StyleView",
       "bar_color": null,
       "description_width": ""
      }
     },
     "8eb89f051d904e918a0b5651d3945f1d": {
      "model_module": "@jupyter-widgets/base",
      "model_module_version": "1.2.0",
      "model_name": "LayoutModel",
      "state": {
       "_model_module": "@jupyter-widgets/base",
       "_model_module_version": "1.2.0",
       "_model_name": "LayoutModel",
       "_view_count": null,
       "_view_module": "@jupyter-widgets/base",
       "_view_module_version": "1.2.0",
       "_view_name": "LayoutView",
       "align_content": null,
       "align_items": null,
       "align_self": null,
       "border": null,
       "bottom": null,
       "display": null,
       "flex": null,
       "flex_flow": null,
       "grid_area": null,
       "grid_auto_columns": null,
       "grid_auto_flow": null,
       "grid_auto_rows": null,
       "grid_column": null,
       "grid_gap": null,
       "grid_row": null,
       "grid_template_areas": null,
       "grid_template_columns": null,
       "grid_template_rows": null,
       "height": null,
       "justify_content": null,
       "justify_items": null,
       "left": null,
       "margin": null,
       "max_height": null,
       "max_width": null,
       "min_height": null,
       "min_width": null,
       "object_fit": null,
       "object_position": null,
       "order": null,
       "overflow": null,
       "overflow_x": null,
       "overflow_y": null,
       "padding": null,
       "right": null,
       "top": null,
       "visibility": null,
       "width": null
      }
     },
     "909b9ef46a0041ffba6273d24226e04e": {
      "model_module": "@jupyter-widgets/controls",
      "model_module_version": "1.5.0",
      "model_name": "HTMLModel",
      "state": {
       "_dom_classes": [],
       "_model_module": "@jupyter-widgets/controls",
       "_model_module_version": "1.5.0",
       "_model_name": "HTMLModel",
       "_view_count": null,
       "_view_module": "@jupyter-widgets/controls",
       "_view_module_version": "1.5.0",
       "_view_name": "HTMLView",
       "description": "",
       "description_tooltip": null,
       "layout": "IPY_MODEL_9ef0104cfd124f4e84bc54a6ae75eea6",
       "placeholder": "​",
       "style": "IPY_MODEL_43ac30b806e84015b4f7c81ca21e2a8f",
       "value": " 4814/4814 [12:12&lt;00:00, 117.58it/s]"
      }
     },
     "9664c2a268a046118876115dcbe8e9da": {
      "model_module": "@jupyter-widgets/controls",
      "model_module_version": "1.5.0",
      "model_name": "HTMLModel",
      "state": {
       "_dom_classes": [],
       "_model_module": "@jupyter-widgets/controls",
       "_model_module_version": "1.5.0",
       "_model_name": "HTMLModel",
       "_view_count": null,
       "_view_module": "@jupyter-widgets/controls",
       "_view_module_version": "1.5.0",
       "_view_name": "HTMLView",
       "description": "",
       "description_tooltip": null,
       "layout": "IPY_MODEL_c889cd0265bf411883a053ee73edb962",
       "placeholder": "​",
       "style": "IPY_MODEL_74e0df863b6f45008c2e5b6e5d9dc4d9",
       "value": "Batches: 100%"
      }
     },
     "9ef0104cfd124f4e84bc54a6ae75eea6": {
      "model_module": "@jupyter-widgets/base",
      "model_module_version": "1.2.0",
      "model_name": "LayoutModel",
      "state": {
       "_model_module": "@jupyter-widgets/base",
       "_model_module_version": "1.2.0",
       "_model_name": "LayoutModel",
       "_view_count": null,
       "_view_module": "@jupyter-widgets/base",
       "_view_module_version": "1.2.0",
       "_view_name": "LayoutView",
       "align_content": null,
       "align_items": null,
       "align_self": null,
       "border": null,
       "bottom": null,
       "display": null,
       "flex": null,
       "flex_flow": null,
       "grid_area": null,
       "grid_auto_columns": null,
       "grid_auto_flow": null,
       "grid_auto_rows": null,
       "grid_column": null,
       "grid_gap": null,
       "grid_row": null,
       "grid_template_areas": null,
       "grid_template_columns": null,
       "grid_template_rows": null,
       "height": null,
       "justify_content": null,
       "justify_items": null,
       "left": null,
       "margin": null,
       "max_height": null,
       "max_width": null,
       "min_height": null,
       "min_width": null,
       "object_fit": null,
       "object_position": null,
       "order": null,
       "overflow": null,
       "overflow_x": null,
       "overflow_y": null,
       "padding": null,
       "right": null,
       "top": null,
       "visibility": null,
       "width": null
      }
     },
     "a6f4d9cd95f240898c6dbe622a06e231": {
      "model_module": "@jupyter-widgets/controls",
      "model_module_version": "1.5.0",
      "model_name": "ProgressStyleModel",
      "state": {
       "_model_module": "@jupyter-widgets/controls",
       "_model_module_version": "1.5.0",
       "_model_name": "ProgressStyleModel",
       "_view_count": null,
       "_view_module": "@jupyter-widgets/base",
       "_view_module_version": "1.2.0",
       "_view_name": "StyleView",
       "bar_color": null,
       "description_width": ""
      }
     },
     "abc2b7a44c294afd91a20f0a6807e08f": {
      "model_module": "@jupyter-widgets/controls",
      "model_module_version": "1.5.0",
      "model_name": "HBoxModel",
      "state": {
       "_dom_classes": [],
       "_model_module": "@jupyter-widgets/controls",
       "_model_module_version": "1.5.0",
       "_model_name": "HBoxModel",
       "_view_count": null,
       "_view_module": "@jupyter-widgets/controls",
       "_view_module_version": "1.5.0",
       "_view_name": "HBoxView",
       "box_style": "",
       "children": [
        "IPY_MODEL_81a89b1b2c134200b3b67957918110c9",
        "IPY_MODEL_1a2676bfdf1d4b869991a4fbcb185669",
        "IPY_MODEL_909b9ef46a0041ffba6273d24226e04e"
       ],
       "layout": "IPY_MODEL_ea17310471ee4b3abddd38fcce3b148a"
      }
     },
     "c889cd0265bf411883a053ee73edb962": {
      "model_module": "@jupyter-widgets/base",
      "model_module_version": "1.2.0",
      "model_name": "LayoutModel",
      "state": {
       "_model_module": "@jupyter-widgets/base",
       "_model_module_version": "1.2.0",
       "_model_name": "LayoutModel",
       "_view_count": null,
       "_view_module": "@jupyter-widgets/base",
       "_view_module_version": "1.2.0",
       "_view_name": "LayoutView",
       "align_content": null,
       "align_items": null,
       "align_self": null,
       "border": null,
       "bottom": null,
       "display": null,
       "flex": null,
       "flex_flow": null,
       "grid_area": null,
       "grid_auto_columns": null,
       "grid_auto_flow": null,
       "grid_auto_rows": null,
       "grid_column": null,
       "grid_gap": null,
       "grid_row": null,
       "grid_template_areas": null,
       "grid_template_columns": null,
       "grid_template_rows": null,
       "height": null,
       "justify_content": null,
       "justify_items": null,
       "left": null,
       "margin": null,
       "max_height": null,
       "max_width": null,
       "min_height": null,
       "min_width": null,
       "object_fit": null,
       "object_position": null,
       "order": null,
       "overflow": null,
       "overflow_x": null,
       "overflow_y": null,
       "padding": null,
       "right": null,
       "top": null,
       "visibility": null,
       "width": null
      }
     },
     "de92afadadac4c26b287b49295a8002e": {
      "model_module": "@jupyter-widgets/controls",
      "model_module_version": "1.5.0",
      "model_name": "DescriptionStyleModel",
      "state": {
       "_model_module": "@jupyter-widgets/controls",
       "_model_module_version": "1.5.0",
       "_model_name": "DescriptionStyleModel",
       "_view_count": null,
       "_view_module": "@jupyter-widgets/base",
       "_view_module_version": "1.2.0",
       "_view_name": "StyleView",
       "description_width": ""
      }
     },
     "ea17310471ee4b3abddd38fcce3b148a": {
      "model_module": "@jupyter-widgets/base",
      "model_module_version": "1.2.0",
      "model_name": "LayoutModel",
      "state": {
       "_model_module": "@jupyter-widgets/base",
       "_model_module_version": "1.2.0",
       "_model_name": "LayoutModel",
       "_view_count": null,
       "_view_module": "@jupyter-widgets/base",
       "_view_module_version": "1.2.0",
       "_view_name": "LayoutView",
       "align_content": null,
       "align_items": null,
       "align_self": null,
       "border": null,
       "bottom": null,
       "display": null,
       "flex": null,
       "flex_flow": null,
       "grid_area": null,
       "grid_auto_columns": null,
       "grid_auto_flow": null,
       "grid_auto_rows": null,
       "grid_column": null,
       "grid_gap": null,
       "grid_row": null,
       "grid_template_areas": null,
       "grid_template_columns": null,
       "grid_template_rows": null,
       "height": null,
       "justify_content": null,
       "justify_items": null,
       "left": null,
       "margin": null,
       "max_height": null,
       "max_width": null,
       "min_height": null,
       "min_width": null,
       "object_fit": null,
       "object_position": null,
       "order": null,
       "overflow": null,
       "overflow_x": null,
       "overflow_y": null,
       "padding": null,
       "right": null,
       "top": null,
       "visibility": null,
       "width": null
      }
     }
    },
    "version_major": 2,
    "version_minor": 0
   }
  }
 },
 "nbformat": 4,
 "nbformat_minor": 5
}
