{
  "cells": [
    {
      "cell_type": "markdown",
      "metadata": {
        "id": "view-in-github",
        "colab_type": "text"
      },
      "source": [
        "<a href=\"https://colab.research.google.com/github/sofiammatias/learning-equality/blob/main/Learning_Equality.ipynb\" target=\"_parent\"><img src=\"https://colab.research.google.com/assets/colab-badge.svg\" alt=\"Open In Colab\"/></a>"
      ]
    },
    {
      "cell_type": "markdown",
      "metadata": {
        "id": "88080462"
      },
      "source": [
        "# Kaggle Challenge - Learning Equality"
      ],
      "id": "88080462"
    },
    {
      "cell_type": "markdown",
      "metadata": {
        "id": "e44162a6"
      },
      "source": [
        "https://www.kaggle.com/competitions/learning-equality-curriculum-recommendations/overview\n",
        "\n",
        "## Goal of the Competition\n",
        "\n",
        "The goal of this competition is to streamline the process of matching educational content to specific topics in a curriculum. You will develop an accurate and efficient model trained on a library of K-12 educational materials that have been organized into a variety of topic taxonomies. These materials are in diverse languages, and cover a wide range of topics, particularly in STEM (Science, Technology, Engineering, and Mathematics).\n",
        "\n",
        "Your work will enable students and educators to more readily access relevant educational content to support and supplement learning."
      ],
      "id": "e44162a6"
    },
    {
      "cell_type": "markdown",
      "metadata": {
        "id": "d827eb0b"
      },
      "source": [
        "## Submission File\n",
        "\n",
        "For each **topic_id** in the test set, you must predict a space-delimited list of recommended **content_ids** for that topic. The file should contain a header and have the following format:\n",
        "\n",
        "~~~\n",
        "topic_id,content_ids\n",
        "t_00004da3a1b2,c_1108dd0c7a5d c_376c5a8eb028 c_5bc0e1e2cba0 c_76231f9d0b5e\n",
        "t_00068291e9a4,c_639ea2ef9c95 c_89ce9367be10 c_ac1672cdcd2c c_ebb7fdf10a7e\n",
        "t_00069b63a70a,c_11a1dc0bfb99\n",
        "...\n",
        "~~~"
      ],
      "id": "d827eb0b"
    },
    {
      "cell_type": "markdown",
      "metadata": {
        "id": "de5f7ef4"
      },
      "source": [
        "## Scoring\n",
        "Mean F2 score"
      ],
      "id": "de5f7ef4"
    },
    {
      "cell_type": "markdown",
      "metadata": {
        "id": "b86e3e62"
      },
      "source": [
        "## Evaluation Metric - Efficiency Scoring\n",
        "We compute a submission's efficiency score by:\n",
        "\n",
        "\\begin{equation} \\text{Efficiency} = \\frac{1}{ \\text{Benchmark} - \\max\\text{F2} }\\text{F2} + \\frac{1}{32400}\\text{RuntimeSeconds} \\end{equation}\n",
        "\n",
        "\n",
        "where **F2** is the submission's score on the main competition metric, **Benchmark** is the score of the benchmark sample_submission.csv, **maxF2** is the maximum  of all submissions on the Private Leaderboard, and **RuntimeSeconds** is the number of seconds it takes for the submission to be evaluated. The objective is to minimize the efficiency score.\n",
        "\n",
        "During the training period of the competition, you may see a leaderboard for the public test data in the following notebook, updated daily: Efficiency Leaderboard. After the competition ends, we will update this leaderboard with efficiency scores on the private data. During the training period, this leaderboard will show only the rank of each team, but not the complete score."
      ],
      "id": "b86e3e62"
    },
    {
      "cell_type": "markdown",
      "metadata": {
        "id": "e2cc9cb4"
      },
      "source": [
        "# Data"
      ],
      "id": "e2cc9cb4"
    },
    {
      "cell_type": "markdown",
      "metadata": {
        "id": "eb712db6"
      },
      "source": [
        "## Imports"
      ],
      "id": "eb712db6"
    },
    {
      "cell_type": "code",
      "execution_count": null,
      "metadata": {
        "id": "2eBKbVKiQm-Z"
      },
      "outputs": [],
      "source": [
        "!pip install -U sentence-transformers"
      ],
      "id": "2eBKbVKiQm-Z"
    },
    {
      "cell_type": "code",
      "execution_count": null,
      "metadata": {
        "id": "b5f3a3b6"
      },
      "outputs": [],
      "source": [
        "import pandas as pd\n",
        "import numpy as np\n",
        "import matplotlib.pyplot as plt\n",
        "import string\n",
        "from sentence_transformers import SentenceTransformer, util\n",
        "from sklearn.metrics import fbeta_score, precision_score, recall_score, make_scorer\n",
        "from sklearn.dummy import DummyClassifier\n",
        "from sklearn.multioutput import MultiOutputClassifier\n",
        "from sklearn.neighbors import KNeighborsClassifier\n",
        "from sklearn.ensemble import RandomForestClassifier\n",
        "from sklearn.tree import DecisionTreeClassifier\n",
        "from sklearn.model_selection import GridSearchCV"
      ],
      "id": "b5f3a3b6"
    },
    {
      "cell_type": "code",
      "execution_count": null,
      "metadata": {
        "colab": {
          "base_uri": "https://localhost:8080/"
        },
        "id": "fs3UuFXeXev9",
        "outputId": "9c6db00f-6b42-4ee4-aa60-ae0c3e04ea18"
      },
      "outputs": [
        {
          "output_type": "stream",
          "name": "stdout",
          "text": [
            "Mounted at /content/drive\n"
          ]
        }
      ],
      "source": [
        "from google.colab import drive\n",
        "drive.mount('/content/drive')"
      ],
      "id": "fs3UuFXeXev9"
    },
    {
      "cell_type": "markdown",
      "metadata": {
        "id": "e55f4587"
      },
      "source": [
        "# Data Collection"
      ],
      "id": "e55f4587"
    },
    {
      "cell_type": "markdown",
      "metadata": {
        "id": "PGb4tvZm26GS"
      },
      "source": [
        "## Helper functions and classes for data traversal (breadcrumbs, topic context)"
      ],
      "id": "PGb4tvZm26GS"
    },
    {
      "cell_type": "code",
      "execution_count": null,
      "metadata": {
        "id": "D3_paOBLo_pV"
      },
      "outputs": [],
      "source": [
        "# define some helper functions and classes to aid with data traversal\n",
        "\n",
        "class ContentItem:\n",
        "    \"\"\"\n",
        "    Class to handle content relations (breadcrumbs)\n",
        "    \"\"\"\n",
        "    def __init__(self, content_id):\n",
        "        self.id = content_id\n",
        "\n",
        "    @property\n",
        "    def topics(self):\n",
        "        return [Topic(topic_id) for topic_id in df_topics.loc[df_corr[df_corr.content_ids.str.contains(self.id)].index].index]\n",
        "\n",
        "    def get_all_breadcrumbs(self, separator=\" >> \", include_root=True):\n",
        "        breadcrumbs = []\n",
        "        title = self.title\n",
        "        for topic in self.topics:\n",
        "            new_breadcrumb = topic.get_breadcrumbs(separator=separator, include_root=include_root)\n",
        "            if new_breadcrumb:\n",
        "                new_breadcrumb = new_breadcrumb + separator + title\n",
        "            else:\n",
        "                new_breadcrumb = title\n",
        "            breadcrumbs.append(new_breadcrumb)\n",
        "        return breadcrumbs\n",
        "\n",
        "class Topic:\n",
        "    \"\"\"\n",
        "    Class to handle topics relations (breadcrumbs)\n",
        "    \"\"\"\n",
        "    def __init__(self, topic_id):\n",
        "        self.id = topic_id\n",
        "\n",
        "    @property\n",
        "    def parent(self):\n",
        "        parent_id = df_topics.loc[self.id].parent\n",
        "        if pd.isna(parent_id):\n",
        "            return None\n",
        "        else:\n",
        "            return Topic(parent_id)\n",
        "\n",
        "    @property\n",
        "    def ancestors(self):\n",
        "        ancestors = []\n",
        "        parent = self.parent\n",
        "        while parent is not None:\n",
        "            ancestors.append(parent)\n",
        "            parent = parent.parent\n",
        "        return ancestors\n",
        "\n",
        "    @property\n",
        "    def content(self):\n",
        "        if self.id in df_corr.index:\n",
        "            return [ContentItem(content_id) for content_id in df_corr.loc[self.id].content_ids.split()]\n",
        "        else:\n",
        "            return tuple([]) if self.has_content else []\n",
        "\n",
        "    def get_breadcrumbs(self, separator=\" >> \", include_self=True, include_root=True):\n",
        "        ancestors = self.ancestors\n",
        "        if include_self:\n",
        "            ancestors = [self] + ancestors\n",
        "        if not include_root:\n",
        "            ancestors = ancestors[:-1]\n",
        "        return separator.join(reversed([a.title for a in ancestors]))"
      ],
      "id": "D3_paOBLo_pV"
    },
    {
      "cell_type": "markdown",
      "metadata": {
        "id": "FJLGLdJ-wKZI"
      },
      "source": [
        "## Load dataframes"
      ],
      "id": "FJLGLdJ-wKZI"
    },
    {
      "cell_type": "code",
      "source": [
        "# This Python 3 environment comes with many helpful analytics libraries installed\n",
        "# It is defined by the kaggle/python Docker image: https://github.com/kaggle/docker-python\n",
        "# For example, here's several helpful packages to load\n",
        "\n",
        "import numpy as np # linear algebra\n",
        "import pandas as pd # data processing, CSV file I/O (e.g. pd.read_csv)\n",
        "\n",
        "# Input data files are available in the read-only \"../input/\" directory\n",
        "# For example, running this (by clicking run or pressing Shift+Enter) will list all files under the input directory\n",
        "\n",
        "import os\n",
        "for dirname, _, filenames in os.walk('/kaggle/input'):\n",
        "    for filename in filenames:\n",
        "        print(os.path.join(dirname, filename))\n",
        "\n",
        "# You can write up to 20GB to the current directory (/kaggle/working/) that gets preserved as output when you create a version using \"Save & Run All\" \n",
        "# You can also write temporary files to /kaggle/temp/, but they won't be saved outside of the current session"
      ],
      "metadata": {
        "id": "BY_U__QkMIp3"
      },
      "id": "BY_U__QkMIp3",
      "execution_count": null,
      "outputs": []
    },
    {
      "cell_type": "code",
      "execution_count": null,
      "metadata": {
        "colab": {
          "base_uri": "https://localhost:8080/",
          "height": 568
        },
        "id": "debc1002",
        "outputId": "6ac0efe1-3179-41ba-f8c1-bc3c77928517"
      },
      "outputs": [
        {
          "output_type": "execute_result",
          "data": {
            "text/plain": [
              "                                                            title  \\\n",
              "id                                                                  \n",
              "t_00004da3a1b2                         Откриването на резисторите   \n",
              "t_000095e03056             Unit 3.3 Enlargements and Similarities   \n",
              "t_00068291e9a4                    Entradas e saídas de uma função   \n",
              "t_00069b63a70a                                        Transcripts   \n",
              "t_0006d41a73a8  Графики на експоненциални функции (Алгебра 2 н...   \n",
              "...                                                           ...   \n",
              "t_fffb0bf2801d                             4.3 Graph of functions   \n",
              "t_fffbe1d5d43c                   Inscribed shapes problem solving   \n",
              "t_fffe14f1be1e                                          Lección 7   \n",
              "t_fffe811a6da9  تحديد العلاقة بين الإحداثيّات القطبية والإحداث...   \n",
              "t_fffe88835149  Formation of shadows and eclipses (umbra and p...   \n",
              "\n",
              "                                                      description channel  \\\n",
              "id                                                                          \n",
              "t_00004da3a1b2  Изследване на материали, които предизвикват на...  000cf7   \n",
              "t_000095e03056                                                     b3f329   \n",
              "t_00068291e9a4               Entenda um pouco mais sobre funções.  8e286a   \n",
              "t_00069b63a70a                                                     6e3ba4   \n",
              "t_0006d41a73a8  Научи повече за графиките на сложните показате...  000cf7   \n",
              "...                                                           ...     ...   \n",
              "t_fffb0bf2801d                                                     e77b55   \n",
              "t_fffbe1d5d43c  Use properties of inscribed angles to prove pr...  0c929f   \n",
              "t_fffe14f1be1e                                                     6e90a7   \n",
              "t_fffe811a6da9                           5b9e5ca86571f90499ea987f  9fd860   \n",
              "t_fffe88835149                                                     c7ca13   \n",
              "\n",
              "               category  level language          parent  has_content  \n",
              "id                                                                    \n",
              "t_00004da3a1b2   source      4       bg  t_16e29365b50d         True  \n",
              "t_000095e03056  aligned      2       en  t_aa32fb6252dc        False  \n",
              "t_00068291e9a4   source      4       pt  t_d14b6c2a2b70         True  \n",
              "t_00069b63a70a   source      3       en  t_4054df11a74e         True  \n",
              "t_0006d41a73a8   source      4       bg  t_e2452e21d252         True  \n",
              "...                 ...    ...      ...             ...          ...  \n",
              "t_fffb0bf2801d  aligned      4       en  t_676e6a1a4dc7        False  \n",
              "t_fffbe1d5d43c   source      4       sw  t_50145b9bab3f         True  \n",
              "t_fffe14f1be1e  aligned      6       es  t_d448c707984d         True  \n",
              "t_fffe811a6da9   source      2       ar  t_5b4f3ba4eb7d         True  \n",
              "t_fffe88835149  aligned      4       en  t_988923176459        False  \n",
              "\n",
              "[76972 rows x 8 columns]"
            ],
            "text/html": [
              "\n",
              "  <div id=\"df-40547006-497a-47d8-a751-3e3fdd0cc1df\">\n",
              "    <div class=\"colab-df-container\">\n",
              "      <div>\n",
              "<style scoped>\n",
              "    .dataframe tbody tr th:only-of-type {\n",
              "        vertical-align: middle;\n",
              "    }\n",
              "\n",
              "    .dataframe tbody tr th {\n",
              "        vertical-align: top;\n",
              "    }\n",
              "\n",
              "    .dataframe thead th {\n",
              "        text-align: right;\n",
              "    }\n",
              "</style>\n",
              "<table border=\"1\" class=\"dataframe\">\n",
              "  <thead>\n",
              "    <tr style=\"text-align: right;\">\n",
              "      <th></th>\n",
              "      <th>title</th>\n",
              "      <th>description</th>\n",
              "      <th>channel</th>\n",
              "      <th>category</th>\n",
              "      <th>level</th>\n",
              "      <th>language</th>\n",
              "      <th>parent</th>\n",
              "      <th>has_content</th>\n",
              "    </tr>\n",
              "    <tr>\n",
              "      <th>id</th>\n",
              "      <th></th>\n",
              "      <th></th>\n",
              "      <th></th>\n",
              "      <th></th>\n",
              "      <th></th>\n",
              "      <th></th>\n",
              "      <th></th>\n",
              "      <th></th>\n",
              "    </tr>\n",
              "  </thead>\n",
              "  <tbody>\n",
              "    <tr>\n",
              "      <th>t_00004da3a1b2</th>\n",
              "      <td>Откриването на резисторите</td>\n",
              "      <td>Изследване на материали, които предизвикват на...</td>\n",
              "      <td>000cf7</td>\n",
              "      <td>source</td>\n",
              "      <td>4</td>\n",
              "      <td>bg</td>\n",
              "      <td>t_16e29365b50d</td>\n",
              "      <td>True</td>\n",
              "    </tr>\n",
              "    <tr>\n",
              "      <th>t_000095e03056</th>\n",
              "      <td>Unit 3.3 Enlargements and Similarities</td>\n",
              "      <td></td>\n",
              "      <td>b3f329</td>\n",
              "      <td>aligned</td>\n",
              "      <td>2</td>\n",
              "      <td>en</td>\n",
              "      <td>t_aa32fb6252dc</td>\n",
              "      <td>False</td>\n",
              "    </tr>\n",
              "    <tr>\n",
              "      <th>t_00068291e9a4</th>\n",
              "      <td>Entradas e saídas de uma função</td>\n",
              "      <td>Entenda um pouco mais sobre funções.</td>\n",
              "      <td>8e286a</td>\n",
              "      <td>source</td>\n",
              "      <td>4</td>\n",
              "      <td>pt</td>\n",
              "      <td>t_d14b6c2a2b70</td>\n",
              "      <td>True</td>\n",
              "    </tr>\n",
              "    <tr>\n",
              "      <th>t_00069b63a70a</th>\n",
              "      <td>Transcripts</td>\n",
              "      <td></td>\n",
              "      <td>6e3ba4</td>\n",
              "      <td>source</td>\n",
              "      <td>3</td>\n",
              "      <td>en</td>\n",
              "      <td>t_4054df11a74e</td>\n",
              "      <td>True</td>\n",
              "    </tr>\n",
              "    <tr>\n",
              "      <th>t_0006d41a73a8</th>\n",
              "      <td>Графики на експоненциални функции (Алгебра 2 н...</td>\n",
              "      <td>Научи повече за графиките на сложните показате...</td>\n",
              "      <td>000cf7</td>\n",
              "      <td>source</td>\n",
              "      <td>4</td>\n",
              "      <td>bg</td>\n",
              "      <td>t_e2452e21d252</td>\n",
              "      <td>True</td>\n",
              "    </tr>\n",
              "    <tr>\n",
              "      <th>...</th>\n",
              "      <td>...</td>\n",
              "      <td>...</td>\n",
              "      <td>...</td>\n",
              "      <td>...</td>\n",
              "      <td>...</td>\n",
              "      <td>...</td>\n",
              "      <td>...</td>\n",
              "      <td>...</td>\n",
              "    </tr>\n",
              "    <tr>\n",
              "      <th>t_fffb0bf2801d</th>\n",
              "      <td>4.3 Graph of functions</td>\n",
              "      <td></td>\n",
              "      <td>e77b55</td>\n",
              "      <td>aligned</td>\n",
              "      <td>4</td>\n",
              "      <td>en</td>\n",
              "      <td>t_676e6a1a4dc7</td>\n",
              "      <td>False</td>\n",
              "    </tr>\n",
              "    <tr>\n",
              "      <th>t_fffbe1d5d43c</th>\n",
              "      <td>Inscribed shapes problem solving</td>\n",
              "      <td>Use properties of inscribed angles to prove pr...</td>\n",
              "      <td>0c929f</td>\n",
              "      <td>source</td>\n",
              "      <td>4</td>\n",
              "      <td>sw</td>\n",
              "      <td>t_50145b9bab3f</td>\n",
              "      <td>True</td>\n",
              "    </tr>\n",
              "    <tr>\n",
              "      <th>t_fffe14f1be1e</th>\n",
              "      <td>Lección 7</td>\n",
              "      <td></td>\n",
              "      <td>6e90a7</td>\n",
              "      <td>aligned</td>\n",
              "      <td>6</td>\n",
              "      <td>es</td>\n",
              "      <td>t_d448c707984d</td>\n",
              "      <td>True</td>\n",
              "    </tr>\n",
              "    <tr>\n",
              "      <th>t_fffe811a6da9</th>\n",
              "      <td>تحديد العلاقة بين الإحداثيّات القطبية والإحداث...</td>\n",
              "      <td>5b9e5ca86571f90499ea987f</td>\n",
              "      <td>9fd860</td>\n",
              "      <td>source</td>\n",
              "      <td>2</td>\n",
              "      <td>ar</td>\n",
              "      <td>t_5b4f3ba4eb7d</td>\n",
              "      <td>True</td>\n",
              "    </tr>\n",
              "    <tr>\n",
              "      <th>t_fffe88835149</th>\n",
              "      <td>Formation of shadows and eclipses (umbra and p...</td>\n",
              "      <td></td>\n",
              "      <td>c7ca13</td>\n",
              "      <td>aligned</td>\n",
              "      <td>4</td>\n",
              "      <td>en</td>\n",
              "      <td>t_988923176459</td>\n",
              "      <td>False</td>\n",
              "    </tr>\n",
              "  </tbody>\n",
              "</table>\n",
              "<p>76972 rows × 8 columns</p>\n",
              "</div>\n",
              "      <button class=\"colab-df-convert\" onclick=\"convertToInteractive('df-40547006-497a-47d8-a751-3e3fdd0cc1df')\"\n",
              "              title=\"Convert this dataframe to an interactive table.\"\n",
              "              style=\"display:none;\">\n",
              "        \n",
              "  <svg xmlns=\"http://www.w3.org/2000/svg\" height=\"24px\"viewBox=\"0 0 24 24\"\n",
              "       width=\"24px\">\n",
              "    <path d=\"M0 0h24v24H0V0z\" fill=\"none\"/>\n",
              "    <path d=\"M18.56 5.44l.94 2.06.94-2.06 2.06-.94-2.06-.94-.94-2.06-.94 2.06-2.06.94zm-11 1L8.5 8.5l.94-2.06 2.06-.94-2.06-.94L8.5 2.5l-.94 2.06-2.06.94zm10 10l.94 2.06.94-2.06 2.06-.94-2.06-.94-.94-2.06-.94 2.06-2.06.94z\"/><path d=\"M17.41 7.96l-1.37-1.37c-.4-.4-.92-.59-1.43-.59-.52 0-1.04.2-1.43.59L10.3 9.45l-7.72 7.72c-.78.78-.78 2.05 0 2.83L4 21.41c.39.39.9.59 1.41.59.51 0 1.02-.2 1.41-.59l7.78-7.78 2.81-2.81c.8-.78.8-2.07 0-2.86zM5.41 20L4 18.59l7.72-7.72 1.47 1.35L5.41 20z\"/>\n",
              "  </svg>\n",
              "      </button>\n",
              "      \n",
              "  <style>\n",
              "    .colab-df-container {\n",
              "      display:flex;\n",
              "      flex-wrap:wrap;\n",
              "      gap: 12px;\n",
              "    }\n",
              "\n",
              "    .colab-df-convert {\n",
              "      background-color: #E8F0FE;\n",
              "      border: none;\n",
              "      border-radius: 50%;\n",
              "      cursor: pointer;\n",
              "      display: none;\n",
              "      fill: #1967D2;\n",
              "      height: 32px;\n",
              "      padding: 0 0 0 0;\n",
              "      width: 32px;\n",
              "    }\n",
              "\n",
              "    .colab-df-convert:hover {\n",
              "      background-color: #E2EBFA;\n",
              "      box-shadow: 0px 1px 2px rgba(60, 64, 67, 0.3), 0px 1px 3px 1px rgba(60, 64, 67, 0.15);\n",
              "      fill: #174EA6;\n",
              "    }\n",
              "\n",
              "    [theme=dark] .colab-df-convert {\n",
              "      background-color: #3B4455;\n",
              "      fill: #D2E3FC;\n",
              "    }\n",
              "\n",
              "    [theme=dark] .colab-df-convert:hover {\n",
              "      background-color: #434B5C;\n",
              "      box-shadow: 0px 1px 3px 1px rgba(0, 0, 0, 0.15);\n",
              "      filter: drop-shadow(0px 1px 2px rgba(0, 0, 0, 0.3));\n",
              "      fill: #FFFFFF;\n",
              "    }\n",
              "  </style>\n",
              "\n",
              "      <script>\n",
              "        const buttonEl =\n",
              "          document.querySelector('#df-40547006-497a-47d8-a751-3e3fdd0cc1df button.colab-df-convert');\n",
              "        buttonEl.style.display =\n",
              "          google.colab.kernel.accessAllowed ? 'block' : 'none';\n",
              "\n",
              "        async function convertToInteractive(key) {\n",
              "          const element = document.querySelector('#df-40547006-497a-47d8-a751-3e3fdd0cc1df');\n",
              "          const dataTable =\n",
              "            await google.colab.kernel.invokeFunction('convertToInteractive',\n",
              "                                                     [key], {});\n",
              "          if (!dataTable) return;\n",
              "\n",
              "          const docLinkHtml = 'Like what you see? Visit the ' +\n",
              "            '<a target=\"_blank\" href=https://colab.research.google.com/notebooks/data_table.ipynb>data table notebook</a>'\n",
              "            + ' to learn more about interactive tables.';\n",
              "          element.innerHTML = '';\n",
              "          dataTable['output_type'] = 'display_data';\n",
              "          await google.colab.output.renderOutput(dataTable, element);\n",
              "          const docLink = document.createElement('div');\n",
              "          docLink.innerHTML = docLinkHtml;\n",
              "          element.appendChild(docLink);\n",
              "        }\n",
              "      </script>\n",
              "    </div>\n",
              "  </div>\n",
              "  "
            ]
          },
          "metadata": {},
          "execution_count": 153
        }
      ],
      "source": [
        "drive_path = '/content/drive/My Drive/Colab Notebooks/learning_equality/'\n",
        "#drive_path = '/kaggle/input'\n",
        "\n",
        "# load 'topics' data into pandas dataframe\n",
        "df_topics = pd.read_csv(f'{drive_path}topics.csv', index_col=0).fillna({\"title\": \"\", \"description\": \"\"})\n",
        "df_topics"
      ],
      "id": "debc1002"
    },
    {
      "cell_type": "code",
      "execution_count": null,
      "metadata": {
        "colab": {
          "base_uri": "https://localhost:8080/",
          "height": 620
        },
        "id": "f29e0027",
        "outputId": "7a7843d3-0ba6-4d0f-b57a-b94df23137c1"
      },
      "outputs": [
        {
          "output_type": "execute_result",
          "data": {
            "text/plain": [
              "                                                           title  \\\n",
              "id                                                                 \n",
              "c_00002381196d  Sumar números de varios dígitos: 48,029+233,930    \n",
              "c_000087304a9e                    Trovare i fattori di un numero   \n",
              "c_0000ad142ddb                           Sumar curvas de demanda   \n",
              "c_0000c03adc8d                               Nado de aproximação   \n",
              "c_00016694ea2a                  geometry-m3-topic-a-overview.pdf   \n",
              "...                                                          ...   \n",
              "c_fffcbdd4de8b                                  2. 12: Diffusion   \n",
              "c_fffe15a2d069                      Sommare facendo gruppi da 10   \n",
              "c_fffed7b0d13a                            Introdução à subtração   \n",
              "c_ffff04ba7ac7                                      SA of a Cone   \n",
              "c_ffffe5254266                                          The Jats   \n",
              "\n",
              "                                                      description      kind  \\\n",
              "id                                                                            \n",
              "c_00002381196d  Suma 48,029+233,930 mediante el algoritmo está...     video   \n",
              "c_000087304a9e                    Sal trova i fattori di 120.\\n\\n     video   \n",
              "c_0000ad142ddb                  Cómo añadir curvas de demanda\\n\\n     video   \n",
              "c_0000c03adc8d  Neste vídeo você vai aprender o nado de aproxi...  document   \n",
              "c_00016694ea2a                   geometry-m3-topic-a-overview.pdf  document   \n",
              "...                                                           ...       ...   \n",
              "c_fffcbdd4de8b                                                        html5   \n",
              "c_fffe15a2d069  Sal somma 5+68 spezzando il 5 in un 2 e un 3.\\n\\n     video   \n",
              "c_fffed7b0d13a  Sal fala sobre o que significa subtrair. Os ex...     video   \n",
              "c_ffff04ba7ac7                                                        video   \n",
              "c_ffffe5254266                                                        video   \n",
              "\n",
              "                                                             text language  \\\n",
              "id                                                                           \n",
              "c_00002381196d                                                          es   \n",
              "c_000087304a9e                                                          it   \n",
              "c_0000ad142ddb                                                          es   \n",
              "c_0000c03adc8d  \\nNado de aproximação\\nSaber nadar nas ondas ...       pt   \n",
              "c_00016694ea2a  Estándares Comunes del Estado de Nueva York\\n\\...       es   \n",
              "...                                                           ...      ...   \n",
              "c_fffcbdd4de8b  What will eventually happen to these dyes?\\n\\n...       en   \n",
              "c_fffe15a2d069                                                          it   \n",
              "c_fffed7b0d13a                                                          pt   \n",
              "c_ffff04ba7ac7                                                          en   \n",
              "c_ffffe5254266                                                          en   \n",
              "\n",
              "                copyright_holder      license  \n",
              "id                                             \n",
              "c_00002381196d                                 \n",
              "c_000087304a9e                                 \n",
              "c_0000ad142ddb                                 \n",
              "c_0000c03adc8d  Sikana Education  CC BY-NC-ND  \n",
              "c_00016694ea2a         Engage NY  CC BY-NC-SA  \n",
              "...                          ...          ...  \n",
              "c_fffcbdd4de8b    CSU and Merlot  CC BY-NC-SA  \n",
              "c_fffe15a2d069                                 \n",
              "c_fffed7b0d13a                                 \n",
              "c_ffff04ba7ac7                                 \n",
              "c_ffffe5254266                                 \n",
              "\n",
              "[154047 rows x 7 columns]"
            ],
            "text/html": [
              "\n",
              "  <div id=\"df-c792385b-0ed4-4e64-b92e-f429330607a7\">\n",
              "    <div class=\"colab-df-container\">\n",
              "      <div>\n",
              "<style scoped>\n",
              "    .dataframe tbody tr th:only-of-type {\n",
              "        vertical-align: middle;\n",
              "    }\n",
              "\n",
              "    .dataframe tbody tr th {\n",
              "        vertical-align: top;\n",
              "    }\n",
              "\n",
              "    .dataframe thead th {\n",
              "        text-align: right;\n",
              "    }\n",
              "</style>\n",
              "<table border=\"1\" class=\"dataframe\">\n",
              "  <thead>\n",
              "    <tr style=\"text-align: right;\">\n",
              "      <th></th>\n",
              "      <th>title</th>\n",
              "      <th>description</th>\n",
              "      <th>kind</th>\n",
              "      <th>text</th>\n",
              "      <th>language</th>\n",
              "      <th>copyright_holder</th>\n",
              "      <th>license</th>\n",
              "    </tr>\n",
              "    <tr>\n",
              "      <th>id</th>\n",
              "      <th></th>\n",
              "      <th></th>\n",
              "      <th></th>\n",
              "      <th></th>\n",
              "      <th></th>\n",
              "      <th></th>\n",
              "      <th></th>\n",
              "    </tr>\n",
              "  </thead>\n",
              "  <tbody>\n",
              "    <tr>\n",
              "      <th>c_00002381196d</th>\n",
              "      <td>Sumar números de varios dígitos: 48,029+233,930</td>\n",
              "      <td>Suma 48,029+233,930 mediante el algoritmo está...</td>\n",
              "      <td>video</td>\n",
              "      <td></td>\n",
              "      <td>es</td>\n",
              "      <td></td>\n",
              "      <td></td>\n",
              "    </tr>\n",
              "    <tr>\n",
              "      <th>c_000087304a9e</th>\n",
              "      <td>Trovare i fattori di un numero</td>\n",
              "      <td>Sal trova i fattori di 120.\\n\\n</td>\n",
              "      <td>video</td>\n",
              "      <td></td>\n",
              "      <td>it</td>\n",
              "      <td></td>\n",
              "      <td></td>\n",
              "    </tr>\n",
              "    <tr>\n",
              "      <th>c_0000ad142ddb</th>\n",
              "      <td>Sumar curvas de demanda</td>\n",
              "      <td>Cómo añadir curvas de demanda\\n\\n</td>\n",
              "      <td>video</td>\n",
              "      <td></td>\n",
              "      <td>es</td>\n",
              "      <td></td>\n",
              "      <td></td>\n",
              "    </tr>\n",
              "    <tr>\n",
              "      <th>c_0000c03adc8d</th>\n",
              "      <td>Nado de aproximação</td>\n",
              "      <td>Neste vídeo você vai aprender o nado de aproxi...</td>\n",
              "      <td>document</td>\n",
              "      <td>\\nNado de aproximação\\nSaber nadar nas ondas ...</td>\n",
              "      <td>pt</td>\n",
              "      <td>Sikana Education</td>\n",
              "      <td>CC BY-NC-ND</td>\n",
              "    </tr>\n",
              "    <tr>\n",
              "      <th>c_00016694ea2a</th>\n",
              "      <td>geometry-m3-topic-a-overview.pdf</td>\n",
              "      <td>geometry-m3-topic-a-overview.pdf</td>\n",
              "      <td>document</td>\n",
              "      <td>Estándares Comunes del Estado de Nueva York\\n\\...</td>\n",
              "      <td>es</td>\n",
              "      <td>Engage NY</td>\n",
              "      <td>CC BY-NC-SA</td>\n",
              "    </tr>\n",
              "    <tr>\n",
              "      <th>...</th>\n",
              "      <td>...</td>\n",
              "      <td>...</td>\n",
              "      <td>...</td>\n",
              "      <td>...</td>\n",
              "      <td>...</td>\n",
              "      <td>...</td>\n",
              "      <td>...</td>\n",
              "    </tr>\n",
              "    <tr>\n",
              "      <th>c_fffcbdd4de8b</th>\n",
              "      <td>2. 12: Diffusion</td>\n",
              "      <td></td>\n",
              "      <td>html5</td>\n",
              "      <td>What will eventually happen to these dyes?\\n\\n...</td>\n",
              "      <td>en</td>\n",
              "      <td>CSU and Merlot</td>\n",
              "      <td>CC BY-NC-SA</td>\n",
              "    </tr>\n",
              "    <tr>\n",
              "      <th>c_fffe15a2d069</th>\n",
              "      <td>Sommare facendo gruppi da 10</td>\n",
              "      <td>Sal somma 5+68 spezzando il 5 in un 2 e un 3.\\n\\n</td>\n",
              "      <td>video</td>\n",
              "      <td></td>\n",
              "      <td>it</td>\n",
              "      <td></td>\n",
              "      <td></td>\n",
              "    </tr>\n",
              "    <tr>\n",
              "      <th>c_fffed7b0d13a</th>\n",
              "      <td>Introdução à subtração</td>\n",
              "      <td>Sal fala sobre o que significa subtrair. Os ex...</td>\n",
              "      <td>video</td>\n",
              "      <td></td>\n",
              "      <td>pt</td>\n",
              "      <td></td>\n",
              "      <td></td>\n",
              "    </tr>\n",
              "    <tr>\n",
              "      <th>c_ffff04ba7ac7</th>\n",
              "      <td>SA of a Cone</td>\n",
              "      <td></td>\n",
              "      <td>video</td>\n",
              "      <td></td>\n",
              "      <td>en</td>\n",
              "      <td></td>\n",
              "      <td></td>\n",
              "    </tr>\n",
              "    <tr>\n",
              "      <th>c_ffffe5254266</th>\n",
              "      <td>The Jats</td>\n",
              "      <td></td>\n",
              "      <td>video</td>\n",
              "      <td></td>\n",
              "      <td>en</td>\n",
              "      <td></td>\n",
              "      <td></td>\n",
              "    </tr>\n",
              "  </tbody>\n",
              "</table>\n",
              "<p>154047 rows × 7 columns</p>\n",
              "</div>\n",
              "      <button class=\"colab-df-convert\" onclick=\"convertToInteractive('df-c792385b-0ed4-4e64-b92e-f429330607a7')\"\n",
              "              title=\"Convert this dataframe to an interactive table.\"\n",
              "              style=\"display:none;\">\n",
              "        \n",
              "  <svg xmlns=\"http://www.w3.org/2000/svg\" height=\"24px\"viewBox=\"0 0 24 24\"\n",
              "       width=\"24px\">\n",
              "    <path d=\"M0 0h24v24H0V0z\" fill=\"none\"/>\n",
              "    <path d=\"M18.56 5.44l.94 2.06.94-2.06 2.06-.94-2.06-.94-.94-2.06-.94 2.06-2.06.94zm-11 1L8.5 8.5l.94-2.06 2.06-.94-2.06-.94L8.5 2.5l-.94 2.06-2.06.94zm10 10l.94 2.06.94-2.06 2.06-.94-2.06-.94-.94-2.06-.94 2.06-2.06.94z\"/><path d=\"M17.41 7.96l-1.37-1.37c-.4-.4-.92-.59-1.43-.59-.52 0-1.04.2-1.43.59L10.3 9.45l-7.72 7.72c-.78.78-.78 2.05 0 2.83L4 21.41c.39.39.9.59 1.41.59.51 0 1.02-.2 1.41-.59l7.78-7.78 2.81-2.81c.8-.78.8-2.07 0-2.86zM5.41 20L4 18.59l7.72-7.72 1.47 1.35L5.41 20z\"/>\n",
              "  </svg>\n",
              "      </button>\n",
              "      \n",
              "  <style>\n",
              "    .colab-df-container {\n",
              "      display:flex;\n",
              "      flex-wrap:wrap;\n",
              "      gap: 12px;\n",
              "    }\n",
              "\n",
              "    .colab-df-convert {\n",
              "      background-color: #E8F0FE;\n",
              "      border: none;\n",
              "      border-radius: 50%;\n",
              "      cursor: pointer;\n",
              "      display: none;\n",
              "      fill: #1967D2;\n",
              "      height: 32px;\n",
              "      padding: 0 0 0 0;\n",
              "      width: 32px;\n",
              "    }\n",
              "\n",
              "    .colab-df-convert:hover {\n",
              "      background-color: #E2EBFA;\n",
              "      box-shadow: 0px 1px 2px rgba(60, 64, 67, 0.3), 0px 1px 3px 1px rgba(60, 64, 67, 0.15);\n",
              "      fill: #174EA6;\n",
              "    }\n",
              "\n",
              "    [theme=dark] .colab-df-convert {\n",
              "      background-color: #3B4455;\n",
              "      fill: #D2E3FC;\n",
              "    }\n",
              "\n",
              "    [theme=dark] .colab-df-convert:hover {\n",
              "      background-color: #434B5C;\n",
              "      box-shadow: 0px 1px 3px 1px rgba(0, 0, 0, 0.15);\n",
              "      filter: drop-shadow(0px 1px 2px rgba(0, 0, 0, 0.3));\n",
              "      fill: #FFFFFF;\n",
              "    }\n",
              "  </style>\n",
              "\n",
              "      <script>\n",
              "        const buttonEl =\n",
              "          document.querySelector('#df-c792385b-0ed4-4e64-b92e-f429330607a7 button.colab-df-convert');\n",
              "        buttonEl.style.display =\n",
              "          google.colab.kernel.accessAllowed ? 'block' : 'none';\n",
              "\n",
              "        async function convertToInteractive(key) {\n",
              "          const element = document.querySelector('#df-c792385b-0ed4-4e64-b92e-f429330607a7');\n",
              "          const dataTable =\n",
              "            await google.colab.kernel.invokeFunction('convertToInteractive',\n",
              "                                                     [key], {});\n",
              "          if (!dataTable) return;\n",
              "\n",
              "          const docLinkHtml = 'Like what you see? Visit the ' +\n",
              "            '<a target=\"_blank\" href=https://colab.research.google.com/notebooks/data_table.ipynb>data table notebook</a>'\n",
              "            + ' to learn more about interactive tables.';\n",
              "          element.innerHTML = '';\n",
              "          dataTable['output_type'] = 'display_data';\n",
              "          await google.colab.output.renderOutput(dataTable, element);\n",
              "          const docLink = document.createElement('div');\n",
              "          docLink.innerHTML = docLinkHtml;\n",
              "          element.appendChild(docLink);\n",
              "        }\n",
              "      </script>\n",
              "    </div>\n",
              "  </div>\n",
              "  "
            ]
          },
          "metadata": {},
          "execution_count": 155
        }
      ],
      "source": [
        "# load 'content' data into pandas dataframe\n",
        "df_content = pd.read_csv(f'{drive_path}content.csv', index_col=0).fillna(\"\")\n",
        "df_content"
      ],
      "id": "f29e0027"
    },
    {
      "cell_type": "code",
      "execution_count": null,
      "metadata": {
        "colab": {
          "base_uri": "https://localhost:8080/",
          "height": 455
        },
        "id": "29667ed7",
        "outputId": "8f3c7bd9-ebd8-4729-a901-ba908e7739fb",
        "scrolled": false
      },
      "outputs": [
        {
          "output_type": "execute_result",
          "data": {
            "text/plain": [
              "                                                      content_ids\n",
              "topic_id                                                         \n",
              "t_00004da3a1b2  c_1108dd0c7a5d c_376c5a8eb028 c_5bc0e1e2cba0 c...\n",
              "t_00068291e9a4  c_639ea2ef9c95 c_89ce9367be10 c_ac1672cdcd2c c...\n",
              "t_00069b63a70a                                     c_11a1dc0bfb99\n",
              "t_0006d41a73a8  c_0c6473c3480d c_1c57a1316568 c_5e375cf14c47 c...\n",
              "t_0008768bdee6       c_34e1424229b4 c_7d1a964d66d5 c_aab93ee667f4\n",
              "...                                                           ...\n",
              "t_fff830472691                      c_61fb63326e5d c_8f224e321c87\n",
              "t_fff9e5407d13  c_026db653a269 c_0fb048a6412c c_20de77522603 c...\n",
              "t_fffbe1d5d43c                      c_46f852a49c08 c_6659207b25d5\n",
              "t_fffe14f1be1e                                     c_cece166bad6a\n",
              "t_fffe811a6da9                                     c_92b8fad372ee\n",
              "\n",
              "[61517 rows x 1 columns]"
            ],
            "text/html": [
              "\n",
              "  <div id=\"df-e119c638-b55d-42d2-a334-beb553239c74\">\n",
              "    <div class=\"colab-df-container\">\n",
              "      <div>\n",
              "<style scoped>\n",
              "    .dataframe tbody tr th:only-of-type {\n",
              "        vertical-align: middle;\n",
              "    }\n",
              "\n",
              "    .dataframe tbody tr th {\n",
              "        vertical-align: top;\n",
              "    }\n",
              "\n",
              "    .dataframe thead th {\n",
              "        text-align: right;\n",
              "    }\n",
              "</style>\n",
              "<table border=\"1\" class=\"dataframe\">\n",
              "  <thead>\n",
              "    <tr style=\"text-align: right;\">\n",
              "      <th></th>\n",
              "      <th>content_ids</th>\n",
              "    </tr>\n",
              "    <tr>\n",
              "      <th>topic_id</th>\n",
              "      <th></th>\n",
              "    </tr>\n",
              "  </thead>\n",
              "  <tbody>\n",
              "    <tr>\n",
              "      <th>t_00004da3a1b2</th>\n",
              "      <td>c_1108dd0c7a5d c_376c5a8eb028 c_5bc0e1e2cba0 c...</td>\n",
              "    </tr>\n",
              "    <tr>\n",
              "      <th>t_00068291e9a4</th>\n",
              "      <td>c_639ea2ef9c95 c_89ce9367be10 c_ac1672cdcd2c c...</td>\n",
              "    </tr>\n",
              "    <tr>\n",
              "      <th>t_00069b63a70a</th>\n",
              "      <td>c_11a1dc0bfb99</td>\n",
              "    </tr>\n",
              "    <tr>\n",
              "      <th>t_0006d41a73a8</th>\n",
              "      <td>c_0c6473c3480d c_1c57a1316568 c_5e375cf14c47 c...</td>\n",
              "    </tr>\n",
              "    <tr>\n",
              "      <th>t_0008768bdee6</th>\n",
              "      <td>c_34e1424229b4 c_7d1a964d66d5 c_aab93ee667f4</td>\n",
              "    </tr>\n",
              "    <tr>\n",
              "      <th>...</th>\n",
              "      <td>...</td>\n",
              "    </tr>\n",
              "    <tr>\n",
              "      <th>t_fff830472691</th>\n",
              "      <td>c_61fb63326e5d c_8f224e321c87</td>\n",
              "    </tr>\n",
              "    <tr>\n",
              "      <th>t_fff9e5407d13</th>\n",
              "      <td>c_026db653a269 c_0fb048a6412c c_20de77522603 c...</td>\n",
              "    </tr>\n",
              "    <tr>\n",
              "      <th>t_fffbe1d5d43c</th>\n",
              "      <td>c_46f852a49c08 c_6659207b25d5</td>\n",
              "    </tr>\n",
              "    <tr>\n",
              "      <th>t_fffe14f1be1e</th>\n",
              "      <td>c_cece166bad6a</td>\n",
              "    </tr>\n",
              "    <tr>\n",
              "      <th>t_fffe811a6da9</th>\n",
              "      <td>c_92b8fad372ee</td>\n",
              "    </tr>\n",
              "  </tbody>\n",
              "</table>\n",
              "<p>61517 rows × 1 columns</p>\n",
              "</div>\n",
              "      <button class=\"colab-df-convert\" onclick=\"convertToInteractive('df-e119c638-b55d-42d2-a334-beb553239c74')\"\n",
              "              title=\"Convert this dataframe to an interactive table.\"\n",
              "              style=\"display:none;\">\n",
              "        \n",
              "  <svg xmlns=\"http://www.w3.org/2000/svg\" height=\"24px\"viewBox=\"0 0 24 24\"\n",
              "       width=\"24px\">\n",
              "    <path d=\"M0 0h24v24H0V0z\" fill=\"none\"/>\n",
              "    <path d=\"M18.56 5.44l.94 2.06.94-2.06 2.06-.94-2.06-.94-.94-2.06-.94 2.06-2.06.94zm-11 1L8.5 8.5l.94-2.06 2.06-.94-2.06-.94L8.5 2.5l-.94 2.06-2.06.94zm10 10l.94 2.06.94-2.06 2.06-.94-2.06-.94-.94-2.06-.94 2.06-2.06.94z\"/><path d=\"M17.41 7.96l-1.37-1.37c-.4-.4-.92-.59-1.43-.59-.52 0-1.04.2-1.43.59L10.3 9.45l-7.72 7.72c-.78.78-.78 2.05 0 2.83L4 21.41c.39.39.9.59 1.41.59.51 0 1.02-.2 1.41-.59l7.78-7.78 2.81-2.81c.8-.78.8-2.07 0-2.86zM5.41 20L4 18.59l7.72-7.72 1.47 1.35L5.41 20z\"/>\n",
              "  </svg>\n",
              "      </button>\n",
              "      \n",
              "  <style>\n",
              "    .colab-df-container {\n",
              "      display:flex;\n",
              "      flex-wrap:wrap;\n",
              "      gap: 12px;\n",
              "    }\n",
              "\n",
              "    .colab-df-convert {\n",
              "      background-color: #E8F0FE;\n",
              "      border: none;\n",
              "      border-radius: 50%;\n",
              "      cursor: pointer;\n",
              "      display: none;\n",
              "      fill: #1967D2;\n",
              "      height: 32px;\n",
              "      padding: 0 0 0 0;\n",
              "      width: 32px;\n",
              "    }\n",
              "\n",
              "    .colab-df-convert:hover {\n",
              "      background-color: #E2EBFA;\n",
              "      box-shadow: 0px 1px 2px rgba(60, 64, 67, 0.3), 0px 1px 3px 1px rgba(60, 64, 67, 0.15);\n",
              "      fill: #174EA6;\n",
              "    }\n",
              "\n",
              "    [theme=dark] .colab-df-convert {\n",
              "      background-color: #3B4455;\n",
              "      fill: #D2E3FC;\n",
              "    }\n",
              "\n",
              "    [theme=dark] .colab-df-convert:hover {\n",
              "      background-color: #434B5C;\n",
              "      box-shadow: 0px 1px 3px 1px rgba(0, 0, 0, 0.15);\n",
              "      filter: drop-shadow(0px 1px 2px rgba(0, 0, 0, 0.3));\n",
              "      fill: #FFFFFF;\n",
              "    }\n",
              "  </style>\n",
              "\n",
              "      <script>\n",
              "        const buttonEl =\n",
              "          document.querySelector('#df-e119c638-b55d-42d2-a334-beb553239c74 button.colab-df-convert');\n",
              "        buttonEl.style.display =\n",
              "          google.colab.kernel.accessAllowed ? 'block' : 'none';\n",
              "\n",
              "        async function convertToInteractive(key) {\n",
              "          const element = document.querySelector('#df-e119c638-b55d-42d2-a334-beb553239c74');\n",
              "          const dataTable =\n",
              "            await google.colab.kernel.invokeFunction('convertToInteractive',\n",
              "                                                     [key], {});\n",
              "          if (!dataTable) return;\n",
              "\n",
              "          const docLinkHtml = 'Like what you see? Visit the ' +\n",
              "            '<a target=\"_blank\" href=https://colab.research.google.com/notebooks/data_table.ipynb>data table notebook</a>'\n",
              "            + ' to learn more about interactive tables.';\n",
              "          element.innerHTML = '';\n",
              "          dataTable['output_type'] = 'display_data';\n",
              "          await google.colab.output.renderOutput(dataTable, element);\n",
              "          const docLink = document.createElement('div');\n",
              "          docLink.innerHTML = docLinkHtml;\n",
              "          element.appendChild(docLink);\n",
              "        }\n",
              "      </script>\n",
              "    </div>\n",
              "  </div>\n",
              "  "
            ]
          },
          "metadata": {},
          "execution_count": 156
        }
      ],
      "source": [
        "# load 'correlations' data into pandas dataframe\n",
        "df_corr = pd.read_csv(f'{drive_path}correlations.csv', index_col=0)\n",
        "df_corr"
      ],
      "id": "29667ed7"
    },
    {
      "cell_type": "code",
      "execution_count": null,
      "metadata": {
        "colab": {
          "base_uri": "https://localhost:8080/",
          "height": 423
        },
        "outputId": "7681b90b-c5fe-425a-8588-a482bca3a5ae",
        "scrolled": false,
        "id": "uHXeHxwfQ4qX"
      },
      "outputs": [
        {
          "output_type": "execute_result",
          "data": {
            "text/plain": [
              "                                                topic_breadcrumbs\n",
              "t_00004da3a1b2  Khan Academy (български език) Наука Физика Отк...\n",
              "t_000095e03056  Ghana JHS Curriculum (in progress) Junior High...\n",
              "t_00068291e9a4  Khan Academy (Português (Brasil)) Matemática p...\n",
              "t_00069b63a70a  MIT Blossoms Engineering Flow Charts: Logical ...\n",
              "t_0006d41a73a8  Khan Academy (български език) Математика Алгеб...\n",
              "...                                                           ...\n",
              "t_fffb0bf2801d  Camara Education Ethiopia Secondary Science an...\n",
              "t_fffbe1d5d43c  Khan Academy (Kiswahili) Hisabati Class 9 (Ind...\n",
              "t_fffe14f1be1e  CREE Para el Estudiante I Ciclo 01 Primero Esp...\n",
              "t_fffe811a6da9  Edraak (العربيّة) الهندسة وعلم المثلثات تحديد ...\n",
              "t_fffe88835149  Kolibri Library for Kenya Form 1 Physics 8.0 R...\n",
              "\n",
              "[76972 rows x 1 columns]"
            ],
            "text/html": [
              "\n",
              "  <div id=\"df-d93b98f7-ebec-4e88-922e-28ab390ce7d6\">\n",
              "    <div class=\"colab-df-container\">\n",
              "      <div>\n",
              "<style scoped>\n",
              "    .dataframe tbody tr th:only-of-type {\n",
              "        vertical-align: middle;\n",
              "    }\n",
              "\n",
              "    .dataframe tbody tr th {\n",
              "        vertical-align: top;\n",
              "    }\n",
              "\n",
              "    .dataframe thead th {\n",
              "        text-align: right;\n",
              "    }\n",
              "</style>\n",
              "<table border=\"1\" class=\"dataframe\">\n",
              "  <thead>\n",
              "    <tr style=\"text-align: right;\">\n",
              "      <th></th>\n",
              "      <th>topic_breadcrumbs</th>\n",
              "    </tr>\n",
              "  </thead>\n",
              "  <tbody>\n",
              "    <tr>\n",
              "      <th>t_00004da3a1b2</th>\n",
              "      <td>Khan Academy (български език) Наука Физика Отк...</td>\n",
              "    </tr>\n",
              "    <tr>\n",
              "      <th>t_000095e03056</th>\n",
              "      <td>Ghana JHS Curriculum (in progress) Junior High...</td>\n",
              "    </tr>\n",
              "    <tr>\n",
              "      <th>t_00068291e9a4</th>\n",
              "      <td>Khan Academy (Português (Brasil)) Matemática p...</td>\n",
              "    </tr>\n",
              "    <tr>\n",
              "      <th>t_00069b63a70a</th>\n",
              "      <td>MIT Blossoms Engineering Flow Charts: Logical ...</td>\n",
              "    </tr>\n",
              "    <tr>\n",
              "      <th>t_0006d41a73a8</th>\n",
              "      <td>Khan Academy (български език) Математика Алгеб...</td>\n",
              "    </tr>\n",
              "    <tr>\n",
              "      <th>...</th>\n",
              "      <td>...</td>\n",
              "    </tr>\n",
              "    <tr>\n",
              "      <th>t_fffb0bf2801d</th>\n",
              "      <td>Camara Education Ethiopia Secondary Science an...</td>\n",
              "    </tr>\n",
              "    <tr>\n",
              "      <th>t_fffbe1d5d43c</th>\n",
              "      <td>Khan Academy (Kiswahili) Hisabati Class 9 (Ind...</td>\n",
              "    </tr>\n",
              "    <tr>\n",
              "      <th>t_fffe14f1be1e</th>\n",
              "      <td>CREE Para el Estudiante I Ciclo 01 Primero Esp...</td>\n",
              "    </tr>\n",
              "    <tr>\n",
              "      <th>t_fffe811a6da9</th>\n",
              "      <td>Edraak (العربيّة) الهندسة وعلم المثلثات تحديد ...</td>\n",
              "    </tr>\n",
              "    <tr>\n",
              "      <th>t_fffe88835149</th>\n",
              "      <td>Kolibri Library for Kenya Form 1 Physics 8.0 R...</td>\n",
              "    </tr>\n",
              "  </tbody>\n",
              "</table>\n",
              "<p>76972 rows × 1 columns</p>\n",
              "</div>\n",
              "      <button class=\"colab-df-convert\" onclick=\"convertToInteractive('df-d93b98f7-ebec-4e88-922e-28ab390ce7d6')\"\n",
              "              title=\"Convert this dataframe to an interactive table.\"\n",
              "              style=\"display:none;\">\n",
              "        \n",
              "  <svg xmlns=\"http://www.w3.org/2000/svg\" height=\"24px\"viewBox=\"0 0 24 24\"\n",
              "       width=\"24px\">\n",
              "    <path d=\"M0 0h24v24H0V0z\" fill=\"none\"/>\n",
              "    <path d=\"M18.56 5.44l.94 2.06.94-2.06 2.06-.94-2.06-.94-.94-2.06-.94 2.06-2.06.94zm-11 1L8.5 8.5l.94-2.06 2.06-.94-2.06-.94L8.5 2.5l-.94 2.06-2.06.94zm10 10l.94 2.06.94-2.06 2.06-.94-2.06-.94-.94-2.06-.94 2.06-2.06.94z\"/><path d=\"M17.41 7.96l-1.37-1.37c-.4-.4-.92-.59-1.43-.59-.52 0-1.04.2-1.43.59L10.3 9.45l-7.72 7.72c-.78.78-.78 2.05 0 2.83L4 21.41c.39.39.9.59 1.41.59.51 0 1.02-.2 1.41-.59l7.78-7.78 2.81-2.81c.8-.78.8-2.07 0-2.86zM5.41 20L4 18.59l7.72-7.72 1.47 1.35L5.41 20z\"/>\n",
              "  </svg>\n",
              "      </button>\n",
              "      \n",
              "  <style>\n",
              "    .colab-df-container {\n",
              "      display:flex;\n",
              "      flex-wrap:wrap;\n",
              "      gap: 12px;\n",
              "    }\n",
              "\n",
              "    .colab-df-convert {\n",
              "      background-color: #E8F0FE;\n",
              "      border: none;\n",
              "      border-radius: 50%;\n",
              "      cursor: pointer;\n",
              "      display: none;\n",
              "      fill: #1967D2;\n",
              "      height: 32px;\n",
              "      padding: 0 0 0 0;\n",
              "      width: 32px;\n",
              "    }\n",
              "\n",
              "    .colab-df-convert:hover {\n",
              "      background-color: #E2EBFA;\n",
              "      box-shadow: 0px 1px 2px rgba(60, 64, 67, 0.3), 0px 1px 3px 1px rgba(60, 64, 67, 0.15);\n",
              "      fill: #174EA6;\n",
              "    }\n",
              "\n",
              "    [theme=dark] .colab-df-convert {\n",
              "      background-color: #3B4455;\n",
              "      fill: #D2E3FC;\n",
              "    }\n",
              "\n",
              "    [theme=dark] .colab-df-convert:hover {\n",
              "      background-color: #434B5C;\n",
              "      box-shadow: 0px 1px 3px 1px rgba(0, 0, 0, 0.15);\n",
              "      filter: drop-shadow(0px 1px 2px rgba(0, 0, 0, 0.3));\n",
              "      fill: #FFFFFF;\n",
              "    }\n",
              "  </style>\n",
              "\n",
              "      <script>\n",
              "        const buttonEl =\n",
              "          document.querySelector('#df-d93b98f7-ebec-4e88-922e-28ab390ce7d6 button.colab-df-convert');\n",
              "        buttonEl.style.display =\n",
              "          google.colab.kernel.accessAllowed ? 'block' : 'none';\n",
              "\n",
              "        async function convertToInteractive(key) {\n",
              "          const element = document.querySelector('#df-d93b98f7-ebec-4e88-922e-28ab390ce7d6');\n",
              "          const dataTable =\n",
              "            await google.colab.kernel.invokeFunction('convertToInteractive',\n",
              "                                                     [key], {});\n",
              "          if (!dataTable) return;\n",
              "\n",
              "          const docLinkHtml = 'Like what you see? Visit the ' +\n",
              "            '<a target=\"_blank\" href=https://colab.research.google.com/notebooks/data_table.ipynb>data table notebook</a>'\n",
              "            + ' to learn more about interactive tables.';\n",
              "          element.innerHTML = '';\n",
              "          dataTable['output_type'] = 'display_data';\n",
              "          await google.colab.output.renderOutput(dataTable, element);\n",
              "          const docLink = document.createElement('div');\n",
              "          docLink.innerHTML = docLinkHtml;\n",
              "          element.appendChild(docLink);\n",
              "        }\n",
              "      </script>\n",
              "    </div>\n",
              "  </div>\n",
              "  "
            ]
          },
          "metadata": {},
          "execution_count": 157
        }
      ],
      "source": [
        "# load 'topic_breadcrumbs' data into pandas dataframe\n",
        "df_topic_breadcrumbs = pd.read_csv(f'{drive_path}topic_breadcrumbs.csv', index_col=0)\n",
        "df_topic_breadcrumbs"
      ],
      "id": "uHXeHxwfQ4qX"
    },
    {
      "cell_type": "code",
      "execution_count": null,
      "metadata": {
        "colab": {
          "base_uri": "https://localhost:8080/",
          "height": 423
        },
        "id": "281bbca0",
        "outputId": "c6521999-01f3-4b8b-feb8-0d592e652740",
        "scrolled": false
      },
      "outputs": [
        {
          "output_type": "execute_result",
          "data": {
            "text/plain": [
              "              topic_id     content_ids\n",
              "0       t_00004da3a1b2  c_1108dd0c7a5d\n",
              "1       t_00004da3a1b2  c_376c5a8eb028\n",
              "2       t_00004da3a1b2  c_5bc0e1e2cba0\n",
              "3       t_00004da3a1b2  c_76231f9d0b5e\n",
              "4       t_00068291e9a4  c_639ea2ef9c95\n",
              "...                ...             ...\n",
              "279914  t_fff9e5407d13  c_d64037a72376\n",
              "279915  t_fffbe1d5d43c  c_46f852a49c08\n",
              "279916  t_fffbe1d5d43c  c_6659207b25d5\n",
              "279917  t_fffe14f1be1e  c_cece166bad6a\n",
              "279918  t_fffe811a6da9  c_92b8fad372ee\n",
              "\n",
              "[279919 rows x 2 columns]"
            ],
            "text/html": [
              "\n",
              "  <div id=\"df-3be93e6a-b199-4e10-b4b6-474ebec0d4e7\">\n",
              "    <div class=\"colab-df-container\">\n",
              "      <div>\n",
              "<style scoped>\n",
              "    .dataframe tbody tr th:only-of-type {\n",
              "        vertical-align: middle;\n",
              "    }\n",
              "\n",
              "    .dataframe tbody tr th {\n",
              "        vertical-align: top;\n",
              "    }\n",
              "\n",
              "    .dataframe thead th {\n",
              "        text-align: right;\n",
              "    }\n",
              "</style>\n",
              "<table border=\"1\" class=\"dataframe\">\n",
              "  <thead>\n",
              "    <tr style=\"text-align: right;\">\n",
              "      <th></th>\n",
              "      <th>topic_id</th>\n",
              "      <th>content_ids</th>\n",
              "    </tr>\n",
              "  </thead>\n",
              "  <tbody>\n",
              "    <tr>\n",
              "      <th>0</th>\n",
              "      <td>t_00004da3a1b2</td>\n",
              "      <td>c_1108dd0c7a5d</td>\n",
              "    </tr>\n",
              "    <tr>\n",
              "      <th>1</th>\n",
              "      <td>t_00004da3a1b2</td>\n",
              "      <td>c_376c5a8eb028</td>\n",
              "    </tr>\n",
              "    <tr>\n",
              "      <th>2</th>\n",
              "      <td>t_00004da3a1b2</td>\n",
              "      <td>c_5bc0e1e2cba0</td>\n",
              "    </tr>\n",
              "    <tr>\n",
              "      <th>3</th>\n",
              "      <td>t_00004da3a1b2</td>\n",
              "      <td>c_76231f9d0b5e</td>\n",
              "    </tr>\n",
              "    <tr>\n",
              "      <th>4</th>\n",
              "      <td>t_00068291e9a4</td>\n",
              "      <td>c_639ea2ef9c95</td>\n",
              "    </tr>\n",
              "    <tr>\n",
              "      <th>...</th>\n",
              "      <td>...</td>\n",
              "      <td>...</td>\n",
              "    </tr>\n",
              "    <tr>\n",
              "      <th>279914</th>\n",
              "      <td>t_fff9e5407d13</td>\n",
              "      <td>c_d64037a72376</td>\n",
              "    </tr>\n",
              "    <tr>\n",
              "      <th>279915</th>\n",
              "      <td>t_fffbe1d5d43c</td>\n",
              "      <td>c_46f852a49c08</td>\n",
              "    </tr>\n",
              "    <tr>\n",
              "      <th>279916</th>\n",
              "      <td>t_fffbe1d5d43c</td>\n",
              "      <td>c_6659207b25d5</td>\n",
              "    </tr>\n",
              "    <tr>\n",
              "      <th>279917</th>\n",
              "      <td>t_fffe14f1be1e</td>\n",
              "      <td>c_cece166bad6a</td>\n",
              "    </tr>\n",
              "    <tr>\n",
              "      <th>279918</th>\n",
              "      <td>t_fffe811a6da9</td>\n",
              "      <td>c_92b8fad372ee</td>\n",
              "    </tr>\n",
              "  </tbody>\n",
              "</table>\n",
              "<p>279919 rows × 2 columns</p>\n",
              "</div>\n",
              "      <button class=\"colab-df-convert\" onclick=\"convertToInteractive('df-3be93e6a-b199-4e10-b4b6-474ebec0d4e7')\"\n",
              "              title=\"Convert this dataframe to an interactive table.\"\n",
              "              style=\"display:none;\">\n",
              "        \n",
              "  <svg xmlns=\"http://www.w3.org/2000/svg\" height=\"24px\"viewBox=\"0 0 24 24\"\n",
              "       width=\"24px\">\n",
              "    <path d=\"M0 0h24v24H0V0z\" fill=\"none\"/>\n",
              "    <path d=\"M18.56 5.44l.94 2.06.94-2.06 2.06-.94-2.06-.94-.94-2.06-.94 2.06-2.06.94zm-11 1L8.5 8.5l.94-2.06 2.06-.94-2.06-.94L8.5 2.5l-.94 2.06-2.06.94zm10 10l.94 2.06.94-2.06 2.06-.94-2.06-.94-.94-2.06-.94 2.06-2.06.94z\"/><path d=\"M17.41 7.96l-1.37-1.37c-.4-.4-.92-.59-1.43-.59-.52 0-1.04.2-1.43.59L10.3 9.45l-7.72 7.72c-.78.78-.78 2.05 0 2.83L4 21.41c.39.39.9.59 1.41.59.51 0 1.02-.2 1.41-.59l7.78-7.78 2.81-2.81c.8-.78.8-2.07 0-2.86zM5.41 20L4 18.59l7.72-7.72 1.47 1.35L5.41 20z\"/>\n",
              "  </svg>\n",
              "      </button>\n",
              "      \n",
              "  <style>\n",
              "    .colab-df-container {\n",
              "      display:flex;\n",
              "      flex-wrap:wrap;\n",
              "      gap: 12px;\n",
              "    }\n",
              "\n",
              "    .colab-df-convert {\n",
              "      background-color: #E8F0FE;\n",
              "      border: none;\n",
              "      border-radius: 50%;\n",
              "      cursor: pointer;\n",
              "      display: none;\n",
              "      fill: #1967D2;\n",
              "      height: 32px;\n",
              "      padding: 0 0 0 0;\n",
              "      width: 32px;\n",
              "    }\n",
              "\n",
              "    .colab-df-convert:hover {\n",
              "      background-color: #E2EBFA;\n",
              "      box-shadow: 0px 1px 2px rgba(60, 64, 67, 0.3), 0px 1px 3px 1px rgba(60, 64, 67, 0.15);\n",
              "      fill: #174EA6;\n",
              "    }\n",
              "\n",
              "    [theme=dark] .colab-df-convert {\n",
              "      background-color: #3B4455;\n",
              "      fill: #D2E3FC;\n",
              "    }\n",
              "\n",
              "    [theme=dark] .colab-df-convert:hover {\n",
              "      background-color: #434B5C;\n",
              "      box-shadow: 0px 1px 3px 1px rgba(0, 0, 0, 0.15);\n",
              "      filter: drop-shadow(0px 1px 2px rgba(0, 0, 0, 0.3));\n",
              "      fill: #FFFFFF;\n",
              "    }\n",
              "  </style>\n",
              "\n",
              "      <script>\n",
              "        const buttonEl =\n",
              "          document.querySelector('#df-3be93e6a-b199-4e10-b4b6-474ebec0d4e7 button.colab-df-convert');\n",
              "        buttonEl.style.display =\n",
              "          google.colab.kernel.accessAllowed ? 'block' : 'none';\n",
              "\n",
              "        async function convertToInteractive(key) {\n",
              "          const element = document.querySelector('#df-3be93e6a-b199-4e10-b4b6-474ebec0d4e7');\n",
              "          const dataTable =\n",
              "            await google.colab.kernel.invokeFunction('convertToInteractive',\n",
              "                                                     [key], {});\n",
              "          if (!dataTable) return;\n",
              "\n",
              "          const docLinkHtml = 'Like what you see? Visit the ' +\n",
              "            '<a target=\"_blank\" href=https://colab.research.google.com/notebooks/data_table.ipynb>data table notebook</a>'\n",
              "            + ' to learn more about interactive tables.';\n",
              "          element.innerHTML = '';\n",
              "          dataTable['output_type'] = 'display_data';\n",
              "          await google.colab.output.renderOutput(dataTable, element);\n",
              "          const docLink = document.createElement('div');\n",
              "          docLink.innerHTML = docLinkHtml;\n",
              "          element.appendChild(docLink);\n",
              "        }\n",
              "      </script>\n",
              "    </div>\n",
              "  </div>\n",
              "  "
            ]
          },
          "metadata": {},
          "execution_count": 158
        }
      ],
      "source": [
        "# Restructure 'df_corr' (correlations): explode the target column to be more practical to use - one topic -> one content\n",
        "y = df_corr.copy()\n",
        "y['content_ids'] = y.content_ids.str.split(' ')\n",
        "y = y.explode('content_ids')\n",
        "y.reset_index(inplace=True)\n",
        "y"
      ],
      "id": "281bbca0"
    },
    {
      "cell_type": "markdown",
      "metadata": {
        "id": "UGfLE-eRwTyT"
      },
      "source": [
        "## Create breadcrumbs for topics"
      ],
      "id": "UGfLE-eRwTyT"
    },
    {
      "cell_type": "code",
      "execution_count": null,
      "metadata": {
        "id": "l3cLmldq0R7R",
        "scrolled": false
      },
      "outputs": [],
      "source": [
        "%%time\n",
        "# - Create breadcrumbs for topics and save in csv file\n",
        "#  these command lines were spending 1h20m without finishingt:\n",
        "#       df_X['topic_id'].apply (lambda topic: Topic(topic).get_breadcrumbs()))\n",
        "#       df_X['content_ids'].apply (lambda content: ContentItem(content).get_all_breadcrumbs())\n",
        "# with for loop + list append it took 5m for topic\n",
        "\n",
        "topic_breadcrumbs=[]\n",
        "topic_ids=[]\n",
        "for i, topic in enumerate(df_topics.reset_index()['id']):\n",
        "  topic_ids.append (topic)\n",
        "  topic_breadcrumbs.append (Topic(topic).get_breadcrumbs(separator=' '))\n",
        "  print (i, ' : ', topic, ' - ', topic_breadcrumbs[-1])\n",
        "\n",
        "# Save 'topic_breadcrumbs'\n",
        "df_topic_breadcrumbs = pd.DataFrame (topic_breadcrumbs, columns='breadcrumbs', index_col=topic_ids)\n",
        "df_topic_breadcrumbs.to_csv(f'{drive_path}topic_breadcrumbs.csv')"
      ],
      "id": "l3cLmldq0R7R"
    },
    {
      "cell_type": "markdown",
      "metadata": {
        "id": "CP4lmcnV20yH"
      },
      "source": [
        "## Data Cleaning"
      ],
      "id": "CP4lmcnV20yH"
    },
    {
      "cell_type": "markdown",
      "source": [
        "## Data cleaning params"
      ],
      "metadata": {
        "id": "rjw9Pdqqlzdp"
      },
      "id": "rjw9Pdqqlzdp"
    },
    {
      "cell_type": "code",
      "source": [
        "levels = {0: 'zero', 1: 'one', 2: 'two', 3: 'three', 4: 'four', 5: 'five', 6: 'six', 7: 'seven', 8: 'eight', 9: 'nine', 10: 'ten'}\n",
        "langs_t = pd.DataFrame (df_topics['language'].unique(), columns=['lang']) \n",
        "langs_c = pd.DataFrame (df_content['language'].unique(), columns=['lang']) \n",
        "langs = langs_t.merge (langs_c, how='left')\n",
        "# Output: ['bg', 'en', 'pt', 'gu', 'my', 'zh', 'ar', 'te', 'es', 'fr', 'sw', 'mr', 'hi', 'bn', 'fil', 'ru', 'it', 'or', 'pnb', 'km', 'as', 'kn','ur', 'pl', 'ta', 'swa', 'tr', 'mul']\n",
        "topic_cols = ['title', 'description', 'topic_breadcrumbs']\n",
        "content_cols = ['title', 'description', 'kind', 'text']"
      ],
      "metadata": {
        "id": "qpgsrMQyl10Y"
      },
      "id": "qpgsrMQyl10Y",
      "execution_count": null,
      "outputs": []
    },
    {
      "cell_type": "markdown",
      "source": [
        "## Data cleaning functions"
      ],
      "metadata": {
        "id": "Hwk6JtmRbn42"
      },
      "id": "Hwk6JtmRbn42"
    },
    {
      "cell_type": "code",
      "source": [
        "# Filter by language\n",
        "def filter_lang(X, lang):\n",
        "  \"\"\"\n",
        "  Filter dataframes by 'language'\n",
        "  \"\"\"\n",
        "  return X[X.language == lang].copy()\n",
        "\n",
        "\n",
        "# Clean up text\n",
        "def clean_text(text_col):\n",
        "  \"\"\"\n",
        "  Clean ponctuation and special chars from a dataframe column\n",
        "  \"\"\"\n",
        "  punctuations = string.punctuation\n",
        "  text_col = text_col.str.replace('\\W', ' ', regex=True)\n",
        "  for punct in string.punctuation:\n",
        "    text_col = text_col.str.replace(punct, ' ', regex=True)\n",
        "  return text_col"
      ],
      "metadata": {
        "id": "xRgKUBVjbstB"
      },
      "id": "xRgKUBVjbstB",
      "execution_count": null,
      "outputs": []
    },
    {
      "cell_type": "markdown",
      "source": [
        "## Topics\n",
        "\n",
        "\n",
        "*   Change 'level' into strings instead of numbers\n",
        "*   Filter by language (start with english then loop all the process for all languages, and save model between languages)\n",
        "*   Clean strings: ponctuation and special chars (\\n\\t...)\n",
        "\n"
      ],
      "metadata": {
        "id": "WmkMQLZHaDmd"
      },
      "id": "WmkMQLZHaDmd"
    },
    {
      "cell_type": "code",
      "execution_count": null,
      "metadata": {
        "scrolled": false,
        "id": "prh6uaPXlyMr"
      },
      "outputs": [],
      "source": [
        "topics_features = df_topics.copy()\n",
        "topics_features = topics_features.merge (df_topic_breadcrumbs, how='outer', right_index=True, left_index=True)\n",
        "topics_features = filter_lang (topics_features, langs.iloc[1, 0])\n",
        "for col in topic_cols:\n",
        "  topics_features[col] = clean_text(topics_features[col])\n",
        "display (topics_features.head())\n",
        "topics_sentences = topics_features[topic_cols].apply(lambda x: '.'.join(x.dropna().astype(str)), axis=1)"
      ],
      "id": "prh6uaPXlyMr"
    },
    {
      "cell_type": "markdown",
      "source": [
        "## Contents\n",
        "\n",
        "\n",
        "*   Remove 'copyright_holder'\n",
        "*   Filter by language (start with english then loop all the process for all languages, and save model between languages)\n",
        "*   Clean strings: ponctuation and special chars (\\n\\t...)\n",
        "\n"
      ],
      "metadata": {
        "id": "m-sO4fCibFIb"
      },
      "id": "m-sO4fCibFIb"
    },
    {
      "cell_type": "code",
      "execution_count": null,
      "metadata": {
        "id": "fa3508db",
        "scrolled": false
      },
      "outputs": [],
      "source": [
        "content_features = df_content.copy().drop(columns=['copyright_holder'])\n",
        "content_features = filter_lang (content_features, langs.iloc[1, 0])\n",
        "for col in content_cols:\n",
        "  content_features[col] = clean_text(content_features[col])\n",
        "display (content_features.head())\n",
        "content_sentences =  content_features[content_cols].apply(lambda x: '.'.join(x.dropna().astype(str)), axis=1)"
      ],
      "id": "fa3508db"
    },
    {
      "cell_type": "code",
      "source": [
        "content_sentences"
      ],
      "metadata": {
        "id": "Rhl2IG-gVOdA"
      },
      "id": "Rhl2IG-gVOdA",
      "execution_count": null,
      "outputs": []
    },
    {
      "cell_type": "markdown",
      "metadata": {
        "id": "0866f1f5"
      },
      "source": [
        "# Model"
      ],
      "id": "0866f1f5"
    },
    {
      "cell_type": "markdown",
      "source": [
        "## Model params"
      ],
      "metadata": {
        "id": "iI-1sqraZhLv"
      },
      "id": "iI-1sqraZhLv"
    },
    {
      "cell_type": "code",
      "source": [
        "backbone = 'all-MiniLM-L6-v2' #explore also msmarco models and multilanguage\n",
        "dataset_limit = 5"
      ],
      "metadata": {
        "id": "HJou8xoM4H2A"
      },
      "id": "HJou8xoM4H2A",
      "execution_count": null,
      "outputs": []
    },
    {
      "cell_type": "markdown",
      "metadata": {
        "id": "n-jW6d5FSDeU"
      },
      "source": [
        "## Sentence transformer function"
      ],
      "id": "n-jW6d5FSDeU"
    },
    {
      "cell_type": "code",
      "execution_count": null,
      "metadata": {
        "id": "eXuznVieakS8"
      },
      "outputs": [],
      "source": [
        "def SentenceTransf (backbone, df):\n",
        "  \"\"\"\n",
        "  From a dataframe of sentences, applies Sentence_Transformer and returns \n",
        "  embeddings along with dataframe index\n",
        "  \"\"\"\n",
        "  import datetime\n",
        "  start = datetime.datetime.now()\n",
        "  model = SentenceTransformer(backbone)\n",
        "  print ('=== SENTENCE-TRANSFORMER ==',backbone, '===')\n",
        "  embeds = []\n",
        "  # running model along all X rows\n",
        "  for i, sentence in enumerate(df[:dataset_limit]):\n",
        "    print ('Calculate embeddings for sentence ', i)\n",
        "    embedding = model.encode(sentence)\n",
        "    embeds.append(embedding)\n",
        "  end = datetime.datetime.now()\n",
        "  delta = (end - start).total_seconds()\n",
        "  print ('Embeddings total time:', delta, ' s')\n",
        "\n",
        "  return df.index, embeds"
      ],
      "id": "eXuznVieakS8"
    },
    {
      "cell_type": "markdown",
      "source": [
        "## Apply sentence transformer\n",
        "\n",
        "*   Apply to 'topics_sentences' and 'contents_sentences'\n",
        "*   Calculate 'similarity score'\n",
        "*   Merge 'topics_sentences' and 'contents_sentences' based on similarity score\n"
      ],
      "metadata": {
        "id": "VQMaAw6q9vWs"
      },
      "id": "VQMaAw6q9vWs"
    },
    {
      "cell_type": "code",
      "source": [
        "topics_index, topics_embeds = SentenceTransf (backbone, topics_sentences)\n",
        "contents_index, contents_embeds = SentenceTransf (backbone, content_sentences)\n",
        "list_tmp = [] \n",
        "contents_id = []\n",
        "similarity_score = []\n",
        "for i, embed in enumerate(topics_embeds):\n",
        "  cos_sim = util.cos_sim(embed, contents_embeds).cpu().detach().numpy()\n",
        "  df_tmp = pd.DataFrame([])\n",
        "  df_tmp = pd.DataFrame (zip (contents_index, cos_sim[0]), columns=['topic_id', 'score'])\n",
        "  df_tmp.sort_values (by='score', ascending = False, inplace=True)\n",
        "  print(f\"Topic {topics_index[i]} matches content: {df_tmp.iloc[0,0]} with similarity score: {df_tmp.iloc[0,1]}\")\n",
        "  print(f\"Topic {topics_index[i]} matches content: {df_tmp.iloc[1,0]} with similarity score: {df_tmp.iloc[1,1]}\")\n",
        "  list_tmp.append (dict(topics_index[i], df_tmp.iloc[0,0], df_tmp.iloc[0,1]))\n",
        "display (list_tmp)\n",
        "y_tmp = pd.DataFrame(list_tmp)\n",
        "y_tmp\n"
      ],
      "metadata": {
        "colab": {
          "base_uri": "https://localhost:8080/",
          "height": 513
        },
        "id": "5wX18PvT_g9f",
        "outputId": "fe4f0344-0b0b-4ba4-ae61-319cae83b00a"
      },
      "id": "5wX18PvT_g9f",
      "execution_count": null,
      "outputs": [
        {
          "output_type": "stream",
          "name": "stdout",
          "text": [
            "=== SENTENCE-TRANSFORMER == all-MiniLM-L6-v2 ===\n",
            "Calculate embeddings for sentence  0\n",
            "Calculate embeddings for sentence  1\n",
            "Calculate embeddings for sentence  2\n",
            "Calculate embeddings for sentence  3\n",
            "Calculate embeddings for sentence  4\n",
            "Embeddings total time: 0.428873  s\n",
            "=== SENTENCE-TRANSFORMER == all-MiniLM-L6-v2 ===\n",
            "Calculate embeddings for sentence  0\n",
            "Calculate embeddings for sentence  1\n",
            "Calculate embeddings for sentence  2\n",
            "Calculate embeddings for sentence  3\n",
            "Calculate embeddings for sentence  4\n",
            "Embeddings total time: 0.986313  s\n",
            "Topic t_000095e03056 matches content: c_00046806ad8a with similarity score: 0.15721750259399414\n",
            "Topic t_000095e03056 matches content: c_00027d03ca7d with similarity score: 0.10435076802968979\n"
          ]
        },
        {
          "output_type": "error",
          "ename": "TypeError",
          "evalue": "ignored",
          "traceback": [
            "\u001b[0;31m---------------------------------------------------------------------------\u001b[0m",
            "\u001b[0;31mTypeError\u001b[0m                                 Traceback (most recent call last)",
            "\u001b[0;32m<ipython-input-173-90e089e4ea69>\u001b[0m in \u001b[0;36m<module>\u001b[0;34m\u001b[0m\n\u001b[1;32m     11\u001b[0m   \u001b[0mprint\u001b[0m\u001b[0;34m(\u001b[0m\u001b[0;34mf\"Topic {topics_index[i]} matches content: {df_tmp.iloc[0,0]} with similarity score: {df_tmp.iloc[0,1]}\"\u001b[0m\u001b[0;34m)\u001b[0m\u001b[0;34m\u001b[0m\u001b[0;34m\u001b[0m\u001b[0m\n\u001b[1;32m     12\u001b[0m   \u001b[0mprint\u001b[0m\u001b[0;34m(\u001b[0m\u001b[0;34mf\"Topic {topics_index[i]} matches content: {df_tmp.iloc[1,0]} with similarity score: {df_tmp.iloc[1,1]}\"\u001b[0m\u001b[0;34m)\u001b[0m\u001b[0;34m\u001b[0m\u001b[0;34m\u001b[0m\u001b[0m\n\u001b[0;32m---> 13\u001b[0;31m   \u001b[0mlist_tmp\u001b[0m\u001b[0;34m.\u001b[0m\u001b[0mappend\u001b[0m \u001b[0;34m(\u001b[0m\u001b[0mdict\u001b[0m\u001b[0;34m(\u001b[0m\u001b[0mtopics_index\u001b[0m\u001b[0;34m[\u001b[0m\u001b[0mi\u001b[0m\u001b[0;34m]\u001b[0m\u001b[0;34m,\u001b[0m \u001b[0mdf_tmp\u001b[0m\u001b[0;34m.\u001b[0m\u001b[0miloc\u001b[0m\u001b[0;34m[\u001b[0m\u001b[0;36m0\u001b[0m\u001b[0;34m,\u001b[0m\u001b[0;36m0\u001b[0m\u001b[0;34m]\u001b[0m\u001b[0;34m,\u001b[0m \u001b[0mdf_tmp\u001b[0m\u001b[0;34m.\u001b[0m\u001b[0miloc\u001b[0m\u001b[0;34m[\u001b[0m\u001b[0;36m0\u001b[0m\u001b[0;34m,\u001b[0m\u001b[0;36m1\u001b[0m\u001b[0;34m]\u001b[0m\u001b[0;34m)\u001b[0m\u001b[0;34m)\u001b[0m\u001b[0;34m\u001b[0m\u001b[0;34m\u001b[0m\u001b[0m\n\u001b[0m\u001b[1;32m     14\u001b[0m \u001b[0mdisplay\u001b[0m \u001b[0;34m(\u001b[0m\u001b[0mlist_tmp\u001b[0m\u001b[0;34m)\u001b[0m\u001b[0;34m\u001b[0m\u001b[0;34m\u001b[0m\u001b[0m\n\u001b[1;32m     15\u001b[0m \u001b[0my_tmp\u001b[0m \u001b[0;34m=\u001b[0m \u001b[0mpd\u001b[0m\u001b[0;34m.\u001b[0m\u001b[0mDataFrame\u001b[0m\u001b[0;34m(\u001b[0m\u001b[0mlist_tmp\u001b[0m\u001b[0;34m)\u001b[0m\u001b[0;34m\u001b[0m\u001b[0;34m\u001b[0m\u001b[0m\n",
            "\u001b[0;31mTypeError\u001b[0m: dict expected at most 1 argument, got 3"
          ]
        }
      ]
    },
    {
      "cell_type": "markdown",
      "metadata": {
        "id": "d38b43db"
      },
      "source": [
        "## Get X and y"
      ],
      "id": "d38b43db"
    },
    {
      "cell_type": "code",
      "execution_count": null,
      "metadata": {
        "id": "9OVRHCOUUJL7"
      },
      "outputs": [],
      "source": [
        "cat_for_val = 'aligned'\n",
        "X_val_all = df_X[(df_X.category == cat_for_val) & (df_X.has_content == True)].copy()\n",
        "y_val_all = df_X[(df_X.category == cat_for_val) & (df_X.has_content == True)].copy().loc[:, ('topic_id', 'content_ids')]\n",
        "X_train_all = df_X[df_X.category != cat_for_val].copy()\n",
        "y_train_all = df_X[df_X.category != cat_for_val].copy().loc[:, ('topic_id', 'content_ids')]"
      ],
      "id": "9OVRHCOUUJL7"
    },
    {
      "cell_type": "code",
      "source": [
        "# - Using category 'aligned' for validation and only topics with content\n",
        "# - For X_topics, using columns ['topic_id', 'content_ids', 'title_topic', 'description_topic', 'channel', 'category', 'level', 'parent', 'has_content','topic_breadcrumbs']\n",
        "# X_topics = Dropping columns ['topic_id', 'content_ids', 'title_content', 'description_content', 'kind', 'text_content', 'license'] from df_X\n",
        "#\n",
        "# - For X_contents, using columns ['topic_id', 'content_ids', 'title_content', 'description_content', 'kind', 'text_content', 'license']\n",
        "# X_contents = Dropping columns ['topic_id', 'content_ids', 'title_topic', 'description_topic', 'channel', 'category', 'level', 'parent', 'has_content','topic_breadcrumbs'] from df_X\n",
        "X_val_topics = X_val_all.drop(columns = ['topic_id', 'content_ids', 'title_content', 'description_content', 'kind', 'text_content', 'license'])\n",
        "X_train_topics = X_train_all.drop(columns = ['topic_id', 'content_ids', 'title_content', 'description_content', 'kind', 'text_content', 'license'])\n",
        "\n",
        "X_val_content = X_val_all.drop(columns = ['topic_id', 'content_ids', 'title_topic', 'description_topic', 'channel', 'category', 'level', 'parent', 'has_content','topic_breadcrumbs'])\n",
        "X_train_content = X_train_all.drop(columns = ['topic_id', 'content_ids', 'title_topic', 'description_topic', 'channel', 'category', 'level', 'parent', 'has_content','topic_breadcrumbs'])"
      ],
      "metadata": {
        "id": "QYPobORwvQVh"
      },
      "id": "QYPobORwvQVh",
      "execution_count": null,
      "outputs": []
    },
    {
      "cell_type": "code",
      "execution_count": null,
      "metadata": {
        "id": "4319e1d9",
        "scrolled": false,
        "colab": {
          "base_uri": "https://localhost:8080/",
          "height": 632
        },
        "outputId": "347c1855-1490-4267-c635-4b4aee8ced73"
      },
      "outputs": [
        {
          "output_type": "stream",
          "name": "stdout",
          "text": [
            "=== SENTENCE-TRANSFORMER == all-MiniLM-L6-v2 ===\n",
            "Transforming row  0\n",
            "Transforming row  1\n",
            "Transforming row  2\n",
            "Transforming row  3\n",
            "Transforming row  4\n",
            "Time to preprocess X_train 1.0213096141815186\n"
          ]
        },
        {
          "output_type": "execute_result",
          "data": {
            "text/plain": [
              "                                                   0  \\\n",
              "0  [-0.06976322, 0.02155305, -0.055510722, -0.030...   \n",
              "1  [-0.008430471, 0.059289858, -0.0068703187, -0....   \n",
              "2  [-0.008430471, 0.059289858, -0.0068703187, -0....   \n",
              "3  [0.02941689, 0.060091794, -0.00026553357, -0.0...   \n",
              "4  [0.005997027, 0.025607703, -0.008715419, -0.06...   \n",
              "\n",
              "                                                   1  \\\n",
              "0  [-0.11883834, 0.04829865, -0.0025481011, -0.01...   \n",
              "1  [-0.11883834, 0.04829865, -0.0025481011, -0.01...   \n",
              "2  [-0.11883834, 0.04829865, -0.0025481011, -0.01...   \n",
              "3  [-0.11883834, 0.04829865, -0.0025481011, -0.01...   \n",
              "4  [-0.11883834, 0.04829865, -0.0025481011, -0.01...   \n",
              "\n",
              "                                                   2  \\\n",
              "0  [-0.05365038, -0.017775202, -0.06904105, -0.01...   \n",
              "1  [-0.07810093, 0.0113532655, -0.04234103, -0.01...   \n",
              "2  [-0.07810093, 0.0113532655, -0.04234103, -0.01...   \n",
              "3  [-0.060675383, -0.042284127, -0.07454348, 0.02...   \n",
              "4  [-0.060675383, -0.042284127, -0.07454348, 0.02...   \n",
              "\n",
              "                                                   3  \\\n",
              "0  [0.027087495, 0.037186757, 0.004761678, 0.0243...   \n",
              "1  [-0.058500007, -0.02762344, -0.032580882, 0.02...   \n",
              "2  [-0.058500007, -0.02762344, -0.032580882, 0.02...   \n",
              "3  [0.027087495, 0.037186757, 0.004761678, 0.0243...   \n",
              "4  [0.027087495, 0.037186757, 0.004761678, 0.0243...   \n",
              "\n",
              "                                                   4  \\\n",
              "0  [0.04360136, -0.008855685, -0.102738105, -0.01...   \n",
              "1  [-0.010091712, 0.020252606, 0.0098109115, 0.01...   \n",
              "2  [-0.010091712, 0.020252606, 0.0098109115, 0.01...   \n",
              "3  [0.018897688, 0.013223383, -0.08231031, 0.0274...   \n",
              "4  [0.018897688, 0.013223383, -0.08231031, 0.0274...   \n",
              "\n",
              "                                                   5  \\\n",
              "0  [-0.037534688, -0.0034662618, -0.043352548, -0...   \n",
              "1  [-0.06953352, 0.030418746, -0.059676144, -0.06...   \n",
              "2  [-0.06953352, 0.030418746, -0.059676144, -0.06...   \n",
              "3  [-0.09829158, 0.039294507, -0.04985952, -0.049...   \n",
              "4  [-0.06703734, 0.03091835, -0.042463597, -0.055...   \n",
              "\n",
              "                                                   6  \\\n",
              "0  [0.07581233, 0.026906624, -0.0056490395, -0.05...   \n",
              "1  [0.07581233, 0.026906624, -0.0056490395, -0.05...   \n",
              "2  [0.07581233, 0.026906624, -0.0056490395, -0.05...   \n",
              "3  [0.07581233, 0.026906624, -0.0056490395, -0.05...   \n",
              "4  [0.07581233, 0.026906624, -0.0056490395, -0.05...   \n",
              "\n",
              "                                                   7  \n",
              "0  [-0.0072098854, 0.00516788, 0.0687713, -0.0511...  \n",
              "1  [0.040176038, 0.021153286, 0.008287823, -0.021...  \n",
              "2  [0.040176038, 0.021153286, 0.008287823, -0.021...  \n",
              "3  [0.037725728, 0.064541526, -0.01960373, -0.055...  \n",
              "4  [-0.023256205, 0.0508107, -0.011230599, -0.059...  "
            ],
            "text/html": [
              "\n",
              "  <div id=\"df-636ef81f-2c54-43af-96f7-5c99cfe3fec2\">\n",
              "    <div class=\"colab-df-container\">\n",
              "      <div>\n",
              "<style scoped>\n",
              "    .dataframe tbody tr th:only-of-type {\n",
              "        vertical-align: middle;\n",
              "    }\n",
              "\n",
              "    .dataframe tbody tr th {\n",
              "        vertical-align: top;\n",
              "    }\n",
              "\n",
              "    .dataframe thead th {\n",
              "        text-align: right;\n",
              "    }\n",
              "</style>\n",
              "<table border=\"1\" class=\"dataframe\">\n",
              "  <thead>\n",
              "    <tr style=\"text-align: right;\">\n",
              "      <th></th>\n",
              "      <th>0</th>\n",
              "      <th>1</th>\n",
              "      <th>2</th>\n",
              "      <th>3</th>\n",
              "      <th>4</th>\n",
              "      <th>5</th>\n",
              "      <th>6</th>\n",
              "      <th>7</th>\n",
              "    </tr>\n",
              "  </thead>\n",
              "  <tbody>\n",
              "    <tr>\n",
              "      <th>0</th>\n",
              "      <td>[-0.06976322, 0.02155305, -0.055510722, -0.030...</td>\n",
              "      <td>[-0.11883834, 0.04829865, -0.0025481011, -0.01...</td>\n",
              "      <td>[-0.05365038, -0.017775202, -0.06904105, -0.01...</td>\n",
              "      <td>[0.027087495, 0.037186757, 0.004761678, 0.0243...</td>\n",
              "      <td>[0.04360136, -0.008855685, -0.102738105, -0.01...</td>\n",
              "      <td>[-0.037534688, -0.0034662618, -0.043352548, -0...</td>\n",
              "      <td>[0.07581233, 0.026906624, -0.0056490395, -0.05...</td>\n",
              "      <td>[-0.0072098854, 0.00516788, 0.0687713, -0.0511...</td>\n",
              "    </tr>\n",
              "    <tr>\n",
              "      <th>1</th>\n",
              "      <td>[-0.008430471, 0.059289858, -0.0068703187, -0....</td>\n",
              "      <td>[-0.11883834, 0.04829865, -0.0025481011, -0.01...</td>\n",
              "      <td>[-0.07810093, 0.0113532655, -0.04234103, -0.01...</td>\n",
              "      <td>[-0.058500007, -0.02762344, -0.032580882, 0.02...</td>\n",
              "      <td>[-0.010091712, 0.020252606, 0.0098109115, 0.01...</td>\n",
              "      <td>[-0.06953352, 0.030418746, -0.059676144, -0.06...</td>\n",
              "      <td>[0.07581233, 0.026906624, -0.0056490395, -0.05...</td>\n",
              "      <td>[0.040176038, 0.021153286, 0.008287823, -0.021...</td>\n",
              "    </tr>\n",
              "    <tr>\n",
              "      <th>2</th>\n",
              "      <td>[-0.008430471, 0.059289858, -0.0068703187, -0....</td>\n",
              "      <td>[-0.11883834, 0.04829865, -0.0025481011, -0.01...</td>\n",
              "      <td>[-0.07810093, 0.0113532655, -0.04234103, -0.01...</td>\n",
              "      <td>[-0.058500007, -0.02762344, -0.032580882, 0.02...</td>\n",
              "      <td>[-0.010091712, 0.020252606, 0.0098109115, 0.01...</td>\n",
              "      <td>[-0.06953352, 0.030418746, -0.059676144, -0.06...</td>\n",
              "      <td>[0.07581233, 0.026906624, -0.0056490395, -0.05...</td>\n",
              "      <td>[0.040176038, 0.021153286, 0.008287823, -0.021...</td>\n",
              "    </tr>\n",
              "    <tr>\n",
              "      <th>3</th>\n",
              "      <td>[0.02941689, 0.060091794, -0.00026553357, -0.0...</td>\n",
              "      <td>[-0.11883834, 0.04829865, -0.0025481011, -0.01...</td>\n",
              "      <td>[-0.060675383, -0.042284127, -0.07454348, 0.02...</td>\n",
              "      <td>[0.027087495, 0.037186757, 0.004761678, 0.0243...</td>\n",
              "      <td>[0.018897688, 0.013223383, -0.08231031, 0.0274...</td>\n",
              "      <td>[-0.09829158, 0.039294507, -0.04985952, -0.049...</td>\n",
              "      <td>[0.07581233, 0.026906624, -0.0056490395, -0.05...</td>\n",
              "      <td>[0.037725728, 0.064541526, -0.01960373, -0.055...</td>\n",
              "    </tr>\n",
              "    <tr>\n",
              "      <th>4</th>\n",
              "      <td>[0.005997027, 0.025607703, -0.008715419, -0.06...</td>\n",
              "      <td>[-0.11883834, 0.04829865, -0.0025481011, -0.01...</td>\n",
              "      <td>[-0.060675383, -0.042284127, -0.07454348, 0.02...</td>\n",
              "      <td>[0.027087495, 0.037186757, 0.004761678, 0.0243...</td>\n",
              "      <td>[0.018897688, 0.013223383, -0.08231031, 0.0274...</td>\n",
              "      <td>[-0.06703734, 0.03091835, -0.042463597, -0.055...</td>\n",
              "      <td>[0.07581233, 0.026906624, -0.0056490395, -0.05...</td>\n",
              "      <td>[-0.023256205, 0.0508107, -0.011230599, -0.059...</td>\n",
              "    </tr>\n",
              "  </tbody>\n",
              "</table>\n",
              "</div>\n",
              "      <button class=\"colab-df-convert\" onclick=\"convertToInteractive('df-636ef81f-2c54-43af-96f7-5c99cfe3fec2')\"\n",
              "              title=\"Convert this dataframe to an interactive table.\"\n",
              "              style=\"display:none;\">\n",
              "        \n",
              "  <svg xmlns=\"http://www.w3.org/2000/svg\" height=\"24px\"viewBox=\"0 0 24 24\"\n",
              "       width=\"24px\">\n",
              "    <path d=\"M0 0h24v24H0V0z\" fill=\"none\"/>\n",
              "    <path d=\"M18.56 5.44l.94 2.06.94-2.06 2.06-.94-2.06-.94-.94-2.06-.94 2.06-2.06.94zm-11 1L8.5 8.5l.94-2.06 2.06-.94-2.06-.94L8.5 2.5l-.94 2.06-2.06.94zm10 10l.94 2.06.94-2.06 2.06-.94-2.06-.94-.94-2.06-.94 2.06-2.06.94z\"/><path d=\"M17.41 7.96l-1.37-1.37c-.4-.4-.92-.59-1.43-.59-.52 0-1.04.2-1.43.59L10.3 9.45l-7.72 7.72c-.78.78-.78 2.05 0 2.83L4 21.41c.39.39.9.59 1.41.59.51 0 1.02-.2 1.41-.59l7.78-7.78 2.81-2.81c.8-.78.8-2.07 0-2.86zM5.41 20L4 18.59l7.72-7.72 1.47 1.35L5.41 20z\"/>\n",
              "  </svg>\n",
              "      </button>\n",
              "      \n",
              "  <style>\n",
              "    .colab-df-container {\n",
              "      display:flex;\n",
              "      flex-wrap:wrap;\n",
              "      gap: 12px;\n",
              "    }\n",
              "\n",
              "    .colab-df-convert {\n",
              "      background-color: #E8F0FE;\n",
              "      border: none;\n",
              "      border-radius: 50%;\n",
              "      cursor: pointer;\n",
              "      display: none;\n",
              "      fill: #1967D2;\n",
              "      height: 32px;\n",
              "      padding: 0 0 0 0;\n",
              "      width: 32px;\n",
              "    }\n",
              "\n",
              "    .colab-df-convert:hover {\n",
              "      background-color: #E2EBFA;\n",
              "      box-shadow: 0px 1px 2px rgba(60, 64, 67, 0.3), 0px 1px 3px 1px rgba(60, 64, 67, 0.15);\n",
              "      fill: #174EA6;\n",
              "    }\n",
              "\n",
              "    [theme=dark] .colab-df-convert {\n",
              "      background-color: #3B4455;\n",
              "      fill: #D2E3FC;\n",
              "    }\n",
              "\n",
              "    [theme=dark] .colab-df-convert:hover {\n",
              "      background-color: #434B5C;\n",
              "      box-shadow: 0px 1px 3px 1px rgba(0, 0, 0, 0.15);\n",
              "      filter: drop-shadow(0px 1px 2px rgba(0, 0, 0, 0.3));\n",
              "      fill: #FFFFFF;\n",
              "    }\n",
              "  </style>\n",
              "\n",
              "      <script>\n",
              "        const buttonEl =\n",
              "          document.querySelector('#df-636ef81f-2c54-43af-96f7-5c99cfe3fec2 button.colab-df-convert');\n",
              "        buttonEl.style.display =\n",
              "          google.colab.kernel.accessAllowed ? 'block' : 'none';\n",
              "\n",
              "        async function convertToInteractive(key) {\n",
              "          const element = document.querySelector('#df-636ef81f-2c54-43af-96f7-5c99cfe3fec2');\n",
              "          const dataTable =\n",
              "            await google.colab.kernel.invokeFunction('convertToInteractive',\n",
              "                                                     [key], {});\n",
              "          if (!dataTable) return;\n",
              "\n",
              "          const docLinkHtml = 'Like what you see? Visit the ' +\n",
              "            '<a target=\"_blank\" href=https://colab.research.google.com/notebooks/data_table.ipynb>data table notebook</a>'\n",
              "            + ' to learn more about interactive tables.';\n",
              "          element.innerHTML = '';\n",
              "          dataTable['output_type'] = 'display_data';\n",
              "          await google.colab.output.renderOutput(dataTable, element);\n",
              "          const docLink = document.createElement('div');\n",
              "          docLink.innerHTML = docLinkHtml;\n",
              "          element.appendChild(docLink);\n",
              "        }\n",
              "      </script>\n",
              "    </div>\n",
              "  </div>\n",
              "  "
            ]
          },
          "metadata": {},
          "execution_count": 26
        }
      ],
      "source": [
        "\n",
        "X_train_topics, time_train = SentenceTransf (backbone, X_train_topics[:limit])\n",
        "print ('Time to preprocess X_train', time_train)\n",
        "X_train_topics"
      ],
      "id": "4319e1d9"
    },
    {
      "cell_type": "code",
      "source": [
        "print (X_val.info())\n",
        "print (X_train.shape)\n",
        "print (y_val.shape)\n",
        "print (y_train.shape)\n",
        "X_val[0]"
      ],
      "metadata": {
        "colab": {
          "base_uri": "https://localhost:8080/"
        },
        "id": "25IVArWAwrPe",
        "outputId": "d023aa9d-acb7-4717-fbb6-e9e2b340832d"
      },
      "id": "25IVArWAwrPe",
      "execution_count": null,
      "outputs": [
        {
          "output_type": "stream",
          "name": "stdout",
          "text": [
            "<class 'pandas.core.frame.DataFrame'>\n",
            "RangeIndex: 5 entries, 0 to 4\n",
            "Data columns (total 13 columns):\n",
            " #   Column  Non-Null Count  Dtype \n",
            "---  ------  --------------  ----- \n",
            " 0   0       5 non-null      object\n",
            " 1   1       5 non-null      object\n",
            " 2   2       5 non-null      object\n",
            " 3   3       5 non-null      object\n",
            " 4   4       5 non-null      object\n",
            " 5   5       5 non-null      object\n",
            " 6   6       5 non-null      object\n",
            " 7   7       5 non-null      object\n",
            " 8   8       5 non-null      object\n",
            " 9   9       5 non-null      object\n",
            " 10  10      5 non-null      object\n",
            " 11  11      5 non-null      object\n",
            " 12  12      5 non-null      object\n",
            "dtypes: object(13)\n",
            "memory usage: 648.0+ bytes\n",
            "None\n",
            "(5, 13)\n",
            "(5, 2)\n",
            "(5, 2)\n"
          ]
        },
        {
          "output_type": "execute_result",
          "data": {
            "text/plain": [
              "0    [0.004427435, 0.026911903, 0.049479138, 0.0162...\n",
              "1    [0.004427435, 0.026911903, 0.049479138, 0.0162...\n",
              "2    [0.004427435, 0.026911903, 0.049479138, 0.0162...\n",
              "3    [0.004427435, 0.026911903, 0.049479138, 0.0162...\n",
              "4    [0.004427435, 0.026911903, 0.049479138, 0.0162...\n",
              "Name: 0, dtype: object"
            ]
          },
          "metadata": {},
          "execution_count": 57
        }
      ]
    },
    {
      "cell_type": "markdown",
      "metadata": {
        "id": "mWXqw0LbeCf6"
      },
      "source": [
        "## Scoring"
      ],
      "id": "mWXqw0LbeCf6"
    },
    {
      "cell_type": "markdown",
      "metadata": {
        "id": "OMBAgjrteEIu"
      },
      "source": [
        "Scoring is based in mean F2 score"
      ],
      "id": "OMBAgjrteEIu"
    },
    {
      "cell_type": "code",
      "execution_count": null,
      "metadata": {
        "id": "7cd4d95d"
      },
      "outputs": [],
      "source": [
        "def model_scoring (y_test, y_pred, average='weighted'):\n",
        "  \"\"\"\n",
        "   Calculate precision, recall and f2-score for y_test and y_pred\n",
        "  \"\"\"\n",
        "  Precision = []\n",
        "  Precision.append (precision_score(y_test['topic_id'], y_pred[:,0], average=average))\n",
        "  Precision.append (precision_score(y_test['content_ids'], y_pred[:,1], average=average))\n",
        "  precision_mean = np.mean(Precision)\n",
        "  print ('Precision:', precision_mean)\n",
        "  Recall = []\n",
        "  Recall.append (recall_score(y_test['topic_id'], y_pred[:,0], average=average))\n",
        "  Recall.append (recall_score(y_test['content_ids'], y_pred[:,1], average=average))\n",
        "  recall_mean = np.mean(Recall)\n",
        "  print ('Recall:', recall_mean)\n",
        "  F2macro = []\n",
        "  F2macro.append (fbeta_score(y_test['topic_id'], y_pred[:,0], beta=2, average='macro'))\n",
        "  F2macro.append (fbeta_score(y_test['content_ids'], y_pred[:,1], beta=2, average='macro'))\n",
        "  F2macro_mean = np.mean(F2macro)\n",
        "  print ('F2 macro:', F2macro_mean)\n",
        "  F2micro = []\n",
        "  F2micro.append (fbeta_score(y_test['topic_id'], y_pred[:,0], beta=2, average='micro'))\n",
        "  F2micro.append (fbeta_score(y_test['content_ids'], y_pred[:,1], beta=2, average='micro'))\n",
        "  F2micro_mean = np.mean(F2micro)\n",
        "  print ('F2 micro:', F2micro_mean)\n",
        "  return precision_mean, recall_mean, F2macro_mean, F2micro_mean"
      ],
      "id": "7cd4d95d"
    },
    {
      "cell_type": "markdown",
      "metadata": {
        "id": "38c995e2"
      },
      "source": [
        "## Baseline Score"
      ],
      "id": "38c995e2"
    },
    {
      "cell_type": "code",
      "execution_count": null,
      "metadata": {
        "colab": {
          "base_uri": "https://localhost:8080/"
        },
        "id": "81ddfac7",
        "outputId": "a94a30fc-6adb-4aed-9cf8-dc8c7bc4deb4"
      },
      "outputs": [
        {
          "output_type": "stream",
          "name": "stdout",
          "text": [
            "CPU times: user 11.5 ms, sys: 894 µs, total: 12.4 ms\n",
            "Wall time: 46.7 ms\n"
          ]
        },
        {
          "output_type": "stream",
          "name": "stderr",
          "text": [
            "/usr/local/lib/python3.8/dist-packages/sklearn/utils/deprecation.py:103: FutureWarning: `n_features_in_` is deprecated in 1.0 and will be removed in 1.2.\n",
            "  warnings.warn(msg, category=FutureWarning)\n"
          ]
        },
        {
          "output_type": "execute_result",
          "data": {
            "text/plain": [
              "MultiOutputClassifier(estimator=DummyClassifier(strategy='stratified'),\n",
              "                      n_jobs=-1)"
            ]
          },
          "metadata": {},
          "execution_count": 46
        }
      ],
      "source": [
        "%%time\n",
        "dummy = DummyClassifier (strategy = 'stratified')\n",
        "multi_target_dummy = MultiOutputClassifier(dummy, n_jobs=-1)\n",
        "multi_target_dummy.fit(X_train, y_train)"
      ],
      "id": "81ddfac7"
    },
    {
      "cell_type": "code",
      "execution_count": null,
      "metadata": {
        "colab": {
          "base_uri": "https://localhost:8080/"
        },
        "id": "72ed0a27",
        "outputId": "b2e023ee-35b4-4eb1-a834-5ba54bf5ce9a"
      },
      "outputs": [
        {
          "output_type": "stream",
          "name": "stdout",
          "text": [
            "CPU times: user 8.24 ms, sys: 0 ns, total: 8.24 ms\n",
            "Wall time: 15.4 ms\n"
          ]
        },
        {
          "output_type": "execute_result",
          "data": {
            "text/plain": [
              "(5, 2)"
            ]
          },
          "metadata": {},
          "execution_count": 47
        }
      ],
      "source": [
        "%%time\n",
        "y_pred = multi_target_dummy.predict (X_val)\n",
        "y_pred.shape"
      ],
      "id": "72ed0a27"
    },
    {
      "cell_type": "code",
      "execution_count": null,
      "metadata": {
        "id": "OcriNr1-eNq8",
        "colab": {
          "base_uri": "https://localhost:8080/"
        },
        "outputId": "e6d91fde-6d30-42bc-ed38-324be91611ce"
      },
      "outputs": [
        {
          "output_type": "stream",
          "name": "stdout",
          "text": [
            "Precision: 0.03333333333333333\n",
            "Recall: 0.1\n",
            "F2 macro: 0.08928571428571429\n",
            "F2 micro: 0.1\n"
          ]
        },
        {
          "output_type": "stream",
          "name": "stderr",
          "text": [
            "/usr/local/lib/python3.8/dist-packages/sklearn/metrics/_classification.py:1318: UndefinedMetricWarning: Precision is ill-defined and being set to 0.0 in labels with no predicted samples. Use `zero_division` parameter to control this behavior.\n",
            "  _warn_prf(average, modifier, msg_start, len(result))\n",
            "/usr/local/lib/python3.8/dist-packages/sklearn/metrics/_classification.py:1318: UndefinedMetricWarning: Precision is ill-defined and being set to 0.0 in labels with no predicted samples. Use `zero_division` parameter to control this behavior.\n",
            "  _warn_prf(average, modifier, msg_start, len(result))\n"
          ]
        },
        {
          "output_type": "execute_result",
          "data": {
            "text/plain": [
              "(0.03333333333333333, 0.1, 0.08928571428571429, 0.1)"
            ]
          },
          "metadata": {},
          "execution_count": 48
        }
      ],
      "source": [
        "model_scoring (y_train, y_pred)"
      ],
      "id": "OcriNr1-eNq8"
    },
    {
      "cell_type": "markdown",
      "metadata": {
        "id": "2wh9G7F8csoa"
      },
      "source": [
        "## GradientBoosting"
      ],
      "id": "2wh9G7F8csoa"
    },
    {
      "cell_type": "code",
      "source": [
        "%%time\n",
        "from sklearn.ensemble import GradientBoostingRegressor\n",
        "\n",
        "model = GradientBoostingRegressor(\n",
        "    n_estimators=10, \n",
        "    learning_rate=0.1,\n",
        "    max_depth=3\n",
        ")\n",
        "multi_target_GB = MultiOutputClassifier(model, n_jobs=-1)\n",
        "multi_target_GB.fit(X_train, y_train)"
      ],
      "metadata": {
        "colab": {
          "base_uri": "https://localhost:8080/",
          "height": 1000
        },
        "id": "MB9gDs1ne-Kg",
        "outputId": "95564a81-5cf1-47af-a66c-4859c7554803"
      },
      "id": "MB9gDs1ne-Kg",
      "execution_count": null,
      "outputs": [
        {
          "output_type": "error",
          "ename": "ValueError",
          "evalue": "ignored",
          "traceback": [
            "\u001b[0;31m---------------------------------------------------------------------------\u001b[0m",
            "\u001b[0;31m_RemoteTraceback\u001b[0m                          Traceback (most recent call last)",
            "\u001b[0;31m_RemoteTraceback\u001b[0m: \n\"\"\"\nTypeError: only size-1 arrays can be converted to Python scalars\n\nThe above exception was the direct cause of the following exception:\n\nTraceback (most recent call last):\n  File \"/usr/local/lib/python3.8/dist-packages/joblib/externals/loky/process_executor.py\", line 428, in _process_worker\n    r = call_item()\n  File \"/usr/local/lib/python3.8/dist-packages/joblib/externals/loky/process_executor.py\", line 275, in __call__\n    return self.fn(*self.args, **self.kwargs)\n  File \"/usr/local/lib/python3.8/dist-packages/joblib/_parallel_backends.py\", line 620, in __call__\n    return self.func(*args, **kwargs)\n  File \"/usr/local/lib/python3.8/dist-packages/joblib/parallel.py\", line 288, in __call__\n    return [func(*args, **kwargs)\n  File \"/usr/local/lib/python3.8/dist-packages/joblib/parallel.py\", line 288, in <listcomp>\n    return [func(*args, **kwargs)\n  File \"/usr/local/lib/python3.8/dist-packages/sklearn/utils/fixes.py\", line 216, in __call__\n    return self.function(*args, **kwargs)\n  File \"/usr/local/lib/python3.8/dist-packages/sklearn/multioutput.py\", line 44, in _fit_estimator\n    estimator.fit(X, y, **fit_params)\n  File \"/usr/local/lib/python3.8/dist-packages/sklearn/ensemble/_gb.py\", line 486, in fit\n    X, y = self._validate_data(\n  File \"/usr/local/lib/python3.8/dist-packages/sklearn/base.py\", line 581, in _validate_data\n    X, y = check_X_y(X, y, **check_params)\n  File \"/usr/local/lib/python3.8/dist-packages/sklearn/utils/validation.py\", line 964, in check_X_y\n    X = check_array(\n  File \"/usr/local/lib/python3.8/dist-packages/sklearn/utils/validation.py\", line 746, in check_array\n    array = np.asarray(array, order=order, dtype=dtype)\n  File \"/usr/local/lib/python3.8/dist-packages/pandas/core/generic.py\", line 1993, in __array__\n    return np.asarray(self._values, dtype=dtype)\nValueError: setting an array element with a sequence.\n\"\"\"",
            "\nThe above exception was the direct cause of the following exception:\n",
            "\u001b[0;31mValueError\u001b[0m                                Traceback (most recent call last)",
            "\u001b[0;32m<timed exec>\u001b[0m in \u001b[0;36m<module>\u001b[0;34m\u001b[0m\n",
            "\u001b[0;32m/usr/local/lib/python3.8/dist-packages/sklearn/multioutput.py\u001b[0m in \u001b[0;36mfit\u001b[0;34m(self, X, Y, sample_weight, **fit_params)\u001b[0m\n\u001b[1;32m    432\u001b[0m             \u001b[0mReturns\u001b[0m \u001b[0ma\u001b[0m \u001b[0mfitted\u001b[0m \u001b[0minstance\u001b[0m\u001b[0;34m.\u001b[0m\u001b[0;34m\u001b[0m\u001b[0;34m\u001b[0m\u001b[0m\n\u001b[1;32m    433\u001b[0m         \"\"\"\n\u001b[0;32m--> 434\u001b[0;31m         \u001b[0msuper\u001b[0m\u001b[0;34m(\u001b[0m\u001b[0;34m)\u001b[0m\u001b[0;34m.\u001b[0m\u001b[0mfit\u001b[0m\u001b[0;34m(\u001b[0m\u001b[0mX\u001b[0m\u001b[0;34m,\u001b[0m \u001b[0mY\u001b[0m\u001b[0;34m,\u001b[0m \u001b[0msample_weight\u001b[0m\u001b[0;34m,\u001b[0m \u001b[0;34m**\u001b[0m\u001b[0mfit_params\u001b[0m\u001b[0;34m)\u001b[0m\u001b[0;34m\u001b[0m\u001b[0;34m\u001b[0m\u001b[0m\n\u001b[0m\u001b[1;32m    435\u001b[0m         \u001b[0mself\u001b[0m\u001b[0;34m.\u001b[0m\u001b[0mclasses_\u001b[0m \u001b[0;34m=\u001b[0m \u001b[0;34m[\u001b[0m\u001b[0mestimator\u001b[0m\u001b[0;34m.\u001b[0m\u001b[0mclasses_\u001b[0m \u001b[0;32mfor\u001b[0m \u001b[0mestimator\u001b[0m \u001b[0;32min\u001b[0m \u001b[0mself\u001b[0m\u001b[0;34m.\u001b[0m\u001b[0mestimators_\u001b[0m\u001b[0;34m]\u001b[0m\u001b[0;34m\u001b[0m\u001b[0;34m\u001b[0m\u001b[0m\n\u001b[1;32m    436\u001b[0m         \u001b[0;32mreturn\u001b[0m \u001b[0mself\u001b[0m\u001b[0;34m\u001b[0m\u001b[0;34m\u001b[0m\u001b[0m\n",
            "\u001b[0;32m/usr/local/lib/python3.8/dist-packages/sklearn/multioutput.py\u001b[0m in \u001b[0;36mfit\u001b[0;34m(self, X, y, sample_weight, **fit_params)\u001b[0m\n\u001b[1;32m    200\u001b[0m         \u001b[0mfit_params_validated\u001b[0m \u001b[0;34m=\u001b[0m \u001b[0m_check_fit_params\u001b[0m\u001b[0;34m(\u001b[0m\u001b[0mX\u001b[0m\u001b[0;34m,\u001b[0m \u001b[0mfit_params\u001b[0m\u001b[0;34m)\u001b[0m\u001b[0;34m\u001b[0m\u001b[0;34m\u001b[0m\u001b[0m\n\u001b[1;32m    201\u001b[0m \u001b[0;34m\u001b[0m\u001b[0m\n\u001b[0;32m--> 202\u001b[0;31m         self.estimators_ = Parallel(n_jobs=self.n_jobs)(\n\u001b[0m\u001b[1;32m    203\u001b[0m             delayed(_fit_estimator)(\n\u001b[1;32m    204\u001b[0m                 \u001b[0mself\u001b[0m\u001b[0;34m.\u001b[0m\u001b[0mestimator\u001b[0m\u001b[0;34m,\u001b[0m \u001b[0mX\u001b[0m\u001b[0;34m,\u001b[0m \u001b[0my\u001b[0m\u001b[0;34m[\u001b[0m\u001b[0;34m:\u001b[0m\u001b[0;34m,\u001b[0m \u001b[0mi\u001b[0m\u001b[0;34m]\u001b[0m\u001b[0;34m,\u001b[0m \u001b[0msample_weight\u001b[0m\u001b[0;34m,\u001b[0m \u001b[0;34m**\u001b[0m\u001b[0mfit_params_validated\u001b[0m\u001b[0;34m\u001b[0m\u001b[0;34m\u001b[0m\u001b[0m\n",
            "\u001b[0;32m/usr/local/lib/python3.8/dist-packages/joblib/parallel.py\u001b[0m in \u001b[0;36m__call__\u001b[0;34m(self, iterable)\u001b[0m\n\u001b[1;32m   1096\u001b[0m \u001b[0;34m\u001b[0m\u001b[0m\n\u001b[1;32m   1097\u001b[0m             \u001b[0;32mwith\u001b[0m \u001b[0mself\u001b[0m\u001b[0;34m.\u001b[0m\u001b[0m_backend\u001b[0m\u001b[0;34m.\u001b[0m\u001b[0mretrieval_context\u001b[0m\u001b[0;34m(\u001b[0m\u001b[0;34m)\u001b[0m\u001b[0;34m:\u001b[0m\u001b[0;34m\u001b[0m\u001b[0;34m\u001b[0m\u001b[0m\n\u001b[0;32m-> 1098\u001b[0;31m                 \u001b[0mself\u001b[0m\u001b[0;34m.\u001b[0m\u001b[0mretrieve\u001b[0m\u001b[0;34m(\u001b[0m\u001b[0;34m)\u001b[0m\u001b[0;34m\u001b[0m\u001b[0;34m\u001b[0m\u001b[0m\n\u001b[0m\u001b[1;32m   1099\u001b[0m             \u001b[0;31m# Make sure that we get a last message telling us we are done\u001b[0m\u001b[0;34m\u001b[0m\u001b[0;34m\u001b[0m\u001b[0;34m\u001b[0m\u001b[0m\n\u001b[1;32m   1100\u001b[0m             \u001b[0melapsed_time\u001b[0m \u001b[0;34m=\u001b[0m \u001b[0mtime\u001b[0m\u001b[0;34m.\u001b[0m\u001b[0mtime\u001b[0m\u001b[0;34m(\u001b[0m\u001b[0;34m)\u001b[0m \u001b[0;34m-\u001b[0m \u001b[0mself\u001b[0m\u001b[0;34m.\u001b[0m\u001b[0m_start_time\u001b[0m\u001b[0;34m\u001b[0m\u001b[0;34m\u001b[0m\u001b[0m\n",
            "\u001b[0;32m/usr/local/lib/python3.8/dist-packages/joblib/parallel.py\u001b[0m in \u001b[0;36mretrieve\u001b[0;34m(self)\u001b[0m\n\u001b[1;32m    973\u001b[0m             \u001b[0;32mtry\u001b[0m\u001b[0;34m:\u001b[0m\u001b[0;34m\u001b[0m\u001b[0;34m\u001b[0m\u001b[0m\n\u001b[1;32m    974\u001b[0m                 \u001b[0;32mif\u001b[0m \u001b[0mgetattr\u001b[0m\u001b[0;34m(\u001b[0m\u001b[0mself\u001b[0m\u001b[0;34m.\u001b[0m\u001b[0m_backend\u001b[0m\u001b[0;34m,\u001b[0m \u001b[0;34m'supports_timeout'\u001b[0m\u001b[0;34m,\u001b[0m \u001b[0;32mFalse\u001b[0m\u001b[0;34m)\u001b[0m\u001b[0;34m:\u001b[0m\u001b[0;34m\u001b[0m\u001b[0;34m\u001b[0m\u001b[0m\n\u001b[0;32m--> 975\u001b[0;31m                     \u001b[0mself\u001b[0m\u001b[0;34m.\u001b[0m\u001b[0m_output\u001b[0m\u001b[0;34m.\u001b[0m\u001b[0mextend\u001b[0m\u001b[0;34m(\u001b[0m\u001b[0mjob\u001b[0m\u001b[0;34m.\u001b[0m\u001b[0mget\u001b[0m\u001b[0;34m(\u001b[0m\u001b[0mtimeout\u001b[0m\u001b[0;34m=\u001b[0m\u001b[0mself\u001b[0m\u001b[0;34m.\u001b[0m\u001b[0mtimeout\u001b[0m\u001b[0;34m)\u001b[0m\u001b[0;34m)\u001b[0m\u001b[0;34m\u001b[0m\u001b[0;34m\u001b[0m\u001b[0m\n\u001b[0m\u001b[1;32m    976\u001b[0m                 \u001b[0;32melse\u001b[0m\u001b[0;34m:\u001b[0m\u001b[0;34m\u001b[0m\u001b[0;34m\u001b[0m\u001b[0m\n\u001b[1;32m    977\u001b[0m                     \u001b[0mself\u001b[0m\u001b[0;34m.\u001b[0m\u001b[0m_output\u001b[0m\u001b[0;34m.\u001b[0m\u001b[0mextend\u001b[0m\u001b[0;34m(\u001b[0m\u001b[0mjob\u001b[0m\u001b[0;34m.\u001b[0m\u001b[0mget\u001b[0m\u001b[0;34m(\u001b[0m\u001b[0;34m)\u001b[0m\u001b[0;34m)\u001b[0m\u001b[0;34m\u001b[0m\u001b[0;34m\u001b[0m\u001b[0m\n",
            "\u001b[0;32m/usr/local/lib/python3.8/dist-packages/joblib/_parallel_backends.py\u001b[0m in \u001b[0;36mwrap_future_result\u001b[0;34m(future, timeout)\u001b[0m\n\u001b[1;32m    565\u001b[0m         AsyncResults.get from multiprocessing.\"\"\"\n\u001b[1;32m    566\u001b[0m         \u001b[0;32mtry\u001b[0m\u001b[0;34m:\u001b[0m\u001b[0;34m\u001b[0m\u001b[0;34m\u001b[0m\u001b[0m\n\u001b[0;32m--> 567\u001b[0;31m             \u001b[0;32mreturn\u001b[0m \u001b[0mfuture\u001b[0m\u001b[0;34m.\u001b[0m\u001b[0mresult\u001b[0m\u001b[0;34m(\u001b[0m\u001b[0mtimeout\u001b[0m\u001b[0;34m=\u001b[0m\u001b[0mtimeout\u001b[0m\u001b[0;34m)\u001b[0m\u001b[0;34m\u001b[0m\u001b[0;34m\u001b[0m\u001b[0m\n\u001b[0m\u001b[1;32m    568\u001b[0m         \u001b[0;32mexcept\u001b[0m \u001b[0mCfTimeoutError\u001b[0m \u001b[0;32mas\u001b[0m \u001b[0me\u001b[0m\u001b[0;34m:\u001b[0m\u001b[0;34m\u001b[0m\u001b[0;34m\u001b[0m\u001b[0m\n\u001b[1;32m    569\u001b[0m             \u001b[0;32mraise\u001b[0m \u001b[0mTimeoutError\u001b[0m \u001b[0;32mfrom\u001b[0m \u001b[0me\u001b[0m\u001b[0;34m\u001b[0m\u001b[0;34m\u001b[0m\u001b[0m\n",
            "\u001b[0;32m/usr/lib/python3.8/concurrent/futures/_base.py\u001b[0m in \u001b[0;36mresult\u001b[0;34m(self, timeout)\u001b[0m\n\u001b[1;32m    442\u001b[0m                     \u001b[0;32mraise\u001b[0m \u001b[0mCancelledError\u001b[0m\u001b[0;34m(\u001b[0m\u001b[0;34m)\u001b[0m\u001b[0;34m\u001b[0m\u001b[0;34m\u001b[0m\u001b[0m\n\u001b[1;32m    443\u001b[0m                 \u001b[0;32melif\u001b[0m \u001b[0mself\u001b[0m\u001b[0;34m.\u001b[0m\u001b[0m_state\u001b[0m \u001b[0;34m==\u001b[0m \u001b[0mFINISHED\u001b[0m\u001b[0;34m:\u001b[0m\u001b[0;34m\u001b[0m\u001b[0;34m\u001b[0m\u001b[0m\n\u001b[0;32m--> 444\u001b[0;31m                     \u001b[0;32mreturn\u001b[0m \u001b[0mself\u001b[0m\u001b[0;34m.\u001b[0m\u001b[0m__get_result\u001b[0m\u001b[0;34m(\u001b[0m\u001b[0;34m)\u001b[0m\u001b[0;34m\u001b[0m\u001b[0;34m\u001b[0m\u001b[0m\n\u001b[0m\u001b[1;32m    445\u001b[0m                 \u001b[0;32melse\u001b[0m\u001b[0;34m:\u001b[0m\u001b[0;34m\u001b[0m\u001b[0;34m\u001b[0m\u001b[0m\n\u001b[1;32m    446\u001b[0m                     \u001b[0;32mraise\u001b[0m \u001b[0mTimeoutError\u001b[0m\u001b[0;34m(\u001b[0m\u001b[0;34m)\u001b[0m\u001b[0;34m\u001b[0m\u001b[0;34m\u001b[0m\u001b[0m\n",
            "\u001b[0;32m/usr/lib/python3.8/concurrent/futures/_base.py\u001b[0m in \u001b[0;36m__get_result\u001b[0;34m(self)\u001b[0m\n\u001b[1;32m    387\u001b[0m         \u001b[0;32mif\u001b[0m \u001b[0mself\u001b[0m\u001b[0;34m.\u001b[0m\u001b[0m_exception\u001b[0m\u001b[0;34m:\u001b[0m\u001b[0;34m\u001b[0m\u001b[0;34m\u001b[0m\u001b[0m\n\u001b[1;32m    388\u001b[0m             \u001b[0;32mtry\u001b[0m\u001b[0;34m:\u001b[0m\u001b[0;34m\u001b[0m\u001b[0;34m\u001b[0m\u001b[0m\n\u001b[0;32m--> 389\u001b[0;31m                 \u001b[0;32mraise\u001b[0m \u001b[0mself\u001b[0m\u001b[0;34m.\u001b[0m\u001b[0m_exception\u001b[0m\u001b[0;34m\u001b[0m\u001b[0;34m\u001b[0m\u001b[0m\n\u001b[0m\u001b[1;32m    390\u001b[0m             \u001b[0;32mfinally\u001b[0m\u001b[0;34m:\u001b[0m\u001b[0;34m\u001b[0m\u001b[0;34m\u001b[0m\u001b[0m\n\u001b[1;32m    391\u001b[0m                 \u001b[0;31m# Break a reference cycle with the exception in self._exception\u001b[0m\u001b[0;34m\u001b[0m\u001b[0;34m\u001b[0m\u001b[0;34m\u001b[0m\u001b[0m\n",
            "\u001b[0;31mValueError\u001b[0m: setting an array element with a sequence."
          ]
        }
      ]
    },
    {
      "cell_type": "code",
      "execution_count": null,
      "metadata": {
        "colab": {
          "base_uri": "https://localhost:8080/"
        },
        "outputId": "0ed8e44c-1056-4e57-8136-eeb57c351f59",
        "id": "5ldl-j6Yy7S-"
      },
      "outputs": [
        {
          "output_type": "stream",
          "name": "stdout",
          "text": [
            "CPU times: user 9.18 ms, sys: 1.96 ms, total: 11.1 ms\n",
            "Wall time: 19 ms\n"
          ]
        },
        {
          "output_type": "execute_result",
          "data": {
            "text/plain": [
              "array([['t_001a1575f24a', 'c_433f60c8c551'],\n",
              "       ['t_0008a1bd84ba', 'c_433f60c8c551'],\n",
              "       ['t_0008a1bd84ba', 'c_e1d73acfff8e'],\n",
              "       ['t_0008a1bd84ba', 'c_11a1dc0bfb99'],\n",
              "       ['t_0016fa92caf4', 'c_8790b074383e']], dtype=object)"
            ]
          },
          "metadata": {},
          "execution_count": 181
        }
      ],
      "source": [
        "%%time\n",
        "y_pred = multi_target_GB.predict (X_val)\n",
        "y_pred"
      ],
      "id": "5ldl-j6Yy7S-"
    },
    {
      "cell_type": "code",
      "source": [
        "model_scoring (y_train, y_pred)"
      ],
      "metadata": {
        "id": "yQFYZ9CefEJj"
      },
      "id": "yQFYZ9CefEJj",
      "execution_count": null,
      "outputs": []
    },
    {
      "cell_type": "markdown",
      "metadata": {
        "id": "3Kxpl147cveX"
      },
      "source": [
        "## Random Forest"
      ],
      "id": "3Kxpl147cveX"
    },
    {
      "cell_type": "code",
      "execution_count": null,
      "metadata": {
        "id": "cXjFHURTcwpj"
      },
      "outputs": [],
      "source": [],
      "id": "cXjFHURTcwpj"
    },
    {
      "cell_type": "markdown",
      "metadata": {
        "id": "ZM3DBy1hcy-8"
      },
      "source": [
        "## XsBoost"
      ],
      "id": "ZM3DBy1hcy-8"
    },
    {
      "cell_type": "code",
      "execution_count": null,
      "metadata": {
        "id": "l0gIr3Udc1pK"
      },
      "outputs": [],
      "source": [],
      "id": "l0gIr3Udc1pK"
    },
    {
      "cell_type": "markdown",
      "metadata": {
        "id": "GXRn9eJrc2dC"
      },
      "source": [
        "## GradientBoosting"
      ],
      "id": "GXRn9eJrc2dC"
    },
    {
      "cell_type": "code",
      "execution_count": null,
      "metadata": {
        "id": "y-i7-rqic5q5"
      },
      "outputs": [],
      "source": [],
      "id": "y-i7-rqic5q5"
    },
    {
      "cell_type": "markdown",
      "source": [
        "# Submissions"
      ],
      "metadata": {
        "id": "g4os2N5MGoK4"
      },
      "id": "g4os2N5MGoK4"
    },
    {
      "cell_type": "code",
      "source": [
        "# load 'correlations' data into pandas dataframe\n",
        "df_sample = pd.read_csv(f'{drive_path}sample_submission.csv')\n",
        "df_sample"
      ],
      "metadata": {
        "colab": {
          "base_uri": "https://localhost:8080/",
          "height": 206
        },
        "id": "ZGHXkiO0GpfY",
        "outputId": "175cae11-0308-4238-e107-893a91171f51"
      },
      "id": "ZGHXkiO0GpfY",
      "execution_count": null,
      "outputs": [
        {
          "output_type": "execute_result",
          "data": {
            "text/plain": [
              "         topic_id                                        content_ids\n",
              "0  t_00004da3a1b2  c_1108dd0c7a5d c_376c5a8eb028 c_5bc0e1e2cba0 c...\n",
              "1  t_00068291e9a4  c_639ea2ef9c95 c_89ce9367be10 c_ac1672cdcd2c c...\n",
              "2  t_00069b63a70a                                     c_11a1dc0bfb99\n",
              "3  t_0006d41a73a8  c_0c6473c3480d c_1c57a1316568 c_5e375cf14c47 c...\n",
              "4  t_4054df11a74e                      c_3695c5dc1df6 c_f2d184a98231"
            ],
            "text/html": [
              "\n",
              "  <div id=\"df-043c9b2f-36a3-438a-b9ee-6fce6771f7b1\">\n",
              "    <div class=\"colab-df-container\">\n",
              "      <div>\n",
              "<style scoped>\n",
              "    .dataframe tbody tr th:only-of-type {\n",
              "        vertical-align: middle;\n",
              "    }\n",
              "\n",
              "    .dataframe tbody tr th {\n",
              "        vertical-align: top;\n",
              "    }\n",
              "\n",
              "    .dataframe thead th {\n",
              "        text-align: right;\n",
              "    }\n",
              "</style>\n",
              "<table border=\"1\" class=\"dataframe\">\n",
              "  <thead>\n",
              "    <tr style=\"text-align: right;\">\n",
              "      <th></th>\n",
              "      <th>topic_id</th>\n",
              "      <th>content_ids</th>\n",
              "    </tr>\n",
              "  </thead>\n",
              "  <tbody>\n",
              "    <tr>\n",
              "      <th>0</th>\n",
              "      <td>t_00004da3a1b2</td>\n",
              "      <td>c_1108dd0c7a5d c_376c5a8eb028 c_5bc0e1e2cba0 c...</td>\n",
              "    </tr>\n",
              "    <tr>\n",
              "      <th>1</th>\n",
              "      <td>t_00068291e9a4</td>\n",
              "      <td>c_639ea2ef9c95 c_89ce9367be10 c_ac1672cdcd2c c...</td>\n",
              "    </tr>\n",
              "    <tr>\n",
              "      <th>2</th>\n",
              "      <td>t_00069b63a70a</td>\n",
              "      <td>c_11a1dc0bfb99</td>\n",
              "    </tr>\n",
              "    <tr>\n",
              "      <th>3</th>\n",
              "      <td>t_0006d41a73a8</td>\n",
              "      <td>c_0c6473c3480d c_1c57a1316568 c_5e375cf14c47 c...</td>\n",
              "    </tr>\n",
              "    <tr>\n",
              "      <th>4</th>\n",
              "      <td>t_4054df11a74e</td>\n",
              "      <td>c_3695c5dc1df6 c_f2d184a98231</td>\n",
              "    </tr>\n",
              "  </tbody>\n",
              "</table>\n",
              "</div>\n",
              "      <button class=\"colab-df-convert\" onclick=\"convertToInteractive('df-043c9b2f-36a3-438a-b9ee-6fce6771f7b1')\"\n",
              "              title=\"Convert this dataframe to an interactive table.\"\n",
              "              style=\"display:none;\">\n",
              "        \n",
              "  <svg xmlns=\"http://www.w3.org/2000/svg\" height=\"24px\"viewBox=\"0 0 24 24\"\n",
              "       width=\"24px\">\n",
              "    <path d=\"M0 0h24v24H0V0z\" fill=\"none\"/>\n",
              "    <path d=\"M18.56 5.44l.94 2.06.94-2.06 2.06-.94-2.06-.94-.94-2.06-.94 2.06-2.06.94zm-11 1L8.5 8.5l.94-2.06 2.06-.94-2.06-.94L8.5 2.5l-.94 2.06-2.06.94zm10 10l.94 2.06.94-2.06 2.06-.94-2.06-.94-.94-2.06-.94 2.06-2.06.94z\"/><path d=\"M17.41 7.96l-1.37-1.37c-.4-.4-.92-.59-1.43-.59-.52 0-1.04.2-1.43.59L10.3 9.45l-7.72 7.72c-.78.78-.78 2.05 0 2.83L4 21.41c.39.39.9.59 1.41.59.51 0 1.02-.2 1.41-.59l7.78-7.78 2.81-2.81c.8-.78.8-2.07 0-2.86zM5.41 20L4 18.59l7.72-7.72 1.47 1.35L5.41 20z\"/>\n",
              "  </svg>\n",
              "      </button>\n",
              "      \n",
              "  <style>\n",
              "    .colab-df-container {\n",
              "      display:flex;\n",
              "      flex-wrap:wrap;\n",
              "      gap: 12px;\n",
              "    }\n",
              "\n",
              "    .colab-df-convert {\n",
              "      background-color: #E8F0FE;\n",
              "      border: none;\n",
              "      border-radius: 50%;\n",
              "      cursor: pointer;\n",
              "      display: none;\n",
              "      fill: #1967D2;\n",
              "      height: 32px;\n",
              "      padding: 0 0 0 0;\n",
              "      width: 32px;\n",
              "    }\n",
              "\n",
              "    .colab-df-convert:hover {\n",
              "      background-color: #E2EBFA;\n",
              "      box-shadow: 0px 1px 2px rgba(60, 64, 67, 0.3), 0px 1px 3px 1px rgba(60, 64, 67, 0.15);\n",
              "      fill: #174EA6;\n",
              "    }\n",
              "\n",
              "    [theme=dark] .colab-df-convert {\n",
              "      background-color: #3B4455;\n",
              "      fill: #D2E3FC;\n",
              "    }\n",
              "\n",
              "    [theme=dark] .colab-df-convert:hover {\n",
              "      background-color: #434B5C;\n",
              "      box-shadow: 0px 1px 3px 1px rgba(0, 0, 0, 0.15);\n",
              "      filter: drop-shadow(0px 1px 2px rgba(0, 0, 0, 0.3));\n",
              "      fill: #FFFFFF;\n",
              "    }\n",
              "  </style>\n",
              "\n",
              "      <script>\n",
              "        const buttonEl =\n",
              "          document.querySelector('#df-043c9b2f-36a3-438a-b9ee-6fce6771f7b1 button.colab-df-convert');\n",
              "        buttonEl.style.display =\n",
              "          google.colab.kernel.accessAllowed ? 'block' : 'none';\n",
              "\n",
              "        async function convertToInteractive(key) {\n",
              "          const element = document.querySelector('#df-043c9b2f-36a3-438a-b9ee-6fce6771f7b1');\n",
              "          const dataTable =\n",
              "            await google.colab.kernel.invokeFunction('convertToInteractive',\n",
              "                                                     [key], {});\n",
              "          if (!dataTable) return;\n",
              "\n",
              "          const docLinkHtml = 'Like what you see? Visit the ' +\n",
              "            '<a target=\"_blank\" href=https://colab.research.google.com/notebooks/data_table.ipynb>data table notebook</a>'\n",
              "            + ' to learn more about interactive tables.';\n",
              "          element.innerHTML = '';\n",
              "          dataTable['output_type'] = 'display_data';\n",
              "          await google.colab.output.renderOutput(dataTable, element);\n",
              "          const docLink = document.createElement('div');\n",
              "          docLink.innerHTML = docLinkHtml;\n",
              "          element.appendChild(docLink);\n",
              "        }\n",
              "      </script>\n",
              "    </div>\n",
              "  </div>\n",
              "  "
            ]
          },
          "metadata": {},
          "execution_count": 186
        }
      ]
    },
    {
      "cell_type": "code",
      "source": [],
      "metadata": {
        "id": "8qMs56xlGurY"
      },
      "id": "8qMs56xlGurY",
      "execution_count": null,
      "outputs": []
    }
  ],
  "metadata": {
    "colab": {
      "collapsed_sections": [
        "88080462",
        "e44162a6",
        "d827eb0b",
        "de5f7ef4",
        "b86e3e62",
        "e2cc9cb4",
        "eb712db6",
        "e55f4587",
        "PGb4tvZm26GS",
        "FJLGLdJ-wKZI",
        "UGfLE-eRwTyT",
        "CP4lmcnV20yH",
        "rjw9Pdqqlzdp",
        "Hwk6JtmRbn42",
        "WmkMQLZHaDmd",
        "m-sO4fCibFIb",
        "d38b43db",
        "mWXqw0LbeCf6",
        "38c995e2",
        "2wh9G7F8csoa",
        "3Kxpl147cveX",
        "ZM3DBy1hcy-8",
        "GXRn9eJrc2dC",
        "g4os2N5MGoK4"
      ],
      "provenance": [],
      "include_colab_link": true
    },
    "gpuClass": "standard",
    "kernelspec": {
      "display_name": "Python 3 (ipykernel)",
      "language": "python",
      "name": "python3"
    },
    "language_info": {
      "codemirror_mode": {
        "name": "ipython",
        "version": 3
      },
      "file_extension": ".py",
      "mimetype": "text/x-python",
      "name": "python",
      "nbconvert_exporter": "python",
      "pygments_lexer": "ipython3",
      "version": "3.10.6"
    },
    "toc": {
      "base_numbering": 1,
      "nav_menu": {},
      "number_sections": true,
      "sideBar": true,
      "skip_h1_title": false,
      "title_cell": "Table of Contents",
      "title_sidebar": "Contents",
      "toc_cell": false,
      "toc_position": {},
      "toc_section_display": true,
      "toc_window_display": false
    }
  },
  "nbformat": 4,
  "nbformat_minor": 5
}